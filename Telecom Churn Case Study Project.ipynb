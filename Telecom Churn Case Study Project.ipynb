{
 "cells": [
  {
   "cell_type": "markdown",
   "metadata": {},
   "source": [
    "# Telecom Churn Case Study"
   ]
  },
  {
   "cell_type": "markdown",
   "metadata": {},
   "source": [
    "### Problem Statement:\n",
    "In the telecom industry, customers are able to choose from multiple service providers and actively switch from one operator to another. In this highly competitive market, the telecommunications industry experiences an average of 15-25% annual churn rate. Given the fact that it costs 5-10 times more to acquire a new customer than to retain an existing one, customer retention has now become even more important than customer acquisition.\n",
    "\n",
    "The goal is to reduce customer churn and for that telecom companies need to predict which customers are at high risk of churn. In this project, we will analyze customer-level data of a leading telecom firm, build predictive models to identify customers at high risk of churn."
   ]
  },
  {
   "cell_type": "markdown",
   "metadata": {},
   "source": [
    "### Step 1: Reading and Understanding the data:"
   ]
  },
  {
   "cell_type": "code",
   "execution_count": 1,
   "metadata": {
    "execution": {
     "iopub.execute_input": "2022-07-30T20:35:51.330869Z",
     "iopub.status.busy": "2022-07-30T20:35:51.330372Z",
     "iopub.status.idle": "2022-07-30T20:35:53.475923Z",
     "shell.execute_reply": "2022-07-30T20:35:53.474723Z",
     "shell.execute_reply.started": "2022-07-30T20:35:51.330778Z"
    }
   },
   "outputs": [],
   "source": [
    "import numpy as np\n",
    "import pandas as pd\n",
    "import seaborn as sns\n",
    "import matplotlib.pyplot as plt\n",
    "import plotly.express as px\n",
    "\n",
    "#Feature Engineering\n",
    "from sklearn.model_selection import train_test_split\n",
    "from sklearn.preprocessing import StandardScaler\n",
    "\n",
    "#Modelling\n",
    "from sklearn.linear_model import LinearRegression\n",
    "from sklearn.tree import DecisionTreeClassifier\n",
    "from sklearn.ensemble import RandomForestClassifier\n",
    "\n",
    "from sklearn.linear_model import LogisticRegression\n",
    "\n",
    "#Evaluation\n",
    "from sklearn.metrics import accuracy_score, precision_score, recall_score, f1_score, cohen_kappa_score, roc_auc_score, confusion_matrix\n",
    "from sklearn.metrics import classification_report\n",
    "\n",
    "import os\n",
    "import warnings\n",
    "warnings.filterwarnings('ignore')"
   ]
  },
  {
   "cell_type": "code",
   "execution_count": 2,
   "metadata": {
    "execution": {
     "iopub.execute_input": "2022-07-30T20:35:53.478501Z",
     "iopub.status.busy": "2022-07-30T20:35:53.478036Z",
     "iopub.status.idle": "2022-07-30T20:35:55.611505Z",
     "shell.execute_reply": "2022-07-30T20:35:55.610055Z",
     "shell.execute_reply.started": "2022-07-30T20:35:53.478468Z"
    }
   },
   "outputs": [],
   "source": [
    "df = pd.read_csv('train (1).csv')"
   ]
  },
  {
   "cell_type": "code",
   "execution_count": 3,
   "metadata": {
    "execution": {
     "iopub.execute_input": "2022-07-30T20:35:55.613352Z",
     "iopub.status.busy": "2022-07-30T20:35:55.613010Z",
     "iopub.status.idle": "2022-07-30T20:35:55.657770Z",
     "shell.execute_reply": "2022-07-30T20:35:55.656316Z",
     "shell.execute_reply.started": "2022-07-30T20:35:55.613320Z"
    }
   },
   "outputs": [
    {
     "data": {
      "text/html": [
       "<div>\n",
       "<style scoped>\n",
       "    .dataframe tbody tr th:only-of-type {\n",
       "        vertical-align: middle;\n",
       "    }\n",
       "\n",
       "    .dataframe tbody tr th {\n",
       "        vertical-align: top;\n",
       "    }\n",
       "\n",
       "    .dataframe thead th {\n",
       "        text-align: right;\n",
       "    }\n",
       "</style>\n",
       "<table border=\"1\" class=\"dataframe\">\n",
       "  <thead>\n",
       "    <tr style=\"text-align: right;\">\n",
       "      <th></th>\n",
       "      <th>id</th>\n",
       "      <th>circle_id</th>\n",
       "      <th>loc_og_t2o_mou</th>\n",
       "      <th>std_og_t2o_mou</th>\n",
       "      <th>loc_ic_t2o_mou</th>\n",
       "      <th>last_date_of_month_6</th>\n",
       "      <th>last_date_of_month_7</th>\n",
       "      <th>last_date_of_month_8</th>\n",
       "      <th>arpu_6</th>\n",
       "      <th>arpu_7</th>\n",
       "      <th>...</th>\n",
       "      <th>sachet_3g_7</th>\n",
       "      <th>sachet_3g_8</th>\n",
       "      <th>fb_user_6</th>\n",
       "      <th>fb_user_7</th>\n",
       "      <th>fb_user_8</th>\n",
       "      <th>aon</th>\n",
       "      <th>aug_vbc_3g</th>\n",
       "      <th>jul_vbc_3g</th>\n",
       "      <th>jun_vbc_3g</th>\n",
       "      <th>churn_probability</th>\n",
       "    </tr>\n",
       "  </thead>\n",
       "  <tbody>\n",
       "    <tr>\n",
       "      <th>0</th>\n",
       "      <td>0</td>\n",
       "      <td>109</td>\n",
       "      <td>0.0</td>\n",
       "      <td>0.0</td>\n",
       "      <td>0.0</td>\n",
       "      <td>6/30/2014</td>\n",
       "      <td>7/31/2014</td>\n",
       "      <td>8/31/2014</td>\n",
       "      <td>31.277</td>\n",
       "      <td>87.009</td>\n",
       "      <td>...</td>\n",
       "      <td>0</td>\n",
       "      <td>0</td>\n",
       "      <td>NaN</td>\n",
       "      <td>NaN</td>\n",
       "      <td>NaN</td>\n",
       "      <td>1958</td>\n",
       "      <td>0.0</td>\n",
       "      <td>0.0</td>\n",
       "      <td>0.0</td>\n",
       "      <td>0</td>\n",
       "    </tr>\n",
       "    <tr>\n",
       "      <th>1</th>\n",
       "      <td>1</td>\n",
       "      <td>109</td>\n",
       "      <td>0.0</td>\n",
       "      <td>0.0</td>\n",
       "      <td>0.0</td>\n",
       "      <td>6/30/2014</td>\n",
       "      <td>7/31/2014</td>\n",
       "      <td>8/31/2014</td>\n",
       "      <td>0.000</td>\n",
       "      <td>122.787</td>\n",
       "      <td>...</td>\n",
       "      <td>0</td>\n",
       "      <td>0</td>\n",
       "      <td>NaN</td>\n",
       "      <td>1.0</td>\n",
       "      <td>NaN</td>\n",
       "      <td>710</td>\n",
       "      <td>0.0</td>\n",
       "      <td>0.0</td>\n",
       "      <td>0.0</td>\n",
       "      <td>0</td>\n",
       "    </tr>\n",
       "    <tr>\n",
       "      <th>2</th>\n",
       "      <td>2</td>\n",
       "      <td>109</td>\n",
       "      <td>0.0</td>\n",
       "      <td>0.0</td>\n",
       "      <td>0.0</td>\n",
       "      <td>6/30/2014</td>\n",
       "      <td>7/31/2014</td>\n",
       "      <td>8/31/2014</td>\n",
       "      <td>60.806</td>\n",
       "      <td>103.176</td>\n",
       "      <td>...</td>\n",
       "      <td>0</td>\n",
       "      <td>0</td>\n",
       "      <td>NaN</td>\n",
       "      <td>NaN</td>\n",
       "      <td>NaN</td>\n",
       "      <td>882</td>\n",
       "      <td>0.0</td>\n",
       "      <td>0.0</td>\n",
       "      <td>0.0</td>\n",
       "      <td>0</td>\n",
       "    </tr>\n",
       "    <tr>\n",
       "      <th>3</th>\n",
       "      <td>3</td>\n",
       "      <td>109</td>\n",
       "      <td>0.0</td>\n",
       "      <td>0.0</td>\n",
       "      <td>0.0</td>\n",
       "      <td>6/30/2014</td>\n",
       "      <td>7/31/2014</td>\n",
       "      <td>8/31/2014</td>\n",
       "      <td>156.362</td>\n",
       "      <td>205.260</td>\n",
       "      <td>...</td>\n",
       "      <td>0</td>\n",
       "      <td>0</td>\n",
       "      <td>NaN</td>\n",
       "      <td>NaN</td>\n",
       "      <td>NaN</td>\n",
       "      <td>982</td>\n",
       "      <td>0.0</td>\n",
       "      <td>0.0</td>\n",
       "      <td>0.0</td>\n",
       "      <td>0</td>\n",
       "    </tr>\n",
       "    <tr>\n",
       "      <th>4</th>\n",
       "      <td>4</td>\n",
       "      <td>109</td>\n",
       "      <td>0.0</td>\n",
       "      <td>0.0</td>\n",
       "      <td>0.0</td>\n",
       "      <td>6/30/2014</td>\n",
       "      <td>7/31/2014</td>\n",
       "      <td>8/31/2014</td>\n",
       "      <td>240.708</td>\n",
       "      <td>128.191</td>\n",
       "      <td>...</td>\n",
       "      <td>1</td>\n",
       "      <td>0</td>\n",
       "      <td>1.0</td>\n",
       "      <td>1.0</td>\n",
       "      <td>1.0</td>\n",
       "      <td>647</td>\n",
       "      <td>0.0</td>\n",
       "      <td>0.0</td>\n",
       "      <td>0.0</td>\n",
       "      <td>0</td>\n",
       "    </tr>\n",
       "  </tbody>\n",
       "</table>\n",
       "<p>5 rows × 172 columns</p>\n",
       "</div>"
      ],
      "text/plain": [
       "   id  circle_id  loc_og_t2o_mou  std_og_t2o_mou  loc_ic_t2o_mou  \\\n",
       "0   0        109             0.0             0.0             0.0   \n",
       "1   1        109             0.0             0.0             0.0   \n",
       "2   2        109             0.0             0.0             0.0   \n",
       "3   3        109             0.0             0.0             0.0   \n",
       "4   4        109             0.0             0.0             0.0   \n",
       "\n",
       "  last_date_of_month_6 last_date_of_month_7 last_date_of_month_8   arpu_6  \\\n",
       "0            6/30/2014            7/31/2014            8/31/2014   31.277   \n",
       "1            6/30/2014            7/31/2014            8/31/2014    0.000   \n",
       "2            6/30/2014            7/31/2014            8/31/2014   60.806   \n",
       "3            6/30/2014            7/31/2014            8/31/2014  156.362   \n",
       "4            6/30/2014            7/31/2014            8/31/2014  240.708   \n",
       "\n",
       "    arpu_7  ...  sachet_3g_7  sachet_3g_8  fb_user_6  fb_user_7  fb_user_8  \\\n",
       "0   87.009  ...            0            0        NaN        NaN        NaN   \n",
       "1  122.787  ...            0            0        NaN        1.0        NaN   \n",
       "2  103.176  ...            0            0        NaN        NaN        NaN   \n",
       "3  205.260  ...            0            0        NaN        NaN        NaN   \n",
       "4  128.191  ...            1            0        1.0        1.0        1.0   \n",
       "\n",
       "    aon  aug_vbc_3g  jul_vbc_3g  jun_vbc_3g  churn_probability  \n",
       "0  1958         0.0         0.0         0.0                  0  \n",
       "1   710         0.0         0.0         0.0                  0  \n",
       "2   882         0.0         0.0         0.0                  0  \n",
       "3   982         0.0         0.0         0.0                  0  \n",
       "4   647         0.0         0.0         0.0                  0  \n",
       "\n",
       "[5 rows x 172 columns]"
      ]
     },
     "execution_count": 3,
     "metadata": {},
     "output_type": "execute_result"
    }
   ],
   "source": [
    "df.head()"
   ]
  },
  {
   "cell_type": "code",
   "execution_count": 4,
   "metadata": {
    "execution": {
     "iopub.execute_input": "2022-07-30T20:35:55.660559Z",
     "iopub.status.busy": "2022-07-30T20:35:55.660027Z",
     "iopub.status.idle": "2022-07-30T20:35:55.690434Z",
     "shell.execute_reply": "2022-07-30T20:35:55.689108Z",
     "shell.execute_reply.started": "2022-07-30T20:35:55.660517Z"
    }
   },
   "outputs": [
    {
     "name": "stdout",
     "output_type": "stream",
     "text": [
      "<class 'pandas.core.frame.DataFrame'>\n",
      "RangeIndex: 69999 entries, 0 to 69998\n",
      "Columns: 172 entries, id to churn_probability\n",
      "dtypes: float64(135), int64(28), object(9)\n",
      "memory usage: 91.9+ MB\n"
     ]
    }
   ],
   "source": [
    "df.info()"
   ]
  },
  {
   "cell_type": "code",
   "execution_count": 5,
   "metadata": {
    "execution": {
     "iopub.execute_input": "2022-07-30T20:35:55.692772Z",
     "iopub.status.busy": "2022-07-30T20:35:55.692143Z",
     "iopub.status.idle": "2022-07-30T20:35:56.540158Z",
     "shell.execute_reply": "2022-07-30T20:35:56.539031Z",
     "shell.execute_reply.started": "2022-07-30T20:35:55.692728Z"
    },
    "scrolled": true
   },
   "outputs": [
    {
     "data": {
      "text/html": [
       "<div>\n",
       "<style scoped>\n",
       "    .dataframe tbody tr th:only-of-type {\n",
       "        vertical-align: middle;\n",
       "    }\n",
       "\n",
       "    .dataframe tbody tr th {\n",
       "        vertical-align: top;\n",
       "    }\n",
       "\n",
       "    .dataframe thead th {\n",
       "        text-align: right;\n",
       "    }\n",
       "</style>\n",
       "<table border=\"1\" class=\"dataframe\">\n",
       "  <thead>\n",
       "    <tr style=\"text-align: right;\">\n",
       "      <th></th>\n",
       "      <th>count</th>\n",
       "      <th>mean</th>\n",
       "      <th>std</th>\n",
       "      <th>min</th>\n",
       "      <th>25%</th>\n",
       "      <th>50%</th>\n",
       "      <th>75%</th>\n",
       "      <th>max</th>\n",
       "    </tr>\n",
       "  </thead>\n",
       "  <tbody>\n",
       "    <tr>\n",
       "      <th>id</th>\n",
       "      <td>69999.0</td>\n",
       "      <td>34999.000000</td>\n",
       "      <td>20207.115084</td>\n",
       "      <td>0.0</td>\n",
       "      <td>17499.5</td>\n",
       "      <td>34999.0</td>\n",
       "      <td>52498.5</td>\n",
       "      <td>69998.00</td>\n",
       "    </tr>\n",
       "    <tr>\n",
       "      <th>circle_id</th>\n",
       "      <td>69999.0</td>\n",
       "      <td>109.000000</td>\n",
       "      <td>0.000000</td>\n",
       "      <td>109.0</td>\n",
       "      <td>109.0</td>\n",
       "      <td>109.0</td>\n",
       "      <td>109.0</td>\n",
       "      <td>109.00</td>\n",
       "    </tr>\n",
       "    <tr>\n",
       "      <th>loc_og_t2o_mou</th>\n",
       "      <td>69297.0</td>\n",
       "      <td>0.000000</td>\n",
       "      <td>0.000000</td>\n",
       "      <td>0.0</td>\n",
       "      <td>0.0</td>\n",
       "      <td>0.0</td>\n",
       "      <td>0.0</td>\n",
       "      <td>0.00</td>\n",
       "    </tr>\n",
       "    <tr>\n",
       "      <th>std_og_t2o_mou</th>\n",
       "      <td>69297.0</td>\n",
       "      <td>0.000000</td>\n",
       "      <td>0.000000</td>\n",
       "      <td>0.0</td>\n",
       "      <td>0.0</td>\n",
       "      <td>0.0</td>\n",
       "      <td>0.0</td>\n",
       "      <td>0.00</td>\n",
       "    </tr>\n",
       "    <tr>\n",
       "      <th>loc_ic_t2o_mou</th>\n",
       "      <td>69297.0</td>\n",
       "      <td>0.000000</td>\n",
       "      <td>0.000000</td>\n",
       "      <td>0.0</td>\n",
       "      <td>0.0</td>\n",
       "      <td>0.0</td>\n",
       "      <td>0.0</td>\n",
       "      <td>0.00</td>\n",
       "    </tr>\n",
       "    <tr>\n",
       "      <th>...</th>\n",
       "      <td>...</td>\n",
       "      <td>...</td>\n",
       "      <td>...</td>\n",
       "      <td>...</td>\n",
       "      <td>...</td>\n",
       "      <td>...</td>\n",
       "      <td>...</td>\n",
       "      <td>...</td>\n",
       "    </tr>\n",
       "    <tr>\n",
       "      <th>aon</th>\n",
       "      <td>69999.0</td>\n",
       "      <td>1220.639709</td>\n",
       "      <td>952.426321</td>\n",
       "      <td>180.0</td>\n",
       "      <td>468.0</td>\n",
       "      <td>868.0</td>\n",
       "      <td>1813.0</td>\n",
       "      <td>4337.00</td>\n",
       "    </tr>\n",
       "    <tr>\n",
       "      <th>aug_vbc_3g</th>\n",
       "      <td>69999.0</td>\n",
       "      <td>68.108597</td>\n",
       "      <td>269.328659</td>\n",
       "      <td>0.0</td>\n",
       "      <td>0.0</td>\n",
       "      <td>0.0</td>\n",
       "      <td>0.0</td>\n",
       "      <td>12916.22</td>\n",
       "    </tr>\n",
       "    <tr>\n",
       "      <th>jul_vbc_3g</th>\n",
       "      <td>69999.0</td>\n",
       "      <td>65.935830</td>\n",
       "      <td>267.899034</td>\n",
       "      <td>0.0</td>\n",
       "      <td>0.0</td>\n",
       "      <td>0.0</td>\n",
       "      <td>0.0</td>\n",
       "      <td>9165.60</td>\n",
       "    </tr>\n",
       "    <tr>\n",
       "      <th>jun_vbc_3g</th>\n",
       "      <td>69999.0</td>\n",
       "      <td>60.076740</td>\n",
       "      <td>257.226810</td>\n",
       "      <td>0.0</td>\n",
       "      <td>0.0</td>\n",
       "      <td>0.0</td>\n",
       "      <td>0.0</td>\n",
       "      <td>11166.21</td>\n",
       "    </tr>\n",
       "    <tr>\n",
       "      <th>churn_probability</th>\n",
       "      <td>69999.0</td>\n",
       "      <td>0.101887</td>\n",
       "      <td>0.302502</td>\n",
       "      <td>0.0</td>\n",
       "      <td>0.0</td>\n",
       "      <td>0.0</td>\n",
       "      <td>0.0</td>\n",
       "      <td>1.00</td>\n",
       "    </tr>\n",
       "  </tbody>\n",
       "</table>\n",
       "<p>163 rows × 8 columns</p>\n",
       "</div>"
      ],
      "text/plain": [
       "                     count          mean           std    min      25%  \\\n",
       "id                 69999.0  34999.000000  20207.115084    0.0  17499.5   \n",
       "circle_id          69999.0    109.000000      0.000000  109.0    109.0   \n",
       "loc_og_t2o_mou     69297.0      0.000000      0.000000    0.0      0.0   \n",
       "std_og_t2o_mou     69297.0      0.000000      0.000000    0.0      0.0   \n",
       "loc_ic_t2o_mou     69297.0      0.000000      0.000000    0.0      0.0   \n",
       "...                    ...           ...           ...    ...      ...   \n",
       "aon                69999.0   1220.639709    952.426321  180.0    468.0   \n",
       "aug_vbc_3g         69999.0     68.108597    269.328659    0.0      0.0   \n",
       "jul_vbc_3g         69999.0     65.935830    267.899034    0.0      0.0   \n",
       "jun_vbc_3g         69999.0     60.076740    257.226810    0.0      0.0   \n",
       "churn_probability  69999.0      0.101887      0.302502    0.0      0.0   \n",
       "\n",
       "                       50%      75%       max  \n",
       "id                 34999.0  52498.5  69998.00  \n",
       "circle_id            109.0    109.0    109.00  \n",
       "loc_og_t2o_mou         0.0      0.0      0.00  \n",
       "std_og_t2o_mou         0.0      0.0      0.00  \n",
       "loc_ic_t2o_mou         0.0      0.0      0.00  \n",
       "...                    ...      ...       ...  \n",
       "aon                  868.0   1813.0   4337.00  \n",
       "aug_vbc_3g             0.0      0.0  12916.22  \n",
       "jul_vbc_3g             0.0      0.0   9165.60  \n",
       "jun_vbc_3g             0.0      0.0  11166.21  \n",
       "churn_probability      0.0      0.0      1.00  \n",
       "\n",
       "[163 rows x 8 columns]"
      ]
     },
     "execution_count": 5,
     "metadata": {},
     "output_type": "execute_result"
    }
   ],
   "source": [
    "df.describe().T"
   ]
  },
  {
   "cell_type": "code",
   "execution_count": 6,
   "metadata": {
    "execution": {
     "iopub.execute_input": "2022-07-30T20:35:56.542557Z",
     "iopub.status.busy": "2022-07-30T20:35:56.541875Z",
     "iopub.status.idle": "2022-07-30T20:35:56.550642Z",
     "shell.execute_reply": "2022-07-30T20:35:56.549456Z",
     "shell.execute_reply.started": "2022-07-30T20:35:56.542513Z"
    }
   },
   "outputs": [
    {
     "data": {
      "text/plain": [
       "(69999, 172)"
      ]
     },
     "execution_count": 6,
     "metadata": {},
     "output_type": "execute_result"
    }
   ],
   "source": [
    "df.shape"
   ]
  },
  {
   "cell_type": "markdown",
   "metadata": {},
   "source": [
    "### Step 2: Data Cleaning:"
   ]
  },
  {
   "cell_type": "markdown",
   "metadata": {},
   "source": [
    "### Let's check null values percentage present in various columns:"
   ]
  },
  {
   "cell_type": "code",
   "execution_count": 7,
   "metadata": {
    "execution": {
     "iopub.execute_input": "2022-07-30T20:35:56.552894Z",
     "iopub.status.busy": "2022-07-30T20:35:56.552303Z",
     "iopub.status.idle": "2022-07-30T20:35:56.646052Z",
     "shell.execute_reply": "2022-07-30T20:35:56.644983Z",
     "shell.execute_reply.started": "2022-07-30T20:35:56.552847Z"
    },
    "scrolled": true
   },
   "outputs": [
    {
     "name": "stdout",
     "output_type": "stream",
     "text": [
      "id : 0.00\n",
      "circle_id : 0.00\n",
      "loc_og_t2o_mou : 1.00\n",
      "std_og_t2o_mou : 1.00\n",
      "loc_ic_t2o_mou : 1.00\n",
      "last_date_of_month_6 : 0.00\n",
      "last_date_of_month_7 : 0.57\n",
      "last_date_of_month_8 : 1.05\n",
      "arpu_6 : 0.00\n",
      "arpu_7 : 0.00\n",
      "arpu_8 : 0.00\n",
      "onnet_mou_6 : 3.95\n",
      "onnet_mou_7 : 3.84\n",
      "onnet_mou_8 : 5.29\n",
      "offnet_mou_6 : 3.95\n",
      "offnet_mou_7 : 3.84\n",
      "offnet_mou_8 : 5.29\n",
      "roam_ic_mou_6 : 3.95\n",
      "roam_ic_mou_7 : 3.84\n",
      "roam_ic_mou_8 : 5.29\n",
      "roam_og_mou_6 : 3.95\n",
      "roam_og_mou_7 : 3.84\n",
      "roam_og_mou_8 : 5.29\n",
      "loc_og_t2t_mou_6 : 3.95\n",
      "loc_og_t2t_mou_7 : 3.84\n",
      "loc_og_t2t_mou_8 : 5.29\n",
      "loc_og_t2m_mou_6 : 3.95\n",
      "loc_og_t2m_mou_7 : 3.84\n",
      "loc_og_t2m_mou_8 : 5.29\n",
      "loc_og_t2f_mou_6 : 3.95\n",
      "loc_og_t2f_mou_7 : 3.84\n",
      "loc_og_t2f_mou_8 : 5.29\n",
      "loc_og_t2c_mou_6 : 3.95\n",
      "loc_og_t2c_mou_7 : 3.84\n",
      "loc_og_t2c_mou_8 : 5.29\n",
      "loc_og_mou_6 : 3.95\n",
      "loc_og_mou_7 : 3.84\n",
      "loc_og_mou_8 : 5.29\n",
      "std_og_t2t_mou_6 : 3.95\n",
      "std_og_t2t_mou_7 : 3.84\n",
      "std_og_t2t_mou_8 : 5.29\n",
      "std_og_t2m_mou_6 : 3.95\n",
      "std_og_t2m_mou_7 : 3.84\n",
      "std_og_t2m_mou_8 : 5.29\n",
      "std_og_t2f_mou_6 : 3.95\n",
      "std_og_t2f_mou_7 : 3.84\n",
      "std_og_t2f_mou_8 : 5.29\n",
      "std_og_t2c_mou_6 : 3.95\n",
      "std_og_t2c_mou_7 : 3.84\n",
      "std_og_t2c_mou_8 : 5.29\n",
      "std_og_mou_6 : 3.95\n",
      "std_og_mou_7 : 3.84\n",
      "std_og_mou_8 : 5.29\n",
      "isd_og_mou_6 : 3.95\n",
      "isd_og_mou_7 : 3.84\n",
      "isd_og_mou_8 : 5.29\n",
      "spl_og_mou_6 : 3.95\n",
      "spl_og_mou_7 : 3.84\n",
      "spl_og_mou_8 : 5.29\n",
      "og_others_6 : 3.95\n",
      "og_others_7 : 3.84\n",
      "og_others_8 : 5.29\n",
      "total_og_mou_6 : 0.00\n",
      "total_og_mou_7 : 0.00\n",
      "total_og_mou_8 : 0.00\n",
      "loc_ic_t2t_mou_6 : 3.95\n",
      "loc_ic_t2t_mou_7 : 3.84\n",
      "loc_ic_t2t_mou_8 : 5.29\n",
      "loc_ic_t2m_mou_6 : 3.95\n",
      "loc_ic_t2m_mou_7 : 3.84\n",
      "loc_ic_t2m_mou_8 : 5.29\n",
      "loc_ic_t2f_mou_6 : 3.95\n",
      "loc_ic_t2f_mou_7 : 3.84\n",
      "loc_ic_t2f_mou_8 : 5.29\n",
      "loc_ic_mou_6 : 3.95\n",
      "loc_ic_mou_7 : 3.84\n",
      "loc_ic_mou_8 : 5.29\n",
      "std_ic_t2t_mou_6 : 3.95\n",
      "std_ic_t2t_mou_7 : 3.84\n",
      "std_ic_t2t_mou_8 : 5.29\n",
      "std_ic_t2m_mou_6 : 3.95\n",
      "std_ic_t2m_mou_7 : 3.84\n",
      "std_ic_t2m_mou_8 : 5.29\n",
      "std_ic_t2f_mou_6 : 3.95\n",
      "std_ic_t2f_mou_7 : 3.84\n",
      "std_ic_t2f_mou_8 : 5.29\n",
      "std_ic_t2o_mou_6 : 3.95\n",
      "std_ic_t2o_mou_7 : 3.84\n",
      "std_ic_t2o_mou_8 : 5.29\n",
      "std_ic_mou_6 : 3.95\n",
      "std_ic_mou_7 : 3.84\n",
      "std_ic_mou_8 : 5.29\n",
      "total_ic_mou_6 : 0.00\n",
      "total_ic_mou_7 : 0.00\n",
      "total_ic_mou_8 : 0.00\n",
      "spl_ic_mou_6 : 3.95\n",
      "spl_ic_mou_7 : 3.84\n",
      "spl_ic_mou_8 : 5.29\n",
      "isd_ic_mou_6 : 3.95\n",
      "isd_ic_mou_7 : 3.84\n",
      "isd_ic_mou_8 : 5.29\n",
      "ic_others_6 : 3.95\n",
      "ic_others_7 : 3.84\n",
      "ic_others_8 : 5.29\n",
      "total_rech_num_6 : 0.00\n",
      "total_rech_num_7 : 0.00\n",
      "total_rech_num_8 : 0.00\n",
      "total_rech_amt_6 : 0.00\n",
      "total_rech_amt_7 : 0.00\n",
      "total_rech_amt_8 : 0.00\n",
      "max_rech_amt_6 : 0.00\n",
      "max_rech_amt_7 : 0.00\n",
      "max_rech_amt_8 : 0.00\n",
      "date_of_last_rech_6 : 1.57\n",
      "date_of_last_rech_7 : 1.76\n",
      "date_of_last_rech_8 : 3.52\n",
      "last_day_rch_amt_6 : 0.00\n",
      "last_day_rch_amt_7 : 0.00\n",
      "last_day_rch_amt_8 : 0.00\n",
      "date_of_last_rech_data_6 : 74.90\n",
      "date_of_last_rech_data_7 : 74.48\n",
      "date_of_last_rech_data_8 : 73.69\n",
      "total_rech_data_6 : 74.90\n",
      "total_rech_data_7 : 74.48\n",
      "total_rech_data_8 : 73.69\n",
      "max_rech_data_6 : 74.90\n",
      "max_rech_data_7 : 74.48\n",
      "max_rech_data_8 : 73.69\n",
      "count_rech_2g_6 : 74.90\n",
      "count_rech_2g_7 : 74.48\n",
      "count_rech_2g_8 : 73.69\n",
      "count_rech_3g_6 : 74.90\n",
      "count_rech_3g_7 : 74.48\n",
      "count_rech_3g_8 : 73.69\n",
      "av_rech_amt_data_6 : 74.90\n",
      "av_rech_amt_data_7 : 74.48\n",
      "av_rech_amt_data_8 : 73.69\n",
      "vol_2g_mb_6 : 0.00\n",
      "vol_2g_mb_7 : 0.00\n",
      "vol_2g_mb_8 : 0.00\n",
      "vol_3g_mb_6 : 0.00\n",
      "vol_3g_mb_7 : 0.00\n",
      "vol_3g_mb_8 : 0.00\n",
      "arpu_3g_6 : 74.90\n",
      "arpu_3g_7 : 74.48\n",
      "arpu_3g_8 : 73.69\n",
      "arpu_2g_6 : 74.90\n",
      "arpu_2g_7 : 74.48\n",
      "arpu_2g_8 : 73.69\n",
      "night_pck_user_6 : 74.90\n",
      "night_pck_user_7 : 74.48\n",
      "night_pck_user_8 : 73.69\n",
      "monthly_2g_6 : 0.00\n",
      "monthly_2g_7 : 0.00\n",
      "monthly_2g_8 : 0.00\n",
      "sachet_2g_6 : 0.00\n",
      "sachet_2g_7 : 0.00\n",
      "sachet_2g_8 : 0.00\n",
      "monthly_3g_6 : 0.00\n",
      "monthly_3g_7 : 0.00\n",
      "monthly_3g_8 : 0.00\n",
      "sachet_3g_6 : 0.00\n",
      "sachet_3g_7 : 0.00\n",
      "sachet_3g_8 : 0.00\n",
      "fb_user_6 : 74.90\n",
      "fb_user_7 : 74.48\n",
      "fb_user_8 : 73.69\n",
      "aon : 0.00\n",
      "aug_vbc_3g : 0.00\n",
      "jul_vbc_3g : 0.00\n",
      "jun_vbc_3g : 0.00\n",
      "churn_probability : 0.00\n"
     ]
    }
   ],
   "source": [
    "for col in df.columns:\n",
    "    null_col = df[col].isnull().sum() / df.shape[0] * 100\n",
    "    print(\"{} : {:.2f}\".format(col,null_col))"
   ]
  },
  {
   "cell_type": "code",
   "execution_count": 8,
   "metadata": {
    "execution": {
     "iopub.execute_input": "2022-07-30T20:35:56.647565Z",
     "iopub.status.busy": "2022-07-30T20:35:56.647265Z",
     "iopub.status.idle": "2022-07-30T20:35:56.734142Z",
     "shell.execute_reply": "2022-07-30T20:35:56.733077Z",
     "shell.execute_reply.started": "2022-07-30T20:35:56.647530Z"
    }
   },
   "outputs": [
    {
     "data": {
      "text/plain": [
       "15.241795813029887"
      ]
     },
     "execution_count": 8,
     "metadata": {},
     "output_type": "execute_result"
    }
   ],
   "source": [
    "percent_null = df.isnull().sum().sum() / np.product(df.shape) * 100\n",
    "percent_null"
   ]
  },
  {
   "cell_type": "markdown",
   "metadata": {},
   "source": [
    "This is the complete percentage of null values present in the training data."
   ]
  },
  {
   "cell_type": "markdown",
   "metadata": {},
   "source": [
    "### Impute recharge columns with 0 for blanks as the customer hasn't recharged in those months"
   ]
  },
  {
   "cell_type": "code",
   "execution_count": 9,
   "metadata": {},
   "outputs": [],
   "source": [
    "rech = ['total_rech_num_6',\n",
    "\t 'total_rech_num_7',\n",
    "\t 'total_rech_num_8' ,\n",
    "\t 'total_rech_amt_6',\n",
    "\t 'total_rech_amt_7' ,\n",
    "\t 'total_rech_amt_8' ,\n",
    "\t  'max_rech_amt_6',   \n",
    "\t 'max_rech_amt_7',   \n",
    "\t 'max_rech_amt_8',   \n",
    "\t 'total_rech_data_6',\n",
    "\t 'total_rech_data_7',     \n",
    "\t 'total_rech_data_8',    \n",
    "\t 'max_rech_data_6',   \n",
    "\t 'max_rech_data_7',  \n",
    "\t 'max_rech_data_8', \n",
    "\t 'count_rech_2g_6' ,\n",
    "\t 'count_rech_2g_7' ,\n",
    "\t  'count_rech_2g_8',\n",
    "\t  'count_rech_3g_6',\n",
    "\t 'count_rech_3g_7',\n",
    "\t 'count_rech_3g_8',\n",
    "\t 'av_rech_amt_data_6',\n",
    "\t 'av_rech_amt_data_7', \n",
    "\t 'av_rech_amt_data_8']\n",
    "\n",
    "df[rech] = df[rech].apply(lambda x: x.fillna(0))"
   ]
  },
  {
   "cell_type": "markdown",
   "metadata": {},
   "source": [
    "### Replace NaN values in categorical variables"
   ]
  },
  {
   "cell_type": "markdown",
   "metadata": {},
   "source": [
    "We will replace missing values in the categorical values with '-1' where '-1' will be a new category."
   ]
  },
  {
   "cell_type": "code",
   "execution_count": 10,
   "metadata": {},
   "outputs": [],
   "source": [
    "cat_cols = ['night_pck_user_6',\n",
    "'night_pck_user_7', \n",
    "'night_pck_user_8',\n",
    "'fb_user_6',\n",
    "'fb_user_7',\n",
    "'fb_user_8' ]"
   ]
  },
  {
   "cell_type": "code",
   "execution_count": 11,
   "metadata": {},
   "outputs": [],
   "source": [
    "# replace missing values with '-1' in categorical columns\n",
    "df[cat_cols] = df[cat_cols].apply(lambda x: x.fillna(-1))"
   ]
  },
  {
   "cell_type": "markdown",
   "metadata": {},
   "source": [
    "Now, let's check for the date columns in our dataset."
   ]
  },
  {
   "cell_type": "code",
   "execution_count": 12,
   "metadata": {
    "execution": {
     "iopub.execute_input": "2022-07-30T20:35:57.157744Z",
     "iopub.status.busy": "2022-07-30T20:35:57.157265Z",
     "iopub.status.idle": "2022-07-30T20:35:57.170742Z",
     "shell.execute_reply": "2022-07-30T20:35:57.169625Z",
     "shell.execute_reply.started": "2022-07-30T20:35:57.157699Z"
    }
   },
   "outputs": [
    {
     "name": "stdout",
     "output_type": "stream",
     "text": [
      "last_date_of_month_6\n",
      "last_date_of_month_7\n",
      "last_date_of_month_8\n",
      "date_of_last_rech_6\n",
      "date_of_last_rech_7\n",
      "date_of_last_rech_8\n",
      "date_of_last_rech_data_6\n",
      "date_of_last_rech_data_7\n",
      "date_of_last_rech_data_8\n"
     ]
    }
   ],
   "source": [
    "colls = []\n",
    "for col in df.columns:\n",
    "    if df[col].dtype == object:\n",
    "        colls+=[col]\n",
    "        print(col)"
   ]
  },
  {
   "cell_type": "code",
   "execution_count": 13,
   "metadata": {
    "execution": {
     "iopub.execute_input": "2022-07-30T20:35:57.172597Z",
     "iopub.status.busy": "2022-07-30T20:35:57.172180Z",
     "iopub.status.idle": "2022-07-30T20:35:57.197435Z",
     "shell.execute_reply": "2022-07-30T20:35:57.196430Z",
     "shell.execute_reply.started": "2022-07-30T20:35:57.172556Z"
    },
    "scrolled": true
   },
   "outputs": [
    {
     "data": {
      "text/html": [
       "<div>\n",
       "<style scoped>\n",
       "    .dataframe tbody tr th:only-of-type {\n",
       "        vertical-align: middle;\n",
       "    }\n",
       "\n",
       "    .dataframe tbody tr th {\n",
       "        vertical-align: top;\n",
       "    }\n",
       "\n",
       "    .dataframe thead th {\n",
       "        text-align: right;\n",
       "    }\n",
       "</style>\n",
       "<table border=\"1\" class=\"dataframe\">\n",
       "  <thead>\n",
       "    <tr style=\"text-align: right;\">\n",
       "      <th></th>\n",
       "      <th>last_date_of_month_6</th>\n",
       "      <th>last_date_of_month_7</th>\n",
       "      <th>last_date_of_month_8</th>\n",
       "      <th>date_of_last_rech_6</th>\n",
       "      <th>date_of_last_rech_7</th>\n",
       "      <th>date_of_last_rech_8</th>\n",
       "      <th>date_of_last_rech_data_6</th>\n",
       "      <th>date_of_last_rech_data_7</th>\n",
       "      <th>date_of_last_rech_data_8</th>\n",
       "    </tr>\n",
       "  </thead>\n",
       "  <tbody>\n",
       "    <tr>\n",
       "      <th>0</th>\n",
       "      <td>6/30/2014</td>\n",
       "      <td>7/31/2014</td>\n",
       "      <td>8/31/2014</td>\n",
       "      <td>6/22/2014</td>\n",
       "      <td>7/10/2014</td>\n",
       "      <td>8/24/2014</td>\n",
       "      <td>NaN</td>\n",
       "      <td>NaN</td>\n",
       "      <td>NaN</td>\n",
       "    </tr>\n",
       "    <tr>\n",
       "      <th>1</th>\n",
       "      <td>6/30/2014</td>\n",
       "      <td>7/31/2014</td>\n",
       "      <td>8/31/2014</td>\n",
       "      <td>6/12/2014</td>\n",
       "      <td>7/10/2014</td>\n",
       "      <td>8/26/2014</td>\n",
       "      <td>NaN</td>\n",
       "      <td>7/8/2014</td>\n",
       "      <td>NaN</td>\n",
       "    </tr>\n",
       "    <tr>\n",
       "      <th>2</th>\n",
       "      <td>6/30/2014</td>\n",
       "      <td>7/31/2014</td>\n",
       "      <td>8/31/2014</td>\n",
       "      <td>6/11/2014</td>\n",
       "      <td>7/22/2014</td>\n",
       "      <td>8/24/2014</td>\n",
       "      <td>NaN</td>\n",
       "      <td>NaN</td>\n",
       "      <td>NaN</td>\n",
       "    </tr>\n",
       "    <tr>\n",
       "      <th>3</th>\n",
       "      <td>6/30/2014</td>\n",
       "      <td>7/31/2014</td>\n",
       "      <td>8/31/2014</td>\n",
       "      <td>6/15/2014</td>\n",
       "      <td>7/21/2014</td>\n",
       "      <td>8/25/2014</td>\n",
       "      <td>NaN</td>\n",
       "      <td>NaN</td>\n",
       "      <td>NaN</td>\n",
       "    </tr>\n",
       "    <tr>\n",
       "      <th>4</th>\n",
       "      <td>6/30/2014</td>\n",
       "      <td>7/31/2014</td>\n",
       "      <td>8/31/2014</td>\n",
       "      <td>6/25/2014</td>\n",
       "      <td>7/26/2014</td>\n",
       "      <td>8/30/2014</td>\n",
       "      <td>6/25/2014</td>\n",
       "      <td>7/23/2014</td>\n",
       "      <td>8/20/2014</td>\n",
       "    </tr>\n",
       "    <tr>\n",
       "      <th>...</th>\n",
       "      <td>...</td>\n",
       "      <td>...</td>\n",
       "      <td>...</td>\n",
       "      <td>...</td>\n",
       "      <td>...</td>\n",
       "      <td>...</td>\n",
       "      <td>...</td>\n",
       "      <td>...</td>\n",
       "      <td>...</td>\n",
       "    </tr>\n",
       "    <tr>\n",
       "      <th>69994</th>\n",
       "      <td>6/30/2014</td>\n",
       "      <td>7/31/2014</td>\n",
       "      <td>8/31/2014</td>\n",
       "      <td>6/18/2014</td>\n",
       "      <td>7/31/2014</td>\n",
       "      <td>8/31/2014</td>\n",
       "      <td>NaN</td>\n",
       "      <td>7/31/2014</td>\n",
       "      <td>8/21/2014</td>\n",
       "    </tr>\n",
       "    <tr>\n",
       "      <th>69995</th>\n",
       "      <td>6/30/2014</td>\n",
       "      <td>7/31/2014</td>\n",
       "      <td>8/31/2014</td>\n",
       "      <td>6/28/2014</td>\n",
       "      <td>7/31/2014</td>\n",
       "      <td>8/27/2014</td>\n",
       "      <td>NaN</td>\n",
       "      <td>NaN</td>\n",
       "      <td>NaN</td>\n",
       "    </tr>\n",
       "    <tr>\n",
       "      <th>69996</th>\n",
       "      <td>6/30/2014</td>\n",
       "      <td>7/31/2014</td>\n",
       "      <td>8/31/2014</td>\n",
       "      <td>6/25/2014</td>\n",
       "      <td>7/30/2014</td>\n",
       "      <td>8/29/2014</td>\n",
       "      <td>NaN</td>\n",
       "      <td>NaN</td>\n",
       "      <td>NaN</td>\n",
       "    </tr>\n",
       "    <tr>\n",
       "      <th>69997</th>\n",
       "      <td>6/30/2014</td>\n",
       "      <td>7/31/2014</td>\n",
       "      <td>8/31/2014</td>\n",
       "      <td>6/29/2014</td>\n",
       "      <td>7/19/2014</td>\n",
       "      <td>8/26/2014</td>\n",
       "      <td>6/17/2014</td>\n",
       "      <td>7/13/2014</td>\n",
       "      <td>8/14/2014</td>\n",
       "    </tr>\n",
       "    <tr>\n",
       "      <th>69998</th>\n",
       "      <td>6/30/2014</td>\n",
       "      <td>7/31/2014</td>\n",
       "      <td>8/31/2014</td>\n",
       "      <td>6/19/2014</td>\n",
       "      <td>7/27/2014</td>\n",
       "      <td>8/25/2014</td>\n",
       "      <td>6/19/2014</td>\n",
       "      <td>NaN</td>\n",
       "      <td>8/8/2014</td>\n",
       "    </tr>\n",
       "  </tbody>\n",
       "</table>\n",
       "<p>69999 rows × 9 columns</p>\n",
       "</div>"
      ],
      "text/plain": [
       "      last_date_of_month_6 last_date_of_month_7 last_date_of_month_8  \\\n",
       "0                6/30/2014            7/31/2014            8/31/2014   \n",
       "1                6/30/2014            7/31/2014            8/31/2014   \n",
       "2                6/30/2014            7/31/2014            8/31/2014   \n",
       "3                6/30/2014            7/31/2014            8/31/2014   \n",
       "4                6/30/2014            7/31/2014            8/31/2014   \n",
       "...                    ...                  ...                  ...   \n",
       "69994            6/30/2014            7/31/2014            8/31/2014   \n",
       "69995            6/30/2014            7/31/2014            8/31/2014   \n",
       "69996            6/30/2014            7/31/2014            8/31/2014   \n",
       "69997            6/30/2014            7/31/2014            8/31/2014   \n",
       "69998            6/30/2014            7/31/2014            8/31/2014   \n",
       "\n",
       "      date_of_last_rech_6 date_of_last_rech_7 date_of_last_rech_8  \\\n",
       "0               6/22/2014           7/10/2014           8/24/2014   \n",
       "1               6/12/2014           7/10/2014           8/26/2014   \n",
       "2               6/11/2014           7/22/2014           8/24/2014   \n",
       "3               6/15/2014           7/21/2014           8/25/2014   \n",
       "4               6/25/2014           7/26/2014           8/30/2014   \n",
       "...                   ...                 ...                 ...   \n",
       "69994           6/18/2014           7/31/2014           8/31/2014   \n",
       "69995           6/28/2014           7/31/2014           8/27/2014   \n",
       "69996           6/25/2014           7/30/2014           8/29/2014   \n",
       "69997           6/29/2014           7/19/2014           8/26/2014   \n",
       "69998           6/19/2014           7/27/2014           8/25/2014   \n",
       "\n",
       "      date_of_last_rech_data_6 date_of_last_rech_data_7  \\\n",
       "0                          NaN                      NaN   \n",
       "1                          NaN                 7/8/2014   \n",
       "2                          NaN                      NaN   \n",
       "3                          NaN                      NaN   \n",
       "4                    6/25/2014                7/23/2014   \n",
       "...                        ...                      ...   \n",
       "69994                      NaN                7/31/2014   \n",
       "69995                      NaN                      NaN   \n",
       "69996                      NaN                      NaN   \n",
       "69997                6/17/2014                7/13/2014   \n",
       "69998                6/19/2014                      NaN   \n",
       "\n",
       "      date_of_last_rech_data_8  \n",
       "0                          NaN  \n",
       "1                          NaN  \n",
       "2                          NaN  \n",
       "3                          NaN  \n",
       "4                    8/20/2014  \n",
       "...                        ...  \n",
       "69994                8/21/2014  \n",
       "69995                      NaN  \n",
       "69996                      NaN  \n",
       "69997                8/14/2014  \n",
       "69998                 8/8/2014  \n",
       "\n",
       "[69999 rows x 9 columns]"
      ]
     },
     "execution_count": 13,
     "metadata": {},
     "output_type": "execute_result"
    }
   ],
   "source": [
    "df[colls]"
   ]
  },
  {
   "cell_type": "markdown",
   "metadata": {},
   "source": [
    "The date columns are not adding any extra information as all the other columns are already divided into three months Jun, Jul and Aug. Since the date columns are not useful in predicting the churn of customers, we are going to drop them."
   ]
  },
  {
   "cell_type": "code",
   "execution_count": 14,
   "metadata": {
    "execution": {
     "iopub.execute_input": "2022-07-30T20:35:57.199930Z",
     "iopub.status.busy": "2022-07-30T20:35:57.199603Z",
     "iopub.status.idle": "2022-07-30T20:35:57.226812Z",
     "shell.execute_reply": "2022-07-30T20:35:57.225824Z",
     "shell.execute_reply.started": "2022-07-30T20:35:57.199901Z"
    }
   },
   "outputs": [],
   "source": [
    "df = df.drop(colls,axis=1)"
   ]
  },
  {
   "cell_type": "markdown",
   "metadata": {},
   "source": [
    "Below are the columns having the percentage of null values > 50%"
   ]
  },
  {
   "cell_type": "code",
   "execution_count": 15,
   "metadata": {
    "scrolled": true
   },
   "outputs": [
    {
     "name": "stdout",
     "output_type": "stream",
     "text": [
      "['arpu_3g_6', 'arpu_3g_7', 'arpu_3g_8', 'arpu_2g_6', 'arpu_2g_7', 'arpu_2g_8']\n"
     ]
    }
   ],
   "source": [
    "coll=[]\n",
    "for col in df.columns:\n",
    "    null_col = df[col].isnull().sum() / df.shape[0] * 100\n",
    "    if null_col > 50:    \n",
    "        coll+=[col]\n",
    "print(coll)"
   ]
  },
  {
   "cell_type": "markdown",
   "metadata": {},
   "source": [
    "Since high percentage of null values will affect our analysis, we are dropping these columns."
   ]
  },
  {
   "cell_type": "code",
   "execution_count": 16,
   "metadata": {},
   "outputs": [],
   "source": [
    "df = df.drop(coll,axis=1)"
   ]
  },
  {
   "cell_type": "markdown",
   "metadata": {},
   "source": [
    "Since the Id columns are not useful, we will drop them also."
   ]
  },
  {
   "cell_type": "code",
   "execution_count": 17,
   "metadata": {},
   "outputs": [],
   "source": [
    "df = df.drop(['id','circle_id'],axis =1)"
   ]
  },
  {
   "cell_type": "markdown",
   "metadata": {},
   "source": [
    "Now, we are checking how much null values in percentage we are left with."
   ]
  },
  {
   "cell_type": "code",
   "execution_count": 18,
   "metadata": {
    "execution": {
     "iopub.execute_input": "2022-07-30T20:35:56.903639Z",
     "iopub.status.busy": "2022-07-30T20:35:56.903312Z",
     "iopub.status.idle": "2022-07-30T20:35:56.980798Z",
     "shell.execute_reply": "2022-07-30T20:35:56.979707Z",
     "shell.execute_reply.started": "2022-07-30T20:35:56.903595Z"
    },
    "scrolled": true
   },
   "outputs": [
    {
     "data": {
      "text/plain": [
       "2.4672057527089097"
      ]
     },
     "execution_count": 18,
     "metadata": {},
     "output_type": "execute_result"
    }
   ],
   "source": [
    "percent_null = df.isnull().sum().sum() / np.product(df.shape) * 100\n",
    "percent_null"
   ]
  },
  {
   "cell_type": "code",
   "execution_count": 19,
   "metadata": {},
   "outputs": [],
   "source": [
    "churn_cols = df.columns\n",
    "\n",
    "# using MICE technique to impute missing values in the rest of the columns\n",
    "from fancyimpute import IterativeImputer \n",
    "imp = IterativeImputer(max_iter=1)\n",
    "churn_imputed = imp.fit_transform(df)"
   ]
  },
  {
   "cell_type": "code",
   "execution_count": 20,
   "metadata": {},
   "outputs": [
    {
     "name": "stdout",
     "output_type": "stream",
     "text": [
      "loc_og_t2o_mou       0.0\n",
      "std_og_t2o_mou       0.0\n",
      "loc_ic_t2o_mou       0.0\n",
      "arpu_6               0.0\n",
      "arpu_7               0.0\n",
      "                    ... \n",
      "aon                  0.0\n",
      "aug_vbc_3g           0.0\n",
      "jul_vbc_3g           0.0\n",
      "jun_vbc_3g           0.0\n",
      "churn_probability    0.0\n",
      "Length: 155, dtype: float64\n"
     ]
    }
   ],
   "source": [
    "# convert imputed numpy array to pandas dataframe\n",
    "df = pd.DataFrame(churn_imputed, columns=churn_cols)\n",
    "print(df.isnull().sum()*100/df.shape[0])"
   ]
  },
  {
   "cell_type": "markdown",
   "metadata": {},
   "source": [
    "We are cross checking to see if there are any more null values in our dataset."
   ]
  },
  {
   "cell_type": "code",
   "execution_count": 21,
   "metadata": {
    "execution": {
     "iopub.execute_input": "2022-07-30T20:35:57.228912Z",
     "iopub.status.busy": "2022-07-30T20:35:57.228581Z",
     "iopub.status.idle": "2022-07-30T20:35:57.252804Z",
     "shell.execute_reply": "2022-07-30T20:35:57.251704Z",
     "shell.execute_reply.started": "2022-07-30T20:35:57.228882Z"
    },
    "scrolled": false
   },
   "outputs": [
    {
     "name": "stdout",
     "output_type": "stream",
     "text": [
      "<class 'pandas.core.frame.DataFrame'>\n",
      "RangeIndex: 69999 entries, 0 to 69998\n",
      "Columns: 155 entries, loc_og_t2o_mou to churn_probability\n",
      "dtypes: float64(155)\n",
      "memory usage: 82.8 MB\n"
     ]
    }
   ],
   "source": [
    "df.info()"
   ]
  },
  {
   "cell_type": "markdown",
   "metadata": {},
   "source": [
    "Now, there are 155 colums left."
   ]
  },
  {
   "cell_type": "markdown",
   "metadata": {},
   "source": [
    "### First we need to filter out the High Value Customers, as we will be performing our analysis on them."
   ]
  },
  {
   "cell_type": "markdown",
   "metadata": {
    "execution": {
     "iopub.execute_input": "2022-07-30T20:35:56.735978Z",
     "iopub.status.busy": "2022-07-30T20:35:56.735534Z",
     "iopub.status.idle": "2022-07-30T20:35:56.854562Z",
     "shell.execute_reply": "2022-07-30T20:35:56.853558Z",
     "shell.execute_reply.started": "2022-07-30T20:35:56.735945Z"
    }
   },
   "source": [
    "Let's derive the values of total data rechatge done in the months June and July  by the customers."
   ]
  },
  {
   "cell_type": "code",
   "execution_count": 22,
   "metadata": {},
   "outputs": [],
   "source": [
    "df['total_data_6'] = df.total_rech_data_6 * df.av_rech_amt_data_6\n",
    "df['total_data_7'] = df.total_rech_data_7 * df.av_rech_amt_data_7"
   ]
  },
  {
   "cell_type": "markdown",
   "metadata": {},
   "source": [
    "We can drop the columns total_rech_data and av_rech_amt_data for these months."
   ]
  },
  {
   "cell_type": "code",
   "execution_count": 23,
   "metadata": {},
   "outputs": [],
   "source": [
    "df = df.drop(columns = ['av_rech_amt_data_6', 'av_rech_amt_data_7', 'total_rech_data_6', 'total_rech_data_7'], axis =1)"
   ]
  },
  {
   "cell_type": "markdown",
   "metadata": {},
   "source": [
    "Let's find the averages of data and recharge of the customers for the two months."
   ]
  },
  {
   "cell_type": "code",
   "execution_count": 24,
   "metadata": {},
   "outputs": [],
   "source": [
    "df['total_rech_6'] = df['total_data_6'] + df['total_rech_amt_6']\n",
    "df['total_rech_7'] = df['total_data_7'] + df['total_rech_amt_7']\n",
    "\n",
    "df['avg_rech_6_7'] = (df['total_rech_6'] + df['total_rech_7'])/2"
   ]
  },
  {
   "cell_type": "code",
   "execution_count": 25,
   "metadata": {},
   "outputs": [
    {
     "data": {
      "text/plain": [
       "0.00       2202\n",
       "55.00      1049\n",
       "110.00      775\n",
       "100.00      730\n",
       "60.00       724\n",
       "           ... \n",
       "1509.00       1\n",
       "2432.00       1\n",
       "2044.50       1\n",
       "1701.25       1\n",
       "3515.00       1\n",
       "Name: avg_rech_6_7, Length: 5453, dtype: int64"
      ]
     },
     "execution_count": 25,
     "metadata": {},
     "output_type": "execute_result"
    }
   ],
   "source": [
    "df['avg_rech_6_7'].value_counts()"
   ]
  },
  {
   "cell_type": "code",
   "execution_count": 26,
   "metadata": {
    "scrolled": true
   },
   "outputs": [
    {
     "name": "stdout",
     "output_type": "stream",
     "text": [
      "Recharge amount at 70th percentile :477.5\n"
     ]
    }
   ],
   "source": [
    "print(\"Recharge amount at 70th percentile :{0}\".format(df['avg_rech_6_7'].quantile(0.7)))"
   ]
  },
  {
   "cell_type": "code",
   "execution_count": 27,
   "metadata": {},
   "outputs": [
    {
     "data": {
      "text/plain": [
       "(21013, 156)"
      ]
     },
     "execution_count": 27,
     "metadata": {},
     "output_type": "execute_result"
    }
   ],
   "source": [
    "# retain only those customers who have recharged their mobiles with more than or equal to 70th percentile amount\n",
    "df_filtered = df.loc[df.avg_rech_6_7 >= df.avg_rech_6_7.quantile(0.7), :]\n",
    "df_filtered = df_filtered.reset_index(drop=True)\n",
    "df_filtered.shape"
   ]
  },
  {
   "cell_type": "markdown",
   "metadata": {},
   "source": [
    "### Checking data imbalance:"
   ]
  },
  {
   "cell_type": "markdown",
   "metadata": {},
   "source": [
    "We are checking how many unique values are present in each of the columns."
   ]
  },
  {
   "cell_type": "code",
   "execution_count": 28,
   "metadata": {
    "execution": {
     "iopub.execute_input": "2022-07-30T20:35:57.254904Z",
     "iopub.status.busy": "2022-07-30T20:35:57.254164Z",
     "iopub.status.idle": "2022-07-30T20:35:57.526332Z",
     "shell.execute_reply": "2022-07-30T20:35:57.525173Z",
     "shell.execute_reply.started": "2022-07-30T20:35:57.254867Z"
    },
    "scrolled": false
   },
   "outputs": [
    {
     "name": "stdout",
     "output_type": "stream",
     "text": [
      "loc_og_t2o_mou : 1\n",
      "std_og_t2o_mou : 1\n",
      "loc_ic_t2o_mou : 1\n",
      "arpu_6 : 61615\n",
      "arpu_7 : 61425\n",
      "arpu_8 : 60194\n",
      "onnet_mou_6 : 22825\n",
      "onnet_mou_7 : 22763\n",
      "onnet_mou_8 : 23428\n",
      "offnet_mou_6 : 29022\n",
      "offnet_mou_7 : 28826\n",
      "offnet_mou_8 : 29698\n",
      "roam_ic_mou_6 : 8074\n",
      "roam_ic_mou_7 : 6927\n",
      "roam_ic_mou_8 : 7955\n",
      "roam_og_mou_6 : 9336\n",
      "roam_og_mou_7 : 7992\n",
      "roam_og_mou_8 : 8918\n",
      "loc_og_t2t_mou_6 : 14259\n",
      "loc_og_t2t_mou_7 : 14046\n",
      "loc_og_t2t_mou_8 : 14999\n",
      "loc_og_t2m_mou_6 : 20616\n",
      "loc_og_t2m_mou_7 : 20328\n",
      "loc_og_t2m_mou_8 : 21319\n",
      "loc_og_t2f_mou_6 : 6144\n",
      "loc_og_t2f_mou_7 : 6052\n",
      "loc_og_t2f_mou_8 : 7014\n",
      "loc_og_t2c_mou_6 : 4713\n",
      "loc_og_t2c_mou_7 : 4790\n",
      "loc_og_t2c_mou_8 : 5907\n",
      "loc_og_mou_6 : 25077\n",
      "loc_og_mou_7 : 24699\n",
      "loc_og_mou_8 : 25653\n",
      "std_og_t2t_mou_6 : 17322\n",
      "std_og_t2t_mou_7 : 17432\n",
      "std_og_t2t_mou_8 : 18186\n",
      "std_og_t2m_mou_6 : 18827\n",
      "std_og_t2m_mou_7 : 18921\n",
      "std_og_t2m_mou_8 : 19671\n",
      "std_og_t2f_mou_6 : 4842\n",
      "std_og_t2f_mou_7 : 4678\n",
      "std_og_t2f_mou_8 : 5648\n",
      "std_og_t2c_mou_6 : 1\n",
      "std_og_t2c_mou_7 : 1\n",
      "std_og_t2c_mou_8 : 1\n",
      "std_og_mou_6 : 24605\n",
      "std_og_mou_7 : 24775\n",
      "std_og_mou_8 : 25448\n",
      "isd_og_mou_6 : 3871\n",
      "isd_og_mou_7 : 3771\n",
      "isd_og_mou_8 : 4711\n",
      "spl_og_mou_6 : 6271\n",
      "spl_og_mou_7 : 6514\n",
      "spl_og_mou_8 : 7551\n",
      "og_others_6 : 3682\n",
      "og_others_7 : 2835\n",
      "og_others_8 : 3882\n",
      "total_og_mou_6 : 33135\n",
      "total_og_mou_7 : 33195\n",
      "total_og_mou_8 : 32897\n",
      "loc_ic_t2t_mou_6 : 14405\n",
      "loc_ic_t2t_mou_7 : 14282\n",
      "loc_ic_t2t_mou_8 : 15149\n",
      "loc_ic_t2m_mou_6 : 21802\n",
      "loc_ic_t2m_mou_7 : 21632\n",
      "loc_ic_t2m_mou_8 : 22725\n",
      "loc_ic_t2f_mou_6 : 8968\n",
      "loc_ic_t2f_mou_7 : 8974\n",
      "loc_ic_t2f_mou_8 : 9794\n",
      "loc_ic_mou_6 : 27210\n",
      "loc_ic_mou_7 : 26945\n",
      "loc_ic_mou_8 : 27885\n",
      "std_ic_t2t_mou_6 : 8091\n",
      "std_ic_t2t_mou_7 : 8166\n",
      "std_ic_t2t_mou_8 : 9070\n",
      "std_ic_t2m_mou_6 : 10699\n",
      "std_ic_t2m_mou_7 : 10720\n",
      "std_ic_t2m_mou_8 : 11609\n",
      "std_ic_t2f_mou_6 : 5391\n",
      "std_ic_t2f_mou_7 : 5382\n",
      "std_ic_t2f_mou_8 : 6286\n",
      "std_ic_t2o_mou_6 : 1\n",
      "std_ic_t2o_mou_7 : 1\n",
      "std_ic_t2o_mou_8 : 1\n",
      "std_ic_mou_6 : 12644\n",
      "std_ic_mou_7 : 12799\n",
      "std_ic_mou_8 : 13642\n",
      "total_ic_mou_6 : 27432\n",
      "total_ic_mou_7 : 27418\n",
      "total_ic_mou_8 : 27318\n",
      "spl_ic_mou_6 : 2846\n",
      "spl_ic_mou_7 : 2790\n",
      "spl_ic_mou_8 : 3798\n",
      "isd_ic_mou_6 : 7189\n",
      "isd_ic_mou_7 : 7327\n",
      "isd_ic_mou_8 : 8397\n",
      "ic_others_6 : 4291\n",
      "ic_others_7 : 4345\n",
      "ic_others_8 : 5268\n",
      "total_rech_num_6 : 94\n",
      "total_rech_num_7 : 96\n",
      "total_rech_num_8 : 92\n",
      "total_rech_amt_6 : 2108\n",
      "total_rech_amt_7 : 2147\n",
      "total_rech_amt_8 : 2149\n",
      "max_rech_amt_6 : 190\n",
      "max_rech_amt_7 : 178\n",
      "max_rech_amt_8 : 202\n",
      "last_day_rch_amt_6 : 179\n",
      "last_day_rch_amt_7 : 166\n",
      "last_day_rch_amt_8 : 191\n",
      "total_rech_data_8 : 45\n",
      "max_rech_data_6 : 48\n",
      "max_rech_data_7 : 46\n",
      "max_rech_data_8 : 50\n",
      "count_rech_2g_6 : 30\n",
      "count_rech_2g_7 : 33\n",
      "count_rech_2g_8 : 33\n",
      "count_rech_3g_6 : 23\n",
      "count_rech_3g_7 : 27\n",
      "count_rech_3g_8 : 29\n",
      "av_rech_amt_data_8 : 856\n",
      "vol_2g_mb_6 : 11494\n",
      "vol_2g_mb_7 : 11443\n",
      "vol_2g_mb_8 : 11359\n",
      "vol_3g_mb_6 : 9768\n",
      "vol_3g_mb_7 : 10296\n",
      "vol_3g_mb_8 : 10663\n",
      "night_pck_user_6 : 3\n",
      "night_pck_user_7 : 3\n",
      "night_pck_user_8 : 3\n",
      "monthly_2g_6 : 5\n",
      "monthly_2g_7 : 6\n",
      "monthly_2g_8 : 6\n",
      "sachet_2g_6 : 30\n",
      "sachet_2g_7 : 33\n",
      "sachet_2g_8 : 32\n",
      "monthly_3g_6 : 10\n",
      "monthly_3g_7 : 13\n",
      "monthly_3g_8 : 12\n",
      "sachet_3g_6 : 23\n",
      "sachet_3g_7 : 26\n",
      "sachet_3g_8 : 28\n",
      "fb_user_6 : 3\n",
      "fb_user_7 : 3\n",
      "fb_user_8 : 3\n",
      "aon : 3455\n",
      "aug_vbc_3g : 10609\n",
      "jul_vbc_3g : 10257\n",
      "jun_vbc_3g : 9617\n",
      "churn_probability : 2\n",
      "total_data_6 : 1398\n",
      "total_data_7 : 1490\n",
      "total_rech_6 : 3419\n",
      "total_rech_7 : 3604\n",
      "avg_rech_6_7 : 5453\n"
     ]
    }
   ],
   "source": [
    "colls = []\n",
    "for col in df_filtered.columns:\n",
    "    if df_filtered[col].nunique() ==1:\n",
    "        colls+=[col]\n",
    "    print('{} : {}'.format(col,df[col].nunique()))"
   ]
  },
  {
   "cell_type": "markdown",
   "metadata": {},
   "source": [
    "Here we have observed that there are 9 columns which have a single value. We are filtering them and storing in 'colls' list."
   ]
  },
  {
   "cell_type": "code",
   "execution_count": 29,
   "metadata": {
    "execution": {
     "iopub.execute_input": "2022-07-30T20:35:57.528449Z",
     "iopub.status.busy": "2022-07-30T20:35:57.527998Z",
     "iopub.status.idle": "2022-07-30T20:35:57.559718Z",
     "shell.execute_reply": "2022-07-30T20:35:57.558646Z",
     "shell.execute_reply.started": "2022-07-30T20:35:57.528405Z"
    }
   },
   "outputs": [
    {
     "data": {
      "text/html": [
       "<div>\n",
       "<style scoped>\n",
       "    .dataframe tbody tr th:only-of-type {\n",
       "        vertical-align: middle;\n",
       "    }\n",
       "\n",
       "    .dataframe tbody tr th {\n",
       "        vertical-align: top;\n",
       "    }\n",
       "\n",
       "    .dataframe thead th {\n",
       "        text-align: right;\n",
       "    }\n",
       "</style>\n",
       "<table border=\"1\" class=\"dataframe\">\n",
       "  <thead>\n",
       "    <tr style=\"text-align: right;\">\n",
       "      <th></th>\n",
       "      <th>loc_og_t2o_mou</th>\n",
       "      <th>std_og_t2o_mou</th>\n",
       "      <th>loc_ic_t2o_mou</th>\n",
       "      <th>std_og_t2c_mou_6</th>\n",
       "      <th>std_og_t2c_mou_7</th>\n",
       "      <th>std_og_t2c_mou_8</th>\n",
       "      <th>std_ic_t2o_mou_6</th>\n",
       "      <th>std_ic_t2o_mou_7</th>\n",
       "      <th>std_ic_t2o_mou_8</th>\n",
       "    </tr>\n",
       "  </thead>\n",
       "  <tbody>\n",
       "    <tr>\n",
       "      <th>0</th>\n",
       "      <td>0.0</td>\n",
       "      <td>0.0</td>\n",
       "      <td>0.0</td>\n",
       "      <td>0.0</td>\n",
       "      <td>0.0</td>\n",
       "      <td>0.0</td>\n",
       "      <td>0.0</td>\n",
       "      <td>0.0</td>\n",
       "      <td>0.0</td>\n",
       "    </tr>\n",
       "    <tr>\n",
       "      <th>1</th>\n",
       "      <td>0.0</td>\n",
       "      <td>0.0</td>\n",
       "      <td>0.0</td>\n",
       "      <td>0.0</td>\n",
       "      <td>0.0</td>\n",
       "      <td>0.0</td>\n",
       "      <td>0.0</td>\n",
       "      <td>0.0</td>\n",
       "      <td>0.0</td>\n",
       "    </tr>\n",
       "    <tr>\n",
       "      <th>2</th>\n",
       "      <td>0.0</td>\n",
       "      <td>0.0</td>\n",
       "      <td>0.0</td>\n",
       "      <td>0.0</td>\n",
       "      <td>0.0</td>\n",
       "      <td>0.0</td>\n",
       "      <td>0.0</td>\n",
       "      <td>0.0</td>\n",
       "      <td>0.0</td>\n",
       "    </tr>\n",
       "    <tr>\n",
       "      <th>3</th>\n",
       "      <td>0.0</td>\n",
       "      <td>0.0</td>\n",
       "      <td>0.0</td>\n",
       "      <td>0.0</td>\n",
       "      <td>0.0</td>\n",
       "      <td>0.0</td>\n",
       "      <td>0.0</td>\n",
       "      <td>0.0</td>\n",
       "      <td>0.0</td>\n",
       "    </tr>\n",
       "    <tr>\n",
       "      <th>4</th>\n",
       "      <td>0.0</td>\n",
       "      <td>0.0</td>\n",
       "      <td>0.0</td>\n",
       "      <td>0.0</td>\n",
       "      <td>0.0</td>\n",
       "      <td>0.0</td>\n",
       "      <td>0.0</td>\n",
       "      <td>0.0</td>\n",
       "      <td>0.0</td>\n",
       "    </tr>\n",
       "    <tr>\n",
       "      <th>...</th>\n",
       "      <td>...</td>\n",
       "      <td>...</td>\n",
       "      <td>...</td>\n",
       "      <td>...</td>\n",
       "      <td>...</td>\n",
       "      <td>...</td>\n",
       "      <td>...</td>\n",
       "      <td>...</td>\n",
       "      <td>...</td>\n",
       "    </tr>\n",
       "    <tr>\n",
       "      <th>21008</th>\n",
       "      <td>0.0</td>\n",
       "      <td>0.0</td>\n",
       "      <td>0.0</td>\n",
       "      <td>0.0</td>\n",
       "      <td>0.0</td>\n",
       "      <td>0.0</td>\n",
       "      <td>0.0</td>\n",
       "      <td>0.0</td>\n",
       "      <td>0.0</td>\n",
       "    </tr>\n",
       "    <tr>\n",
       "      <th>21009</th>\n",
       "      <td>0.0</td>\n",
       "      <td>0.0</td>\n",
       "      <td>0.0</td>\n",
       "      <td>0.0</td>\n",
       "      <td>0.0</td>\n",
       "      <td>0.0</td>\n",
       "      <td>0.0</td>\n",
       "      <td>0.0</td>\n",
       "      <td>0.0</td>\n",
       "    </tr>\n",
       "    <tr>\n",
       "      <th>21010</th>\n",
       "      <td>0.0</td>\n",
       "      <td>0.0</td>\n",
       "      <td>0.0</td>\n",
       "      <td>0.0</td>\n",
       "      <td>0.0</td>\n",
       "      <td>0.0</td>\n",
       "      <td>0.0</td>\n",
       "      <td>0.0</td>\n",
       "      <td>0.0</td>\n",
       "    </tr>\n",
       "    <tr>\n",
       "      <th>21011</th>\n",
       "      <td>0.0</td>\n",
       "      <td>0.0</td>\n",
       "      <td>0.0</td>\n",
       "      <td>0.0</td>\n",
       "      <td>0.0</td>\n",
       "      <td>0.0</td>\n",
       "      <td>0.0</td>\n",
       "      <td>0.0</td>\n",
       "      <td>0.0</td>\n",
       "    </tr>\n",
       "    <tr>\n",
       "      <th>21012</th>\n",
       "      <td>0.0</td>\n",
       "      <td>0.0</td>\n",
       "      <td>0.0</td>\n",
       "      <td>0.0</td>\n",
       "      <td>0.0</td>\n",
       "      <td>0.0</td>\n",
       "      <td>0.0</td>\n",
       "      <td>0.0</td>\n",
       "      <td>0.0</td>\n",
       "    </tr>\n",
       "  </tbody>\n",
       "</table>\n",
       "<p>21013 rows × 9 columns</p>\n",
       "</div>"
      ],
      "text/plain": [
       "       loc_og_t2o_mou  std_og_t2o_mou  loc_ic_t2o_mou  std_og_t2c_mou_6  \\\n",
       "0                 0.0             0.0             0.0               0.0   \n",
       "1                 0.0             0.0             0.0               0.0   \n",
       "2                 0.0             0.0             0.0               0.0   \n",
       "3                 0.0             0.0             0.0               0.0   \n",
       "4                 0.0             0.0             0.0               0.0   \n",
       "...               ...             ...             ...               ...   \n",
       "21008             0.0             0.0             0.0               0.0   \n",
       "21009             0.0             0.0             0.0               0.0   \n",
       "21010             0.0             0.0             0.0               0.0   \n",
       "21011             0.0             0.0             0.0               0.0   \n",
       "21012             0.0             0.0             0.0               0.0   \n",
       "\n",
       "       std_og_t2c_mou_7  std_og_t2c_mou_8  std_ic_t2o_mou_6  std_ic_t2o_mou_7  \\\n",
       "0                   0.0               0.0               0.0               0.0   \n",
       "1                   0.0               0.0               0.0               0.0   \n",
       "2                   0.0               0.0               0.0               0.0   \n",
       "3                   0.0               0.0               0.0               0.0   \n",
       "4                   0.0               0.0               0.0               0.0   \n",
       "...                 ...               ...               ...               ...   \n",
       "21008               0.0               0.0               0.0               0.0   \n",
       "21009               0.0               0.0               0.0               0.0   \n",
       "21010               0.0               0.0               0.0               0.0   \n",
       "21011               0.0               0.0               0.0               0.0   \n",
       "21012               0.0               0.0               0.0               0.0   \n",
       "\n",
       "       std_ic_t2o_mou_8  \n",
       "0                   0.0  \n",
       "1                   0.0  \n",
       "2                   0.0  \n",
       "3                   0.0  \n",
       "4                   0.0  \n",
       "...                 ...  \n",
       "21008               0.0  \n",
       "21009               0.0  \n",
       "21010               0.0  \n",
       "21011               0.0  \n",
       "21012               0.0  \n",
       "\n",
       "[21013 rows x 9 columns]"
      ]
     },
     "execution_count": 29,
     "metadata": {},
     "output_type": "execute_result"
    }
   ],
   "source": [
    "df_filtered[colls]"
   ]
  },
  {
   "cell_type": "markdown",
   "metadata": {},
   "source": [
    "We need to drop the columns having a single value as it does not add any useful information to our analysis."
   ]
  },
  {
   "cell_type": "code",
   "execution_count": 30,
   "metadata": {
    "execution": {
     "iopub.execute_input": "2022-07-30T20:35:57.561404Z",
     "iopub.status.busy": "2022-07-30T20:35:57.561120Z",
     "iopub.status.idle": "2022-07-30T20:35:57.588253Z",
     "shell.execute_reply": "2022-07-30T20:35:57.586953Z",
     "shell.execute_reply.started": "2022-07-30T20:35:57.561379Z"
    }
   },
   "outputs": [],
   "source": [
    "df_filtered = df_filtered.drop(colls,axis=1)"
   ]
  },
  {
   "cell_type": "markdown",
   "metadata": {},
   "source": [
    "### Checking the Churn Ratio:"
   ]
  },
  {
   "cell_type": "code",
   "execution_count": 31,
   "metadata": {},
   "outputs": [
    {
     "name": "stdout",
     "output_type": "stream",
     "text": [
      "Churn Ratio:\n",
      "0.0    91.724171\n",
      "1.0     8.275829\n",
      "Name: churn_probability, dtype: float64\n"
     ]
    }
   ],
   "source": [
    "# print churn ratio\n",
    "print(\"Churn Ratio:\")\n",
    "print(df_filtered.churn_probability.value_counts()*100/df_filtered.shape[0])"
   ]
  },
  {
   "cell_type": "markdown",
   "metadata": {},
   "source": [
    "We can see there is a huge impalance in the ratio of Non-Churn and Churn in our dataset. It will lead to a biased and faulty analysis. We will take care of this problem by assigning class_weights at the time of model building."
   ]
  },
  {
   "cell_type": "markdown",
   "metadata": {},
   "source": [
    "### Checking Duplicate Rows:"
   ]
  },
  {
   "cell_type": "markdown",
   "metadata": {},
   "source": [
    "Let's check if there are any duplicate rows present in our dataset."
   ]
  },
  {
   "cell_type": "code",
   "execution_count": 32,
   "metadata": {
    "execution": {
     "iopub.execute_input": "2022-07-30T20:35:57.591272Z",
     "iopub.status.busy": "2022-07-30T20:35:57.590548Z",
     "iopub.status.idle": "2022-07-30T20:35:57.880550Z",
     "shell.execute_reply": "2022-07-30T20:35:57.879422Z",
     "shell.execute_reply.started": "2022-07-30T20:35:57.591223Z"
    },
    "scrolled": true
   },
   "outputs": [
    {
     "data": {
      "text/plain": [
       "0"
      ]
     },
     "execution_count": 32,
     "metadata": {},
     "output_type": "execute_result"
    }
   ],
   "source": [
    "df_filtered.duplicated().sum()"
   ]
  },
  {
   "cell_type": "markdown",
   "metadata": {},
   "source": [
    "We can see there are no duplicate rows."
   ]
  },
  {
   "cell_type": "code",
   "execution_count": null,
   "metadata": {},
   "outputs": [],
   "source": []
  },
  {
   "cell_type": "markdown",
   "metadata": {},
   "source": [
    "### Step 3: Data Visualisation and EDA:"
   ]
  },
  {
   "cell_type": "markdown",
   "metadata": {},
   "source": [
    "Let's set a criteria that the columns having unique values < 20 will be considered categorical columns. The rest are to be considered as numeric columns."
   ]
  },
  {
   "cell_type": "markdown",
   "metadata": {},
   "source": [
    "### Univariate EDA:"
   ]
  },
  {
   "cell_type": "code",
   "execution_count": 33,
   "metadata": {
    "execution": {
     "iopub.execute_input": "2022-07-30T20:35:58.021933Z",
     "iopub.status.busy": "2022-07-30T20:35:58.021447Z",
     "iopub.status.idle": "2022-07-30T20:35:58.031627Z",
     "shell.execute_reply": "2022-07-30T20:35:58.029218Z",
     "shell.execute_reply.started": "2022-07-30T20:35:58.021885Z"
    }
   },
   "outputs": [],
   "source": [
    "def category_counts(cols):\n",
    "    plt.figure(figsize=(10,8));\n",
    "    sns.countplot(x=df_filtered[cols],palette='RdYlGn');\n",
    "    plt.xlabel(cols);\n",
    "    plt.ylabel('Counts');\n",
    "    plt.title(f\"{cols} Value Counts\");\n",
    "    plt.show()"
   ]
  },
  {
   "cell_type": "code",
   "execution_count": 34,
   "metadata": {
    "execution": {
     "iopub.execute_input": "2022-07-30T20:35:58.039906Z",
     "iopub.status.busy": "2022-07-30T20:35:58.033503Z",
     "iopub.status.idle": "2022-07-30T20:35:59.638094Z",
     "shell.execute_reply": "2022-07-30T20:35:59.637024Z",
     "shell.execute_reply.started": "2022-07-30T20:35:58.039851Z"
    }
   },
   "outputs": [
    {
     "data": {
      "image/png": "[encoded data removed]",
      "text/plain": [
       "<Figure size 720x576 with 1 Axes>"
      ]
     },
     "metadata": {
      "needs_background": "light"
     },
     "output_type": "display_data"
    },
    {
     "data": {
      "image/png": "[encoded data removed]",
      "text/plain": [
       "<Figure size 720x576 with 1 Axes>"
      ]
     },
     "metadata": {
      "needs_background": "light"
     },
     "output_type": "display_data"
    },
    {
     "data": {
      "image/png": "[encoded data removed]",
      "text/plain": [
       "<Figure size 720x576 with 1 Axes>"
      ]
     },
     "metadata": {
      "needs_background": "light"
     },
     "output_type": "display_data"
    },
    {
     "data": {
      "image/png": "[encoded data removed]",
      "text/plain": [
       "<Figure size 720x576 with 1 Axes>"
      ]
     },
     "metadata": {
      "needs_background": "light"
     },
     "output_type": "display_data"
    },
    {
     "data": {
      "image/png": "[encoded data removed]",
      "text/plain": [
       "<Figure size 720x576 with 1 Axes>"
      ]
     },
     "metadata": {
      "needs_background": "light"
     },
     "output_type": "display_data"
    },
    {
     "data": {
      "image/png": "[encoded data removed]",
      "text/plain": [
       "<Figure size 720x576 with 1 Axes>"
      ]
     },
     "metadata": {
      "needs_background": "light"
     },
     "output_type": "display_data"
    }
   ],
   "source": [
    "for col in cat_cols:\n",
    "    category_counts(col)"
   ]
  },
  {
   "cell_type": "markdown",
   "metadata": {},
   "source": [
    "**Observations:**\n",
    "1. Night pack users in all the three months are highest for the non-churn customers.\n",
    "2. The churn customers are the highest fb users for all three months."
   ]
  },
  {
   "cell_type": "code",
   "execution_count": 35,
   "metadata": {},
   "outputs": [
    {
     "data": {
      "image/png": "[encoded data removed]",
      "text/plain": [
       "<Figure size 432x288 with 1 Axes>"
      ]
     },
     "metadata": {
      "needs_background": "light"
     },
     "output_type": "display_data"
    }
   ],
   "source": [
    "sns.countplot(df_filtered.churn_probability)\n",
    "plt.show()"
   ]
  },
  {
   "cell_type": "code",
   "execution_count": 36,
   "metadata": {
    "scrolled": true
   },
   "outputs": [
    {
     "name": "stdout",
     "output_type": "stream",
     "text": [
      "count    21013.000000\n",
      "mean       558.458938\n",
      "std        474.147345\n",
      "min      -2258.709000\n",
      "25%        307.718000\n",
      "50%        482.616000\n",
      "75%        700.552000\n",
      "max      27731.088000\n",
      "Name: arpu_6, dtype: float64\n"
     ]
    },
    {
     "data": {
      "image/png": "[encoded data removed]",
      "text/plain": [
       "<Figure size 432x288 with 1 Axes>"
      ]
     },
     "metadata": {
      "needs_background": "light"
     },
     "output_type": "display_data"
    }
   ],
   "source": [
    "sns.distplot(df_filtered.arpu_6)\n",
    "print(df_filtered.arpu_6.describe())\n",
    "plt.show()"
   ]
  },
  {
   "cell_type": "code",
   "execution_count": 37,
   "metadata": {},
   "outputs": [
    {
     "name": "stdout",
     "output_type": "stream",
     "text": [
      "count    21013.000000\n",
      "mean        66.726605\n",
      "std        163.095602\n",
      "min          0.000000\n",
      "25%          7.860000\n",
      "50%         27.460000\n",
      "75%         68.210000\n",
      "max       5709.590000\n",
      "Name: loc_ic_t2t_mou_7, dtype: float64\n"
     ]
    },
    {
     "data": {
      "image/png": "[encoded data removed]",
      "text/plain": [
       "<Figure size 432x288 with 1 Axes>"
      ]
     },
     "metadata": {
      "needs_background": "light"
     },
     "output_type": "display_data"
    }
   ],
   "source": [
    "sns.distplot(df_filtered.loc_ic_t2t_mou_7)\n",
    "print(df_filtered.loc_ic_t2t_mou_7.describe())\n",
    "plt.show()"
   ]
  },
  {
   "cell_type": "code",
   "execution_count": 38,
   "metadata": {},
   "outputs": [
    {
     "name": "stdout",
     "output_type": "stream",
     "text": [
      "count    21013.000000\n",
      "mean       168.949269\n",
      "std        177.213399\n",
      "min          0.000000\n",
      "25%        110.000000\n",
      "50%        120.000000\n",
      "75%        200.000000\n",
      "max       4010.000000\n",
      "Name: max_rech_amt_6, dtype: float64\n"
     ]
    },
    {
     "data": {
      "image/png": "[encoded data removed]",
      "text/plain": [
       "<Figure size 432x288 with 1 Axes>"
      ]
     },
     "metadata": {
      "needs_background": "light"
     },
     "output_type": "display_data"
    }
   ],
   "source": [
    "sns.distplot(df_filtered.max_rech_amt_6)\n",
    "print(df_filtered.max_rech_amt_6.describe())\n",
    "plt.show()"
   ]
  },
  {
   "cell_type": "code",
   "execution_count": 39,
   "metadata": {},
   "outputs": [
    {
     "name": "stdout",
     "output_type": "stream",
     "text": [
      "count    21013.000000\n",
      "mean       232.524111\n",
      "std        465.700958\n",
      "min       -750.457455\n",
      "25%         10.290000\n",
      "50%         65.340000\n",
      "75%        238.040000\n",
      "max      10752.560000\n",
      "Name: onnet_mou_8, dtype: float64\n"
     ]
    },
    {
     "data": {
      "image/png": "[encoded data removed]",
      "text/plain": [
       "<Figure size 432x288 with 1 Axes>"
      ]
     },
     "metadata": {
      "needs_background": "light"
     },
     "output_type": "display_data"
    }
   ],
   "source": [
    "sns.distplot(df_filtered.onnet_mou_8)\n",
    "print(df_filtered.onnet_mou_8.describe())\n",
    "plt.show()"
   ]
  },
  {
   "cell_type": "code",
   "execution_count": 40,
   "metadata": {},
   "outputs": [
    {
     "name": "stdout",
     "output_type": "stream",
     "text": [
      "count    21013.000000\n",
      "mean       342.103599\n",
      "std        473.301695\n",
      "min          0.000000\n",
      "25%         63.310000\n",
      "50%        183.760000\n",
      "75%        436.840000\n",
      "max      14007.340000\n",
      "Name: offnet_mou_8, dtype: float64\n"
     ]
    },
    {
     "data": {
      "image/png": "[encoded data removed]",
      "text/plain": [
       "<Figure size 432x288 with 1 Axes>"
      ]
     },
     "metadata": {
      "needs_background": "light"
     },
     "output_type": "display_data"
    }
   ],
   "source": [
    "sns.distplot(df_filtered.offnet_mou_8)\n",
    "print(df_filtered.offnet_mou_8.describe())\n",
    "plt.show()"
   ]
  },
  {
   "cell_type": "markdown",
   "metadata": {},
   "source": [
    "**Observations:**\n",
    "We can see all the numeric variables are heavily left-skewed."
   ]
  },
  {
   "cell_type": "markdown",
   "metadata": {},
   "source": [
    "### Bivariate EDA with segmentation:"
   ]
  },
  {
   "cell_type": "code",
   "execution_count": 41,
   "metadata": {},
   "outputs": [],
   "source": [
    "df_filtered['churn_probability'] = df_filtered['churn_probability'].astype('category')"
   ]
  },
  {
   "cell_type": "code",
   "execution_count": 42,
   "metadata": {},
   "outputs": [
    {
     "data": {
      "image/png": "[encoded data removed]",
      "text/plain": [
       "<Figure size 1440x1080 with 2 Axes>"
      ]
     },
     "metadata": {
      "needs_background": "light"
     },
     "output_type": "display_data"
    }
   ],
   "source": [
    "plt.figure(figsize=(20,15))\n",
    "plt.subplot(221)\n",
    "sns.boxplot(data =df_filtered,y='churn_probability', x='total_rech_amt_8')\n",
    "plt.subplot(222)\n",
    "sns.boxplot(data =df_filtered,y='churn_probability', x='avg_rech_6_7')\n",
    "plt.show()"
   ]
  },
  {
   "cell_type": "code",
   "execution_count": 43,
   "metadata": {
    "scrolled": true
   },
   "outputs": [
    {
     "data": {
      "image/png": "[encoded data removed]",
      "text/plain": [
       "<Figure size 1440x1080 with 2 Axes>"
      ]
     },
     "metadata": {
      "needs_background": "light"
     },
     "output_type": "display_data"
    }
   ],
   "source": [
    "plt.figure(figsize=(20,15))\n",
    "plt.subplot(221)\n",
    "sns.boxplot(data =df_filtered, x='total_ic_mou_8',y='churn_probability',palette=\"colorblind\")\n",
    "plt.title('**Total incoming calls vs churn**')\n",
    "plt.subplot(222)\n",
    "sns.boxplot(data =df_filtered, x='total_og_mou_8',y='churn_probability',palette=\"colorblind\")\n",
    "plt.title('**Total outgoing calls vs churn**')\n",
    "plt.show()"
   ]
  },
  {
   "cell_type": "markdown",
   "metadata": {},
   "source": [
    "**Observations:**\n",
    "The distribution of total outgoing and incoming calls in month 8 is more widely spread for Non-churn customers rather than churn customers."
   ]
  },
  {
   "cell_type": "code",
   "execution_count": 44,
   "metadata": {},
   "outputs": [
    {
     "data": {
      "text/html": [
       "<div>\n",
       "<style scoped>\n",
       "    .dataframe tbody tr th:only-of-type {\n",
       "        vertical-align: middle;\n",
       "    }\n",
       "\n",
       "    .dataframe tbody tr th {\n",
       "        vertical-align: top;\n",
       "    }\n",
       "\n",
       "    .dataframe thead th {\n",
       "        text-align: right;\n",
       "    }\n",
       "</style>\n",
       "<table border=\"1\" class=\"dataframe\">\n",
       "  <thead>\n",
       "    <tr style=\"text-align: right;\">\n",
       "      <th>count_rech_3g_8</th>\n",
       "      <th>0.0</th>\n",
       "      <th>1.0</th>\n",
       "      <th>2.0</th>\n",
       "      <th>3.0</th>\n",
       "      <th>4.0</th>\n",
       "      <th>5.0</th>\n",
       "      <th>6.0</th>\n",
       "      <th>7.0</th>\n",
       "      <th>8.0</th>\n",
       "      <th>9.0</th>\n",
       "      <th>...</th>\n",
       "      <th>19.0</th>\n",
       "      <th>20.0</th>\n",
       "      <th>21.0</th>\n",
       "      <th>23.0</th>\n",
       "      <th>24.0</th>\n",
       "      <th>25.0</th>\n",
       "      <th>29.0</th>\n",
       "      <th>30.0</th>\n",
       "      <th>42.0</th>\n",
       "      <th>45.0</th>\n",
       "    </tr>\n",
       "    <tr>\n",
       "      <th>churn_probability</th>\n",
       "      <th></th>\n",
       "      <th></th>\n",
       "      <th></th>\n",
       "      <th></th>\n",
       "      <th></th>\n",
       "      <th></th>\n",
       "      <th></th>\n",
       "      <th></th>\n",
       "      <th></th>\n",
       "      <th></th>\n",
       "      <th></th>\n",
       "      <th></th>\n",
       "      <th></th>\n",
       "      <th></th>\n",
       "      <th></th>\n",
       "      <th></th>\n",
       "      <th></th>\n",
       "      <th></th>\n",
       "      <th></th>\n",
       "      <th></th>\n",
       "      <th></th>\n",
       "    </tr>\n",
       "  </thead>\n",
       "  <tbody>\n",
       "    <tr>\n",
       "      <th>0.0</th>\n",
       "      <td>14764</td>\n",
       "      <td>2886</td>\n",
       "      <td>898</td>\n",
       "      <td>322</td>\n",
       "      <td>135</td>\n",
       "      <td>80</td>\n",
       "      <td>48</td>\n",
       "      <td>33</td>\n",
       "      <td>24</td>\n",
       "      <td>16</td>\n",
       "      <td>...</td>\n",
       "      <td>1</td>\n",
       "      <td>3</td>\n",
       "      <td>1</td>\n",
       "      <td>2</td>\n",
       "      <td>1</td>\n",
       "      <td>1</td>\n",
       "      <td>1</td>\n",
       "      <td>1</td>\n",
       "      <td>1</td>\n",
       "      <td>1</td>\n",
       "    </tr>\n",
       "    <tr>\n",
       "      <th>1.0</th>\n",
       "      <td>1607</td>\n",
       "      <td>92</td>\n",
       "      <td>20</td>\n",
       "      <td>10</td>\n",
       "      <td>5</td>\n",
       "      <td>1</td>\n",
       "      <td>1</td>\n",
       "      <td>0</td>\n",
       "      <td>2</td>\n",
       "      <td>0</td>\n",
       "      <td>...</td>\n",
       "      <td>0</td>\n",
       "      <td>0</td>\n",
       "      <td>0</td>\n",
       "      <td>0</td>\n",
       "      <td>0</td>\n",
       "      <td>0</td>\n",
       "      <td>0</td>\n",
       "      <td>0</td>\n",
       "      <td>0</td>\n",
       "      <td>0</td>\n",
       "    </tr>\n",
       "  </tbody>\n",
       "</table>\n",
       "<p>2 rows × 29 columns</p>\n",
       "</div>"
      ],
      "text/plain": [
       "count_rech_3g_8     0.0   1.0   2.0   3.0   4.0   5.0   6.0   7.0   8.0   \\\n",
       "churn_probability                                                          \n",
       "0.0                14764  2886   898   322   135    80    48    33    24   \n",
       "1.0                 1607    92    20    10     5     1     1     0     2   \n",
       "\n",
       "count_rech_3g_8    9.0   ...  19.0  20.0  21.0  23.0  24.0  25.0  29.0  30.0  \\\n",
       "churn_probability        ...                                                   \n",
       "0.0                  16  ...     1     3     1     2     1     1     1     1   \n",
       "1.0                   0  ...     0     0     0     0     0     0     0     0   \n",
       "\n",
       "count_rech_3g_8    42.0  45.0  \n",
       "churn_probability              \n",
       "0.0                   1     1  \n",
       "1.0                   0     0  \n",
       "\n",
       "[2 rows x 29 columns]"
      ]
     },
     "execution_count": 44,
     "metadata": {},
     "output_type": "execute_result"
    }
   ],
   "source": [
    "pd.crosstab(df_filtered.churn_probability, df_filtered.count_rech_3g_8)"
   ]
  },
  {
   "cell_type": "code",
   "execution_count": 45,
   "metadata": {
    "scrolled": false
   },
   "outputs": [
    {
     "data": {
      "text/html": [
       "<div>\n",
       "<style scoped>\n",
       "    .dataframe tbody tr th:only-of-type {\n",
       "        vertical-align: middle;\n",
       "    }\n",
       "\n",
       "    .dataframe tbody tr th {\n",
       "        vertical-align: top;\n",
       "    }\n",
       "\n",
       "    .dataframe thead th {\n",
       "        text-align: right;\n",
       "    }\n",
       "</style>\n",
       "<table border=\"1\" class=\"dataframe\">\n",
       "  <thead>\n",
       "    <tr style=\"text-align: right;\">\n",
       "      <th>sachet_3g_7</th>\n",
       "      <th>0.0</th>\n",
       "      <th>1.0</th>\n",
       "      <th>2.0</th>\n",
       "      <th>3.0</th>\n",
       "      <th>4.0</th>\n",
       "      <th>5.0</th>\n",
       "      <th>6.0</th>\n",
       "      <th>7.0</th>\n",
       "      <th>8.0</th>\n",
       "      <th>9.0</th>\n",
       "      <th>...</th>\n",
       "      <th>16.0</th>\n",
       "      <th>17.0</th>\n",
       "      <th>18.0</th>\n",
       "      <th>19.0</th>\n",
       "      <th>20.0</th>\n",
       "      <th>21.0</th>\n",
       "      <th>22.0</th>\n",
       "      <th>24.0</th>\n",
       "      <th>31.0</th>\n",
       "      <th>33.0</th>\n",
       "    </tr>\n",
       "    <tr>\n",
       "      <th>churn_probability</th>\n",
       "      <th></th>\n",
       "      <th></th>\n",
       "      <th></th>\n",
       "      <th></th>\n",
       "      <th></th>\n",
       "      <th></th>\n",
       "      <th></th>\n",
       "      <th></th>\n",
       "      <th></th>\n",
       "      <th></th>\n",
       "      <th></th>\n",
       "      <th></th>\n",
       "      <th></th>\n",
       "      <th></th>\n",
       "      <th></th>\n",
       "      <th></th>\n",
       "      <th></th>\n",
       "      <th></th>\n",
       "      <th></th>\n",
       "      <th></th>\n",
       "      <th></th>\n",
       "    </tr>\n",
       "  </thead>\n",
       "  <tbody>\n",
       "    <tr>\n",
       "      <th>0.0</th>\n",
       "      <td>17162</td>\n",
       "      <td>1334</td>\n",
       "      <td>351</td>\n",
       "      <td>142</td>\n",
       "      <td>74</td>\n",
       "      <td>65</td>\n",
       "      <td>46</td>\n",
       "      <td>22</td>\n",
       "      <td>12</td>\n",
       "      <td>9</td>\n",
       "      <td>...</td>\n",
       "      <td>1</td>\n",
       "      <td>1</td>\n",
       "      <td>3</td>\n",
       "      <td>1</td>\n",
       "      <td>3</td>\n",
       "      <td>1</td>\n",
       "      <td>3</td>\n",
       "      <td>1</td>\n",
       "      <td>1</td>\n",
       "      <td>1</td>\n",
       "    </tr>\n",
       "    <tr>\n",
       "      <th>1.0</th>\n",
       "      <td>1591</td>\n",
       "      <td>90</td>\n",
       "      <td>24</td>\n",
       "      <td>10</td>\n",
       "      <td>5</td>\n",
       "      <td>6</td>\n",
       "      <td>3</td>\n",
       "      <td>3</td>\n",
       "      <td>1</td>\n",
       "      <td>2</td>\n",
       "      <td>...</td>\n",
       "      <td>0</td>\n",
       "      <td>1</td>\n",
       "      <td>0</td>\n",
       "      <td>0</td>\n",
       "      <td>0</td>\n",
       "      <td>0</td>\n",
       "      <td>0</td>\n",
       "      <td>1</td>\n",
       "      <td>0</td>\n",
       "      <td>0</td>\n",
       "    </tr>\n",
       "  </tbody>\n",
       "</table>\n",
       "<p>2 rows × 26 columns</p>\n",
       "</div>"
      ],
      "text/plain": [
       "sachet_3g_7         0.0   1.0   2.0   3.0   4.0   5.0   6.0   7.0   8.0   \\\n",
       "churn_probability                                                          \n",
       "0.0                17162  1334   351   142    74    65    46    22    12   \n",
       "1.0                 1591    90    24    10     5     6     3     3     1   \n",
       "\n",
       "sachet_3g_7        9.0   ...  16.0  17.0  18.0  19.0  20.0  21.0  22.0  24.0  \\\n",
       "churn_probability        ...                                                   \n",
       "0.0                   9  ...     1     1     3     1     3     1     3     1   \n",
       "1.0                   2  ...     0     1     0     0     0     0     0     1   \n",
       "\n",
       "sachet_3g_7        31.0  33.0  \n",
       "churn_probability              \n",
       "0.0                   1     1  \n",
       "1.0                   0     0  \n",
       "\n",
       "[2 rows x 26 columns]"
      ]
     },
     "execution_count": 45,
     "metadata": {},
     "output_type": "execute_result"
    }
   ],
   "source": [
    "pd.crosstab(df_filtered.churn_probability, df_filtered.sachet_3g_7)"
   ]
  },
  {
   "cell_type": "code",
   "execution_count": null,
   "metadata": {},
   "outputs": [],
   "source": []
  },
  {
   "cell_type": "markdown",
   "metadata": {},
   "source": [
    "### Step 4: Data Preparation:"
   ]
  },
  {
   "cell_type": "markdown",
   "metadata": {},
   "source": [
    "### Cap outliers in all numeric variables with k-sigma technique"
   ]
  },
  {
   "cell_type": "code",
   "execution_count": 46,
   "metadata": {
    "scrolled": true
   },
   "outputs": [],
   "source": [
    "num_cols = [column for column in df_filtered.columns if column not in cat_cols]"
   ]
  },
  {
   "cell_type": "code",
   "execution_count": 47,
   "metadata": {},
   "outputs": [
    {
     "data": {
      "text/plain": [
       "['arpu_6',\n",
       " 'arpu_7',\n",
       " 'arpu_8',\n",
       " 'onnet_mou_6',\n",
       " 'onnet_mou_7',\n",
       " 'onnet_mou_8',\n",
       " 'offnet_mou_6',\n",
       " 'offnet_mou_7',\n",
       " 'offnet_mou_8',\n",
       " 'roam_ic_mou_6',\n",
       " 'roam_ic_mou_7',\n",
       " 'roam_ic_mou_8',\n",
       " 'roam_og_mou_6',\n",
       " 'roam_og_mou_7',\n",
       " 'roam_og_mou_8',\n",
       " 'loc_og_t2t_mou_6',\n",
       " 'loc_og_t2t_mou_7',\n",
       " 'loc_og_t2t_mou_8',\n",
       " 'loc_og_t2m_mou_6',\n",
       " 'loc_og_t2m_mou_7',\n",
       " 'loc_og_t2m_mou_8',\n",
       " 'loc_og_t2f_mou_6',\n",
       " 'loc_og_t2f_mou_7',\n",
       " 'loc_og_t2f_mou_8',\n",
       " 'loc_og_t2c_mou_6',\n",
       " 'loc_og_t2c_mou_7',\n",
       " 'loc_og_t2c_mou_8',\n",
       " 'loc_og_mou_6',\n",
       " 'loc_og_mou_7',\n",
       " 'loc_og_mou_8',\n",
       " 'std_og_t2t_mou_6',\n",
       " 'std_og_t2t_mou_7',\n",
       " 'std_og_t2t_mou_8',\n",
       " 'std_og_t2m_mou_6',\n",
       " 'std_og_t2m_mou_7',\n",
       " 'std_og_t2m_mou_8',\n",
       " 'std_og_t2f_mou_6',\n",
       " 'std_og_t2f_mou_7',\n",
       " 'std_og_t2f_mou_8',\n",
       " 'std_og_mou_6',\n",
       " 'std_og_mou_7',\n",
       " 'std_og_mou_8',\n",
       " 'isd_og_mou_6',\n",
       " 'isd_og_mou_7',\n",
       " 'isd_og_mou_8',\n",
       " 'spl_og_mou_6',\n",
       " 'spl_og_mou_7',\n",
       " 'spl_og_mou_8',\n",
       " 'og_others_6',\n",
       " 'og_others_7',\n",
       " 'og_others_8',\n",
       " 'total_og_mou_6',\n",
       " 'total_og_mou_7',\n",
       " 'total_og_mou_8',\n",
       " 'loc_ic_t2t_mou_6',\n",
       " 'loc_ic_t2t_mou_7',\n",
       " 'loc_ic_t2t_mou_8',\n",
       " 'loc_ic_t2m_mou_6',\n",
       " 'loc_ic_t2m_mou_7',\n",
       " 'loc_ic_t2m_mou_8',\n",
       " 'loc_ic_t2f_mou_6',\n",
       " 'loc_ic_t2f_mou_7',\n",
       " 'loc_ic_t2f_mou_8',\n",
       " 'loc_ic_mou_6',\n",
       " 'loc_ic_mou_7',\n",
       " 'loc_ic_mou_8',\n",
       " 'std_ic_t2t_mou_6',\n",
       " 'std_ic_t2t_mou_7',\n",
       " 'std_ic_t2t_mou_8',\n",
       " 'std_ic_t2m_mou_6',\n",
       " 'std_ic_t2m_mou_7',\n",
       " 'std_ic_t2m_mou_8',\n",
       " 'std_ic_t2f_mou_6',\n",
       " 'std_ic_t2f_mou_7',\n",
       " 'std_ic_t2f_mou_8',\n",
       " 'std_ic_mou_6',\n",
       " 'std_ic_mou_7',\n",
       " 'std_ic_mou_8',\n",
       " 'total_ic_mou_6',\n",
       " 'total_ic_mou_7',\n",
       " 'total_ic_mou_8',\n",
       " 'spl_ic_mou_6',\n",
       " 'spl_ic_mou_7',\n",
       " 'spl_ic_mou_8',\n",
       " 'isd_ic_mou_6',\n",
       " 'isd_ic_mou_7',\n",
       " 'isd_ic_mou_8',\n",
       " 'ic_others_6',\n",
       " 'ic_others_7',\n",
       " 'ic_others_8',\n",
       " 'total_rech_num_6',\n",
       " 'total_rech_num_7',\n",
       " 'total_rech_num_8',\n",
       " 'total_rech_amt_6',\n",
       " 'total_rech_amt_7',\n",
       " 'total_rech_amt_8',\n",
       " 'max_rech_amt_6',\n",
       " 'max_rech_amt_7',\n",
       " 'max_rech_amt_8',\n",
       " 'last_day_rch_amt_6',\n",
       " 'last_day_rch_amt_7',\n",
       " 'last_day_rch_amt_8',\n",
       " 'total_rech_data_8',\n",
       " 'max_rech_data_6',\n",
       " 'max_rech_data_7',\n",
       " 'max_rech_data_8',\n",
       " 'count_rech_2g_6',\n",
       " 'count_rech_2g_7',\n",
       " 'count_rech_2g_8',\n",
       " 'count_rech_3g_6',\n",
       " 'count_rech_3g_7',\n",
       " 'count_rech_3g_8',\n",
       " 'av_rech_amt_data_8',\n",
       " 'vol_2g_mb_6',\n",
       " 'vol_2g_mb_7',\n",
       " 'vol_2g_mb_8',\n",
       " 'vol_3g_mb_6',\n",
       " 'vol_3g_mb_7',\n",
       " 'vol_3g_mb_8',\n",
       " 'monthly_2g_6',\n",
       " 'monthly_2g_7',\n",
       " 'monthly_2g_8',\n",
       " 'sachet_2g_6',\n",
       " 'sachet_2g_7',\n",
       " 'sachet_2g_8',\n",
       " 'monthly_3g_6',\n",
       " 'monthly_3g_7',\n",
       " 'monthly_3g_8',\n",
       " 'sachet_3g_6',\n",
       " 'sachet_3g_7',\n",
       " 'sachet_3g_8',\n",
       " 'aon',\n",
       " 'aug_vbc_3g',\n",
       " 'jul_vbc_3g',\n",
       " 'jun_vbc_3g',\n",
       " 'total_data_6',\n",
       " 'total_data_7',\n",
       " 'total_rech_6',\n",
       " 'total_rech_7',\n",
       " 'avg_rech_6_7']"
      ]
     },
     "execution_count": 47,
     "metadata": {},
     "output_type": "execute_result"
    }
   ],
   "source": [
    "num_cols.remove('churn_probability')\n",
    "num_cols"
   ]
  },
  {
   "cell_type": "code",
   "execution_count": 48,
   "metadata": {},
   "outputs": [],
   "source": [
    "def cap_outliers(array, k=3):\n",
    "    upper_limit = array.mean() + k*array.std()\n",
    "    lower_limit = array.mean() - k*array.std()\n",
    "    array[array<lower_limit] = lower_limit\n",
    "    array[array>upper_limit] = upper_limit\n",
    "    return array\n",
    "df_filtered[num_cols] = df_filtered[num_cols].apply(cap_outliers, axis=0)"
   ]
  },
  {
   "cell_type": "code",
   "execution_count": 49,
   "metadata": {},
   "outputs": [
    {
     "data": {
      "text/plain": [
       "0        0.0\n",
       "1        0.0\n",
       "2        0.0\n",
       "3        0.0\n",
       "4        0.0\n",
       "        ... \n",
       "21008    0.0\n",
       "21009    0.0\n",
       "21010    0.0\n",
       "21011    0.0\n",
       "21012    0.0\n",
       "Name: churn_probability, Length: 21013, dtype: float64"
      ]
     },
     "execution_count": 49,
     "metadata": {},
     "output_type": "execute_result"
    }
   ],
   "source": [
    "df_filtered['churn_probability'] = pd.to_numeric(df_filtered['churn_probability'])\n",
    "df_filtered['churn_probability']"
   ]
  },
  {
   "cell_type": "code",
   "execution_count": 50,
   "metadata": {
    "execution": {
     "iopub.execute_input": "2022-07-30T20:35:59.674083Z",
     "iopub.status.busy": "2022-07-30T20:35:59.673767Z",
     "iopub.status.idle": "2022-07-30T20:35:59.697893Z",
     "shell.execute_reply": "2022-07-30T20:35:59.697001Z",
     "shell.execute_reply.started": "2022-07-30T20:35:59.674044Z"
    }
   },
   "outputs": [],
   "source": [
    "X = df_filtered.drop(['churn_probability'],axis=1)\n",
    "y=df_filtered['churn_probability']"
   ]
  },
  {
   "cell_type": "markdown",
   "metadata": {},
   "source": [
    "### Aggregating Categorical columns:"
   ]
  },
  {
   "cell_type": "code",
   "execution_count": 51,
   "metadata": {
    "scrolled": true
   },
   "outputs": [
    {
     "name": "stdout",
     "output_type": "stream",
     "text": [
      "night_pck_user_6\n",
      "-1.0    0.099925\n",
      " 0.0    0.068104\n",
      " 1.0    0.108303\n",
      "Name: churn_probability, dtype: float64\n",
      "night_pck_user_7\n",
      "-1.0    0.117000\n",
      " 0.0    0.056505\n",
      " 1.0    0.062044\n",
      "Name: churn_probability, dtype: float64\n",
      "night_pck_user_8\n",
      "-1.0    0.142276\n",
      " 0.0    0.030439\n",
      " 1.0    0.029167\n",
      "Name: churn_probability, dtype: float64\n",
      "fb_user_6\n",
      "-1.0    0.099925\n",
      " 0.0    0.080432\n",
      " 1.0    0.068184\n",
      "Name: churn_probability, dtype: float64\n",
      "fb_user_7\n",
      "-1.0    0.117000\n",
      " 0.0    0.070099\n",
      " 1.0    0.055515\n",
      "Name: churn_probability, dtype: float64\n",
      "fb_user_8\n",
      "-1.0    0.142276\n",
      " 0.0    0.076923\n",
      " 1.0    0.024975\n",
      "Name: churn_probability, dtype: float64\n"
     ]
    }
   ],
   "source": [
    "train = pd.concat([X, y], axis=1)\n",
    "\n",
    "# aggregate the categorical variables\n",
    "print(train.groupby('night_pck_user_6').churn_probability.mean())\n",
    "print(train.groupby('night_pck_user_7').churn_probability.mean())\n",
    "print(train.groupby('night_pck_user_8').churn_probability.mean())\n",
    "print(train.groupby('fb_user_6').churn_probability.mean())\n",
    "print(train.groupby('fb_user_7').churn_probability.mean())\n",
    "print(train.groupby('fb_user_8').churn_probability.mean())"
   ]
  },
  {
   "cell_type": "code",
   "execution_count": 52,
   "metadata": {},
   "outputs": [],
   "source": [
    "# replace categories with aggregated values in each categorical column\n",
    "mapping = {'night_pck_user_6' : {-1.0:    0.099925,\n",
    " 0.0:    0.068104,\n",
    " 1.0:    0.108303},\n",
    "           'night_pck_user_7' : {-1.0:    0.117000,\n",
    " 0.0:    0.056505,\n",
    " 1.0:    0.062044},\n",
    "           'night_pck_user_8' : {-1.0:    0.142276,\n",
    " 0.0:    0.030439,\n",
    " 1.0:    0.029167},\n",
    "           'fb_user_6'        : {-1.0:    0.099925,\n",
    " 0.0:    0.080432,\n",
    " 1.0:    0.068184},\n",
    "           'fb_user_7'        : {-1.0:    0.117000,\n",
    " 0.0:    0.070099,\n",
    " 1.0:    0.055515},\n",
    "           'fb_user_8'        : {-1.0:    0.142276,\n",
    " 0.0:    0.076923,\n",
    " 1.0:    0.024975}\n",
    "          }\n",
    "\n",
    "X.replace(mapping, inplace = True)"
   ]
  },
  {
   "cell_type": "code",
   "execution_count": 53,
   "metadata": {},
   "outputs": [
    {
     "name": "stdout",
     "output_type": "stream",
     "text": [
      "<class 'pandas.core.frame.DataFrame'>\n",
      "RangeIndex: 21013 entries, 0 to 21012\n",
      "Data columns (total 6 columns):\n",
      " #   Column            Non-Null Count  Dtype  \n",
      "---  ------            --------------  -----  \n",
      " 0   night_pck_user_6  21013 non-null  float64\n",
      " 1   night_pck_user_7  21013 non-null  float64\n",
      " 2   night_pck_user_8  21013 non-null  float64\n",
      " 3   fb_user_6         21013 non-null  float64\n",
      " 4   fb_user_7         21013 non-null  float64\n",
      " 5   fb_user_8         21013 non-null  float64\n",
      "dtypes: float64(6)\n",
      "memory usage: 985.1 KB\n"
     ]
    }
   ],
   "source": [
    "# check data type of categorical columns - make sure they are numeric\n",
    "X[[col for col in cat_cols]].info()"
   ]
  },
  {
   "cell_type": "markdown",
   "metadata": {},
   "source": [
    "### Test Data Preparation:"
   ]
  },
  {
   "cell_type": "markdown",
   "metadata": {},
   "source": [
    "Let's now prepare our test dataset for analysis"
   ]
  },
  {
   "cell_type": "code",
   "execution_count": 54,
   "metadata": {
    "execution": {
     "iopub.execute_input": "2022-07-30T20:35:59.931981Z",
     "iopub.status.busy": "2022-07-30T20:35:59.931194Z",
     "iopub.status.idle": "2022-07-30T20:35:59.959484Z",
     "shell.execute_reply": "2022-07-30T20:35:59.958650Z",
     "shell.execute_reply.started": "2022-07-30T20:35:59.931938Z"
    }
   },
   "outputs": [],
   "source": [
    "df = pd.read_csv('test (1).csv')"
   ]
  },
  {
   "cell_type": "code",
   "execution_count": 55,
   "metadata": {},
   "outputs": [],
   "source": [
    "sol = pd.read_csv('solution (1).csv')\n",
    "df_test = df.merge(sol,on='id')"
   ]
  },
  {
   "cell_type": "code",
   "execution_count": 56,
   "metadata": {},
   "outputs": [
    {
     "data": {
      "text/html": [
       "<div>\n",
       "<style scoped>\n",
       "    .dataframe tbody tr th:only-of-type {\n",
       "        vertical-align: middle;\n",
       "    }\n",
       "\n",
       "    .dataframe tbody tr th {\n",
       "        vertical-align: top;\n",
       "    }\n",
       "\n",
       "    .dataframe thead th {\n",
       "        text-align: right;\n",
       "    }\n",
       "</style>\n",
       "<table border=\"1\" class=\"dataframe\">\n",
       "  <thead>\n",
       "    <tr style=\"text-align: right;\">\n",
       "      <th></th>\n",
       "      <th>id</th>\n",
       "      <th>circle_id</th>\n",
       "      <th>loc_og_t2o_mou</th>\n",
       "      <th>std_og_t2o_mou</th>\n",
       "      <th>loc_ic_t2o_mou</th>\n",
       "      <th>last_date_of_month_6</th>\n",
       "      <th>last_date_of_month_7</th>\n",
       "      <th>last_date_of_month_8</th>\n",
       "      <th>arpu_6</th>\n",
       "      <th>arpu_7</th>\n",
       "      <th>...</th>\n",
       "      <th>sachet_3g_7</th>\n",
       "      <th>sachet_3g_8</th>\n",
       "      <th>fb_user_6</th>\n",
       "      <th>fb_user_7</th>\n",
       "      <th>fb_user_8</th>\n",
       "      <th>aon</th>\n",
       "      <th>aug_vbc_3g</th>\n",
       "      <th>jul_vbc_3g</th>\n",
       "      <th>jun_vbc_3g</th>\n",
       "      <th>churn_probability</th>\n",
       "    </tr>\n",
       "  </thead>\n",
       "  <tbody>\n",
       "    <tr>\n",
       "      <th>0</th>\n",
       "      <td>69999</td>\n",
       "      <td>109</td>\n",
       "      <td>0.0</td>\n",
       "      <td>0.0</td>\n",
       "      <td>0.0</td>\n",
       "      <td>6/30/2014</td>\n",
       "      <td>7/31/2014</td>\n",
       "      <td>8/31/2014</td>\n",
       "      <td>91.882</td>\n",
       "      <td>65.330</td>\n",
       "      <td>...</td>\n",
       "      <td>0</td>\n",
       "      <td>0</td>\n",
       "      <td>NaN</td>\n",
       "      <td>NaN</td>\n",
       "      <td>NaN</td>\n",
       "      <td>1692</td>\n",
       "      <td>0.00</td>\n",
       "      <td>0.00</td>\n",
       "      <td>0.00</td>\n",
       "      <td>0</td>\n",
       "    </tr>\n",
       "    <tr>\n",
       "      <th>1</th>\n",
       "      <td>70000</td>\n",
       "      <td>109</td>\n",
       "      <td>0.0</td>\n",
       "      <td>0.0</td>\n",
       "      <td>0.0</td>\n",
       "      <td>6/30/2014</td>\n",
       "      <td>7/31/2014</td>\n",
       "      <td>8/31/2014</td>\n",
       "      <td>414.168</td>\n",
       "      <td>515.568</td>\n",
       "      <td>...</td>\n",
       "      <td>0</td>\n",
       "      <td>0</td>\n",
       "      <td>NaN</td>\n",
       "      <td>NaN</td>\n",
       "      <td>NaN</td>\n",
       "      <td>2533</td>\n",
       "      <td>0.00</td>\n",
       "      <td>0.00</td>\n",
       "      <td>0.00</td>\n",
       "      <td>0</td>\n",
       "    </tr>\n",
       "    <tr>\n",
       "      <th>2</th>\n",
       "      <td>70001</td>\n",
       "      <td>109</td>\n",
       "      <td>0.0</td>\n",
       "      <td>0.0</td>\n",
       "      <td>0.0</td>\n",
       "      <td>6/30/2014</td>\n",
       "      <td>7/31/2014</td>\n",
       "      <td>8/31/2014</td>\n",
       "      <td>329.844</td>\n",
       "      <td>434.884</td>\n",
       "      <td>...</td>\n",
       "      <td>0</td>\n",
       "      <td>0</td>\n",
       "      <td>NaN</td>\n",
       "      <td>NaN</td>\n",
       "      <td>NaN</td>\n",
       "      <td>277</td>\n",
       "      <td>525.61</td>\n",
       "      <td>758.41</td>\n",
       "      <td>241.84</td>\n",
       "      <td>1</td>\n",
       "    </tr>\n",
       "    <tr>\n",
       "      <th>3</th>\n",
       "      <td>70002</td>\n",
       "      <td>109</td>\n",
       "      <td>0.0</td>\n",
       "      <td>0.0</td>\n",
       "      <td>0.0</td>\n",
       "      <td>6/30/2014</td>\n",
       "      <td>7/31/2014</td>\n",
       "      <td>8/31/2014</td>\n",
       "      <td>43.550</td>\n",
       "      <td>171.390</td>\n",
       "      <td>...</td>\n",
       "      <td>0</td>\n",
       "      <td>0</td>\n",
       "      <td>NaN</td>\n",
       "      <td>NaN</td>\n",
       "      <td>NaN</td>\n",
       "      <td>1244</td>\n",
       "      <td>0.00</td>\n",
       "      <td>0.00</td>\n",
       "      <td>0.00</td>\n",
       "      <td>0</td>\n",
       "    </tr>\n",
       "    <tr>\n",
       "      <th>4</th>\n",
       "      <td>70003</td>\n",
       "      <td>109</td>\n",
       "      <td>0.0</td>\n",
       "      <td>0.0</td>\n",
       "      <td>0.0</td>\n",
       "      <td>6/30/2014</td>\n",
       "      <td>7/31/2014</td>\n",
       "      <td>8/31/2014</td>\n",
       "      <td>306.854</td>\n",
       "      <td>406.289</td>\n",
       "      <td>...</td>\n",
       "      <td>0</td>\n",
       "      <td>0</td>\n",
       "      <td>NaN</td>\n",
       "      <td>NaN</td>\n",
       "      <td>NaN</td>\n",
       "      <td>462</td>\n",
       "      <td>0.00</td>\n",
       "      <td>0.00</td>\n",
       "      <td>0.00</td>\n",
       "      <td>0</td>\n",
       "    </tr>\n",
       "    <tr>\n",
       "      <th>...</th>\n",
       "      <td>...</td>\n",
       "      <td>...</td>\n",
       "      <td>...</td>\n",
       "      <td>...</td>\n",
       "      <td>...</td>\n",
       "      <td>...</td>\n",
       "      <td>...</td>\n",
       "      <td>...</td>\n",
       "      <td>...</td>\n",
       "      <td>...</td>\n",
       "      <td>...</td>\n",
       "      <td>...</td>\n",
       "      <td>...</td>\n",
       "      <td>...</td>\n",
       "      <td>...</td>\n",
       "      <td>...</td>\n",
       "      <td>...</td>\n",
       "      <td>...</td>\n",
       "      <td>...</td>\n",
       "      <td>...</td>\n",
       "      <td>...</td>\n",
       "    </tr>\n",
       "    <tr>\n",
       "      <th>29995</th>\n",
       "      <td>99994</td>\n",
       "      <td>109</td>\n",
       "      <td>0.0</td>\n",
       "      <td>0.0</td>\n",
       "      <td>0.0</td>\n",
       "      <td>6/30/2014</td>\n",
       "      <td>7/31/2014</td>\n",
       "      <td>8/31/2014</td>\n",
       "      <td>718.870</td>\n",
       "      <td>396.259</td>\n",
       "      <td>...</td>\n",
       "      <td>0</td>\n",
       "      <td>0</td>\n",
       "      <td>1.0</td>\n",
       "      <td>NaN</td>\n",
       "      <td>NaN</td>\n",
       "      <td>1255</td>\n",
       "      <td>3.71</td>\n",
       "      <td>105.64</td>\n",
       "      <td>61.48</td>\n",
       "      <td>0</td>\n",
       "    </tr>\n",
       "    <tr>\n",
       "      <th>29996</th>\n",
       "      <td>99995</td>\n",
       "      <td>109</td>\n",
       "      <td>0.0</td>\n",
       "      <td>0.0</td>\n",
       "      <td>0.0</td>\n",
       "      <td>6/30/2014</td>\n",
       "      <td>7/31/2014</td>\n",
       "      <td>8/31/2014</td>\n",
       "      <td>218.327</td>\n",
       "      <td>324.070</td>\n",
       "      <td>...</td>\n",
       "      <td>0</td>\n",
       "      <td>0</td>\n",
       "      <td>NaN</td>\n",
       "      <td>0.0</td>\n",
       "      <td>NaN</td>\n",
       "      <td>2258</td>\n",
       "      <td>0.00</td>\n",
       "      <td>0.00</td>\n",
       "      <td>0.00</td>\n",
       "      <td>0</td>\n",
       "    </tr>\n",
       "    <tr>\n",
       "      <th>29997</th>\n",
       "      <td>99996</td>\n",
       "      <td>109</td>\n",
       "      <td>0.0</td>\n",
       "      <td>0.0</td>\n",
       "      <td>0.0</td>\n",
       "      <td>6/30/2014</td>\n",
       "      <td>7/31/2014</td>\n",
       "      <td>8/31/2014</td>\n",
       "      <td>139.473</td>\n",
       "      <td>38.230</td>\n",
       "      <td>...</td>\n",
       "      <td>0</td>\n",
       "      <td>0</td>\n",
       "      <td>NaN</td>\n",
       "      <td>NaN</td>\n",
       "      <td>NaN</td>\n",
       "      <td>440</td>\n",
       "      <td>0.00</td>\n",
       "      <td>0.00</td>\n",
       "      <td>0.00</td>\n",
       "      <td>0</td>\n",
       "    </tr>\n",
       "    <tr>\n",
       "      <th>29998</th>\n",
       "      <td>99997</td>\n",
       "      <td>109</td>\n",
       "      <td>0.0</td>\n",
       "      <td>0.0</td>\n",
       "      <td>0.0</td>\n",
       "      <td>6/30/2014</td>\n",
       "      <td>7/31/2014</td>\n",
       "      <td>8/31/2014</td>\n",
       "      <td>1122.912</td>\n",
       "      <td>781.121</td>\n",
       "      <td>...</td>\n",
       "      <td>0</td>\n",
       "      <td>0</td>\n",
       "      <td>NaN</td>\n",
       "      <td>NaN</td>\n",
       "      <td>NaN</td>\n",
       "      <td>810</td>\n",
       "      <td>0.00</td>\n",
       "      <td>0.00</td>\n",
       "      <td>0.00</td>\n",
       "      <td>0</td>\n",
       "    </tr>\n",
       "    <tr>\n",
       "      <th>29999</th>\n",
       "      <td>99998</td>\n",
       "      <td>109</td>\n",
       "      <td>0.0</td>\n",
       "      <td>0.0</td>\n",
       "      <td>0.0</td>\n",
       "      <td>6/30/2014</td>\n",
       "      <td>7/31/2014</td>\n",
       "      <td>8/31/2014</td>\n",
       "      <td>318.980</td>\n",
       "      <td>307.890</td>\n",
       "      <td>...</td>\n",
       "      <td>1</td>\n",
       "      <td>0</td>\n",
       "      <td>1.0</td>\n",
       "      <td>1.0</td>\n",
       "      <td>1.0</td>\n",
       "      <td>440</td>\n",
       "      <td>762.55</td>\n",
       "      <td>687.13</td>\n",
       "      <td>22.76</td>\n",
       "      <td>0</td>\n",
       "    </tr>\n",
       "  </tbody>\n",
       "</table>\n",
       "<p>30000 rows × 172 columns</p>\n",
       "</div>"
      ],
      "text/plain": [
       "          id  circle_id  loc_og_t2o_mou  std_og_t2o_mou  loc_ic_t2o_mou  \\\n",
       "0      69999        109             0.0             0.0             0.0   \n",
       "1      70000        109             0.0             0.0             0.0   \n",
       "2      70001        109             0.0             0.0             0.0   \n",
       "3      70002        109             0.0             0.0             0.0   \n",
       "4      70003        109             0.0             0.0             0.0   \n",
       "...      ...        ...             ...             ...             ...   \n",
       "29995  99994        109             0.0             0.0             0.0   \n",
       "29996  99995        109             0.0             0.0             0.0   \n",
       "29997  99996        109             0.0             0.0             0.0   \n",
       "29998  99997        109             0.0             0.0             0.0   \n",
       "29999  99998        109             0.0             0.0             0.0   \n",
       "\n",
       "      last_date_of_month_6 last_date_of_month_7 last_date_of_month_8  \\\n",
       "0                6/30/2014            7/31/2014            8/31/2014   \n",
       "1                6/30/2014            7/31/2014            8/31/2014   \n",
       "2                6/30/2014            7/31/2014            8/31/2014   \n",
       "3                6/30/2014            7/31/2014            8/31/2014   \n",
       "4                6/30/2014            7/31/2014            8/31/2014   \n",
       "...                    ...                  ...                  ...   \n",
       "29995            6/30/2014            7/31/2014            8/31/2014   \n",
       "29996            6/30/2014            7/31/2014            8/31/2014   \n",
       "29997            6/30/2014            7/31/2014            8/31/2014   \n",
       "29998            6/30/2014            7/31/2014            8/31/2014   \n",
       "29999            6/30/2014            7/31/2014            8/31/2014   \n",
       "\n",
       "         arpu_6   arpu_7  ...  sachet_3g_7  sachet_3g_8  fb_user_6  fb_user_7  \\\n",
       "0        91.882   65.330  ...            0            0        NaN        NaN   \n",
       "1       414.168  515.568  ...            0            0        NaN        NaN   \n",
       "2       329.844  434.884  ...            0            0        NaN        NaN   \n",
       "3        43.550  171.390  ...            0            0        NaN        NaN   \n",
       "4       306.854  406.289  ...            0            0        NaN        NaN   \n",
       "...         ...      ...  ...          ...          ...        ...        ...   \n",
       "29995   718.870  396.259  ...            0            0        1.0        NaN   \n",
       "29996   218.327  324.070  ...            0            0        NaN        0.0   \n",
       "29997   139.473   38.230  ...            0            0        NaN        NaN   \n",
       "29998  1122.912  781.121  ...            0            0        NaN        NaN   \n",
       "29999   318.980  307.890  ...            1            0        1.0        1.0   \n",
       "\n",
       "       fb_user_8   aon  aug_vbc_3g  jul_vbc_3g  jun_vbc_3g  churn_probability  \n",
       "0            NaN  1692        0.00        0.00        0.00                  0  \n",
       "1            NaN  2533        0.00        0.00        0.00                  0  \n",
       "2            NaN   277      525.61      758.41      241.84                  1  \n",
       "3            NaN  1244        0.00        0.00        0.00                  0  \n",
       "4            NaN   462        0.00        0.00        0.00                  0  \n",
       "...          ...   ...         ...         ...         ...                ...  \n",
       "29995        NaN  1255        3.71      105.64       61.48                  0  \n",
       "29996        NaN  2258        0.00        0.00        0.00                  0  \n",
       "29997        NaN   440        0.00        0.00        0.00                  0  \n",
       "29998        NaN   810        0.00        0.00        0.00                  0  \n",
       "29999        1.0   440      762.55      687.13       22.76                  0  \n",
       "\n",
       "[30000 rows x 172 columns]"
      ]
     },
     "execution_count": 56,
     "metadata": {},
     "output_type": "execute_result"
    }
   ],
   "source": [
    "df_test"
   ]
  },
  {
   "cell_type": "code",
   "execution_count": 57,
   "metadata": {},
   "outputs": [],
   "source": [
    "df_test[rech] = df_test[rech].apply(lambda x: x.fillna(0))"
   ]
  },
  {
   "cell_type": "code",
   "execution_count": 58,
   "metadata": {},
   "outputs": [],
   "source": [
    "# replace missing values with '-1' in categorical columns\n",
    "df_test[cat_cols] = df_test[cat_cols].apply(lambda x: x.fillna(-1))"
   ]
  },
  {
   "cell_type": "code",
   "execution_count": 59,
   "metadata": {
    "execution": {
     "iopub.execute_input": "2022-07-30T20:35:57.157744Z",
     "iopub.status.busy": "2022-07-30T20:35:57.157265Z",
     "iopub.status.idle": "2022-07-30T20:35:57.170742Z",
     "shell.execute_reply": "2022-07-30T20:35:57.169625Z",
     "shell.execute_reply.started": "2022-07-30T20:35:57.157699Z"
    }
   },
   "outputs": [
    {
     "name": "stdout",
     "output_type": "stream",
     "text": [
      "last_date_of_month_6\n",
      "last_date_of_month_7\n",
      "last_date_of_month_8\n",
      "date_of_last_rech_6\n",
      "date_of_last_rech_7\n",
      "date_of_last_rech_8\n",
      "date_of_last_rech_data_6\n",
      "date_of_last_rech_data_7\n",
      "date_of_last_rech_data_8\n"
     ]
    }
   ],
   "source": [
    "colls = []\n",
    "for col in df_test.columns:\n",
    "    if df_test[col].dtype == object:\n",
    "        colls+=[col]\n",
    "        print(col)"
   ]
  },
  {
   "cell_type": "code",
   "execution_count": 60,
   "metadata": {
    "execution": {
     "iopub.execute_input": "2022-07-30T20:35:57.199930Z",
     "iopub.status.busy": "2022-07-30T20:35:57.199603Z",
     "iopub.status.idle": "2022-07-30T20:35:57.226812Z",
     "shell.execute_reply": "2022-07-30T20:35:57.225824Z",
     "shell.execute_reply.started": "2022-07-30T20:35:57.199901Z"
    }
   },
   "outputs": [],
   "source": [
    "df_test = df_test.drop(colls,axis=1)"
   ]
  },
  {
   "cell_type": "code",
   "execution_count": 61,
   "metadata": {
    "scrolled": true
   },
   "outputs": [
    {
     "name": "stdout",
     "output_type": "stream",
     "text": [
      "['arpu_3g_6', 'arpu_3g_7', 'arpu_3g_8', 'arpu_2g_6', 'arpu_2g_7', 'arpu_2g_8']\n"
     ]
    }
   ],
   "source": [
    "coll=[]\n",
    "for col in df_test.columns:\n",
    "    null_col = df_test[col].isnull().sum() / df_test.shape[0] * 100\n",
    "    if null_col > 50:    \n",
    "        coll+=[col]\n",
    "print(coll)"
   ]
  },
  {
   "cell_type": "markdown",
   "metadata": {},
   "source": [
    "Since high percentage of null values will affect our analysis, we are dropping these columns."
   ]
  },
  {
   "cell_type": "code",
   "execution_count": 62,
   "metadata": {},
   "outputs": [],
   "source": [
    "df_test = df_test.drop(coll,axis=1)"
   ]
  },
  {
   "cell_type": "markdown",
   "metadata": {},
   "source": [
    "Since the Id columns are not useful, we will drop them also."
   ]
  },
  {
   "cell_type": "code",
   "execution_count": 63,
   "metadata": {},
   "outputs": [],
   "source": [
    "df_test = df_test.drop(['id','circle_id'],axis =1)"
   ]
  },
  {
   "cell_type": "markdown",
   "metadata": {
    "execution": {
     "iopub.execute_input": "2022-07-30T20:35:56.735978Z",
     "iopub.status.busy": "2022-07-30T20:35:56.735534Z",
     "iopub.status.idle": "2022-07-30T20:35:56.854562Z",
     "shell.execute_reply": "2022-07-30T20:35:56.853558Z",
     "shell.execute_reply.started": "2022-07-30T20:35:56.735945Z"
    }
   },
   "source": [
    "Let's derive the values of total data rechatge done in the months June, July and August by the customers."
   ]
  },
  {
   "cell_type": "code",
   "execution_count": 64,
   "metadata": {},
   "outputs": [],
   "source": [
    "df_test['total_data_6'] = df_test.total_rech_data_6 * df_test.av_rech_amt_data_6\n",
    "df_test['total_data_7'] = df_test.total_rech_data_7 * df_test.av_rech_amt_data_7"
   ]
  },
  {
   "cell_type": "markdown",
   "metadata": {},
   "source": [
    "We can drop the columns total_rech_data and av_rech_amt_data for all the three months."
   ]
  },
  {
   "cell_type": "code",
   "execution_count": 65,
   "metadata": {},
   "outputs": [],
   "source": [
    "df_test = df_test.drop(columns = ['av_rech_amt_data_6', 'av_rech_amt_data_7', 'total_rech_data_6', 'total_rech_data_7'], axis =1)"
   ]
  },
  {
   "cell_type": "markdown",
   "metadata": {},
   "source": [
    "Let's find the averages of data and recharge of the customers for the three months."
   ]
  },
  {
   "cell_type": "code",
   "execution_count": 66,
   "metadata": {},
   "outputs": [],
   "source": [
    "df_test['total_rech_6'] = df_test['total_data_6'] + df_test['total_rech_amt_6']\n",
    "df_test['total_rech_7'] = df_test['total_data_7'] + df_test['total_rech_amt_7']\n",
    "\n",
    "df_test['avg_rech_6_7'] = (df_test['total_rech_6'] + df_test['total_rech_7'])/2"
   ]
  },
  {
   "cell_type": "markdown",
   "metadata": {},
   "source": [
    "We are checking how many unique values are present in each of the columns."
   ]
  },
  {
   "cell_type": "code",
   "execution_count": 67,
   "metadata": {
    "execution": {
     "iopub.execute_input": "2022-07-30T20:35:57.254904Z",
     "iopub.status.busy": "2022-07-30T20:35:57.254164Z",
     "iopub.status.idle": "2022-07-30T20:35:57.526332Z",
     "shell.execute_reply": "2022-07-30T20:35:57.525173Z",
     "shell.execute_reply.started": "2022-07-30T20:35:57.254867Z"
    },
    "scrolled": false
   },
   "outputs": [],
   "source": [
    "colls = []\n",
    "for col in df_test.columns:\n",
    "    if df_test[col].nunique() ==1:\n",
    "        colls+=[col]"
   ]
  },
  {
   "cell_type": "markdown",
   "metadata": {},
   "source": [
    "We need to drop the columns having a single value as it does not add any useful information to our analysis."
   ]
  },
  {
   "cell_type": "code",
   "execution_count": 68,
   "metadata": {
    "execution": {
     "iopub.execute_input": "2022-07-30T20:35:57.561404Z",
     "iopub.status.busy": "2022-07-30T20:35:57.561120Z",
     "iopub.status.idle": "2022-07-30T20:35:57.588253Z",
     "shell.execute_reply": "2022-07-30T20:35:57.586953Z",
     "shell.execute_reply.started": "2022-07-30T20:35:57.561379Z"
    }
   },
   "outputs": [],
   "source": [
    "df_test = df_test.drop(colls,axis=1)"
   ]
  },
  {
   "cell_type": "markdown",
   "metadata": {},
   "source": [
    "Imputing the missing values in test dataset."
   ]
  },
  {
   "cell_type": "code",
   "execution_count": 69,
   "metadata": {},
   "outputs": [],
   "source": [
    "df_test_cols = df_test.columns\n",
    "\n",
    "# using MICE technique to impute missing values in the rest of the columns\n",
    "df_test = imp.fit_transform(df_test)"
   ]
  },
  {
   "cell_type": "code",
   "execution_count": 70,
   "metadata": {},
   "outputs": [
    {
     "name": "stdout",
     "output_type": "stream",
     "text": [
      "arpu_6          0.0\n",
      "arpu_7          0.0\n",
      "arpu_8          0.0\n",
      "onnet_mou_6     0.0\n",
      "onnet_mou_7     0.0\n",
      "               ... \n",
      "total_data_6    0.0\n",
      "total_data_7    0.0\n",
      "total_rech_6    0.0\n",
      "total_rech_7    0.0\n",
      "avg_rech_6_7    0.0\n",
      "Length: 147, dtype: float64\n"
     ]
    }
   ],
   "source": [
    "# convert imputed numpy array to pandas dataframe\n",
    "df_test = pd.DataFrame(df_test, columns=df_test_cols)\n",
    "print(df_test.isnull().sum()*100/df_test.shape[0])"
   ]
  },
  {
   "cell_type": "code",
   "execution_count": 71,
   "metadata": {},
   "outputs": [],
   "source": [
    "df_test[num_cols] = df_test[num_cols].apply(cap_outliers, axis=0)"
   ]
  },
  {
   "cell_type": "code",
   "execution_count": 72,
   "metadata": {
    "scrolled": true
   },
   "outputs": [
    {
     "name": "stdout",
     "output_type": "stream",
     "text": [
      "night_pck_user_6\n",
      "-1.0    0.108008\n",
      " 0.0    0.084077\n",
      " 1.0    0.085561\n",
      "Name: churn_probability, dtype: float64\n",
      "night_pck_user_7\n",
      "-1.0    0.115995\n",
      " 0.0    0.061481\n",
      " 1.0    0.056604\n",
      "Name: churn_probability, dtype: float64\n",
      "night_pck_user_8\n",
      "-1.0    0.126280\n",
      " 0.0    0.034407\n",
      " 1.0    0.024691\n",
      "Name: churn_probability, dtype: float64\n",
      "fb_user_6\n",
      "-1.0    0.108008\n",
      " 0.0    0.115666\n",
      " 1.0    0.080991\n",
      "Name: churn_probability, dtype: float64\n",
      "fb_user_7\n",
      "-1.0    0.115995\n",
      " 0.0    0.076709\n",
      " 1.0    0.059808\n",
      "Name: churn_probability, dtype: float64\n",
      "fb_user_8\n",
      "-1.0    0.126280\n",
      " 0.0    0.054907\n",
      " 1.0    0.031701\n",
      "Name: churn_probability, dtype: float64\n"
     ]
    }
   ],
   "source": [
    "# aggregate the categorical variables\n",
    "print(df_test.groupby('night_pck_user_6').churn_probability.mean())\n",
    "print(df_test.groupby('night_pck_user_7').churn_probability.mean())\n",
    "print(df_test.groupby('night_pck_user_8').churn_probability.mean())\n",
    "print(df_test.groupby('fb_user_6').churn_probability.mean())\n",
    "print(df_test.groupby('fb_user_7').churn_probability.mean())\n",
    "print(df_test.groupby('fb_user_8').churn_probability.mean())"
   ]
  },
  {
   "cell_type": "code",
   "execution_count": 73,
   "metadata": {},
   "outputs": [],
   "source": [
    "# replace categories with aggregated values in each categorical column\n",
    "mapping = {'night_pck_user_6' : {-1.0:    0.108008, 0.0:    0.084077, 1.0:    0.085561},\n",
    "           'night_pck_user_7' : {-1.0:    0.115995, 0.0:    0.061481, 1.0:    0.056604},\n",
    "           'night_pck_user_8' : {-1.0:    0.126280, 0.0:    0.034407, 1.0:    0.024691},\n",
    "           'fb_user_6'        : {-1.0:    0.108008, 0.0:    0.115666, 1.0:    0.080991},\n",
    "           'fb_user_7'        : {-1.0:    0.115995, 0.0:    0.076709, 1.0:    0.059808},\n",
    "           'fb_user_8'        : {-1.0:    0.126280, 0.0:    0.054907, 1.0:    0.031701}\n",
    "          }"
   ]
  },
  {
   "cell_type": "code",
   "execution_count": 74,
   "metadata": {},
   "outputs": [],
   "source": [
    "X_test = df_test.drop('churn_probability',axis=1)\n",
    "y_test = df_test['churn_probability']"
   ]
  },
  {
   "cell_type": "code",
   "execution_count": 75,
   "metadata": {},
   "outputs": [],
   "source": [
    "X_test.replace(mapping, inplace = True)"
   ]
  },
  {
   "cell_type": "code",
   "execution_count": null,
   "metadata": {},
   "outputs": [],
   "source": []
  },
  {
   "cell_type": "markdown",
   "metadata": {},
   "source": [
    "### Step 5: Model Building"
   ]
  },
  {
   "cell_type": "markdown",
   "metadata": {},
   "source": [
    "Import required libraries"
   ]
  },
  {
   "cell_type": "code",
   "execution_count": 76,
   "metadata": {},
   "outputs": [],
   "source": [
    "# import required libraries\n",
    "from sklearn.model_selection import train_test_split\n",
    "from sklearn.pipeline import Pipeline\n",
    "from sklearn.decomposition import PCA\n",
    "from sklearn.preprocessing import StandardScaler\n",
    "from sklearn.pipeline import FeatureUnion\n",
    "from sklearn.base import BaseEstimator, TransformerMixin\n",
    "from sklearn.linear_model import LogisticRegression\n",
    "from sklearn.metrics import classification_report\n",
    "from sklearn.metrics import roc_auc_score\n",
    "from imblearn.metrics import sensitivity_specificity_support\n",
    "from sklearn.model_selection import StratifiedKFold\n",
    "from sklearn.model_selection import cross_val_score\n",
    "from sklearn.metrics import confusion_matrix\n",
    "from sklearn.model_selection import GridSearchCV\n",
    "from sklearn.ensemble import RandomForestClassifier\n",
    "from sklearn.ensemble import GradientBoostingClassifier\n",
    "from sklearn.svm import SVC"
   ]
  },
  {
   "cell_type": "markdown",
   "metadata": {},
   "source": [
    "Let's define two functions 'confusion_matrix_plot' and 'cal_score' which will help us in visualising the results each time we run a model."
   ]
  },
  {
   "cell_type": "code",
   "execution_count": 77,
   "metadata": {
    "execution": {
     "iopub.execute_input": "2022-07-30T20:35:59.961505Z",
     "iopub.status.busy": "2022-07-30T20:35:59.960972Z",
     "iopub.status.idle": "2022-07-30T20:35:59.969948Z",
     "shell.execute_reply": "2022-07-30T20:35:59.968752Z",
     "shell.execute_reply.started": "2022-07-30T20:35:59.961472Z"
    }
   },
   "outputs": [],
   "source": [
    "def confusion_matrix_plot(matrix=None,classes=None,name='Logistic Regression'):\n",
    "    plt.figure(figsize=(12,10))\n",
    "    cmap = \"YlOrRd_r\"\n",
    "    ax= plt.subplot()\n",
    "    sns.heatmap(matrix, annot=True, fmt='g', ax=ax, cmap=cmap);  #annot=True to annotate cells, ftm='g' to disable scientific notation\n",
    "    # labels, title and ticks\n",
    "    ax.set_xlabel('Predicted labels',fontsize = 15,fontweight = 3);\n",
    "    ax.set_ylabel('True labels',fontsize = 15,fontweight = 3); \n",
    "    ax.set_title('Confusion Matrix of '+name,fontsize = 25,fontweight = 5); \n",
    "    ax.xaxis.set_ticklabels(classes); \n",
    "    ax.yaxis.set_ticklabels(classes[::-1]);\n",
    "    plt.show()"
   ]
  },
  {
   "cell_type": "code",
   "execution_count": 78,
   "metadata": {
    "execution": {
     "iopub.execute_input": "2022-07-30T20:35:59.972362Z",
     "iopub.status.busy": "2022-07-30T20:35:59.971365Z",
     "iopub.status.idle": "2022-07-30T20:35:59.983027Z",
     "shell.execute_reply": "2022-07-30T20:35:59.981810Z",
     "shell.execute_reply.started": "2022-07-30T20:35:59.972319Z"
    }
   },
   "outputs": [],
   "source": [
    "def cal_score(x_test=None,y_test=None,model=None,name=None):\n",
    "    predictions = model.predict(x_test)\n",
    "    labels=y_test\n",
    "    matrix = confusion_matrix(predictions, labels)\n",
    "    print(matrix)\n",
    "    print('\\n')\n",
    "\n",
    "    f1 = f1_score(predictions, labels, average='weighted')\n",
    "    print(f'F1 Score: {f1}')\n",
    "    print('\\n')\n",
    "    classes=[False,True]\n",
    "    print(classification_report(predictions, labels, labels=classes))\n",
    "    \n",
    "    confusion_matrix_plot(matrix = matrix,classes = classes,name = name)"
   ]
  },
  {
   "cell_type": "markdown",
   "metadata": {},
   "source": [
    "### PCA"
   ]
  },
  {
   "cell_type": "code",
   "execution_count": 79,
   "metadata": {
    "scrolled": false
   },
   "outputs": [
    {
     "name": "stdout",
     "output_type": "stream",
     "text": [
      "0       12.95\n",
      "1       23.52\n",
      "2       30.17\n",
      "3       35.84\n",
      "4       40.00\n",
      "5       43.08\n",
      "6       46.13\n",
      "7       48.75\n",
      "8       51.32\n",
      "9       53.66\n",
      "10      55.97\n",
      "11      57.90\n",
      "12      59.77\n",
      "13      61.48\n",
      "14      63.06\n",
      "15      64.53\n",
      "16      65.98\n",
      "17      67.41\n",
      "18      68.81\n",
      "19      70.10\n",
      "20      71.22\n",
      "21      72.30\n",
      "22      73.33\n",
      "23      74.26\n",
      "24      75.17\n",
      "25      76.06\n",
      "26      76.94\n",
      "27      77.77\n",
      "28      78.57\n",
      "29      79.33\n",
      "30      80.05\n",
      "31      80.75\n",
      "32      81.42\n",
      "33      82.04\n",
      "34      82.64\n",
      "35      83.23\n",
      "36      83.79\n",
      "37      84.34\n",
      "38      84.88\n",
      "39      85.41\n",
      "40      85.92\n",
      "41      86.41\n",
      "42      86.89\n",
      "43      87.35\n",
      "44      87.79\n",
      "45      88.21\n",
      "46      88.63\n",
      "47      89.02\n",
      "48      89.41\n",
      "49      89.79\n",
      "50      90.16\n",
      "51      90.52\n",
      "52      90.88\n",
      "53      91.22\n",
      "54      91.54\n",
      "55      91.86\n",
      "56      92.16\n",
      "57      92.46\n",
      "58      92.74\n",
      "59      93.00\n",
      "60      93.25\n",
      "61      93.50\n",
      "62      93.75\n",
      "63      94.00\n",
      "64      94.23\n",
      "65      94.45\n",
      "66      94.67\n",
      "67      94.89\n",
      "68      95.10\n",
      "69      95.31\n",
      "70      95.50\n",
      "71      95.70\n",
      "72      95.88\n",
      "73      96.07\n",
      "74      96.25\n",
      "75      96.42\n",
      "76      96.60\n",
      "77      96.77\n",
      "78      96.94\n",
      "79      97.09\n",
      "80      97.24\n",
      "81      97.39\n",
      "82      97.53\n",
      "83      97.67\n",
      "84      97.81\n",
      "85      97.94\n",
      "86      98.07\n",
      "87      98.19\n",
      "88      98.30\n",
      "89      98.40\n",
      "90      98.50\n",
      "91      98.60\n",
      "92      98.70\n",
      "93      98.79\n",
      "94      98.87\n",
      "95      98.95\n",
      "96      99.02\n",
      "97      99.09\n",
      "98      99.15\n",
      "99      99.21\n",
      "100     99.27\n",
      "101     99.33\n",
      "102     99.39\n",
      "103     99.44\n",
      "104     99.49\n",
      "105     99.53\n",
      "106     99.56\n",
      "107     99.60\n",
      "108     99.62\n",
      "109     99.65\n",
      "110     99.68\n",
      "111     99.70\n",
      "112     99.73\n",
      "113     99.75\n",
      "114     99.77\n",
      "115     99.79\n",
      "116     99.81\n",
      "117     99.82\n",
      "118     99.84\n",
      "119     99.85\n",
      "120     99.86\n",
      "121     99.87\n",
      "122     99.88\n",
      "123     99.89\n",
      "124     99.90\n",
      "125     99.91\n",
      "126     99.92\n",
      "127     99.93\n",
      "128     99.94\n",
      "129     99.95\n",
      "130     99.95\n",
      "131     99.96\n",
      "132     99.97\n",
      "133     99.97\n",
      "134     99.97\n",
      "135     99.98\n",
      "136     99.98\n",
      "137     99.99\n",
      "138     99.99\n",
      "139     99.99\n",
      "140     99.99\n",
      "141    100.00\n",
      "142    100.00\n",
      "143    100.00\n",
      "144    100.00\n",
      "145    100.00\n",
      "dtype: float64\n"
     ]
    }
   ],
   "source": [
    "# apply pca to train data\n",
    "pca = Pipeline([('scaler', StandardScaler()), ('pca', PCA())])\n",
    "pca.fit(X)\n",
    "churn_pca = pca.fit_transform(X)\n",
    "# extract pca model from pipeline\n",
    "pca = pca.named_steps['pca']\n",
    "\n",
    "# look at explainded variance of PCA components\n",
    "with pd.option_context('display.max_rows', None,):\n",
    "    print(pd.Series(np.round(pca.explained_variance_ratio_.cumsum(), 4)*100))"
   ]
  },
  {
   "cell_type": "markdown",
   "metadata": {},
   "source": [
    "~ 50 components explain 90% variance\n",
    "\n",
    "~ 68 components explain 95% variance"
   ]
  },
  {
   "cell_type": "code",
   "execution_count": 80,
   "metadata": {},
   "outputs": [
    {
     "data": {
      "text/plain": [
       "[<matplotlib.lines.Line2D at 0x1d83335c8e0>]"
      ]
     },
     "execution_count": 80,
     "metadata": {},
     "output_type": "execute_result"
    },
    {
     "data": {
      "image/png": "[encoded data removed]",
      "text/plain": [
       "<Figure size 630x360 with 1 Axes>"
      ]
     },
     "metadata": {
      "needs_background": "light"
     },
     "output_type": "display_data"
    }
   ],
   "source": [
    "# plot feature variance\n",
    "features = range(pca.n_components_)\n",
    "cumulative_variance = np.round(np.cumsum(pca.explained_variance_ratio_)*100, decimals=4)\n",
    "plt.figure(figsize=(175/20,100/20)) # 100 elements on y-axis; 175 elements on x-axis; 20 is normalising factor\n",
    "plt.plot(cumulative_variance)"
   ]
  },
  {
   "cell_type": "markdown",
   "metadata": {},
   "source": [
    "## PCA and Logistic Regression"
   ]
  },
  {
   "cell_type": "code",
   "execution_count": 81,
   "metadata": {},
   "outputs": [],
   "source": [
    "# create pipeline\n",
    "PCA_VARS = 50\n",
    "steps = [('scaler', StandardScaler()),\n",
    "         (\"pca\", PCA(n_components=PCA_VARS)),\n",
    "         (\"logistic\", LogisticRegression(class_weight='balanced'))\n",
    "        ]\n",
    "pipeline = Pipeline(steps)"
   ]
  },
  {
   "cell_type": "code",
   "execution_count": 82,
   "metadata": {},
   "outputs": [
    {
     "name": "stdout",
     "output_type": "stream",
     "text": [
      "Train accuracy\n",
      "0.846380811878361\n"
     ]
    }
   ],
   "source": [
    "# fit model\n",
    "pipeline.fit(X, y)\n",
    "\n",
    "# check score on train data\n",
    "print('Train accuracy')\n",
    "print(pipeline.score(X, y))"
   ]
  },
  {
   "cell_type": "code",
   "execution_count": 83,
   "metadata": {},
   "outputs": [
    {
     "name": "stdout",
     "output_type": "stream",
     "text": [
      "[[23200   582]\n",
      " [ 3741  2477]]\n",
      "\n",
      "\n",
      "F1 Score: 0.8358527989788517\n",
      "\n",
      "\n",
      "              precision    recall  f1-score   support\n",
      "\n",
      "       False       0.86      0.98      0.91     23782\n",
      "        True       0.81      0.40      0.53      6218\n",
      "\n",
      "    accuracy                           0.86     30000\n",
      "   macro avg       0.84      0.69      0.72     30000\n",
      "weighted avg       0.85      0.86      0.84     30000\n",
      "\n"
     ]
    },
    {
     "data": {
      "image/png": "[encoded data removed]",
      "text/plain": [
       "<Figure size 864x720 with 2 Axes>"
      ]
     },
     "metadata": {
      "needs_background": "light"
     },
     "output_type": "display_data"
    }
   ],
   "source": [
    "# create onfusion matrix\n",
    "cal_score(x_test=X_test,y_test=y_test,model=pipeline,name='Logistic Regression')\n"
   ]
  },
  {
   "cell_type": "code",
   "execution_count": 84,
   "metadata": {},
   "outputs": [
    {
     "name": "stdout",
     "output_type": "stream",
     "text": [
      "Sensitivity: \t0.81\n",
      "Specificity: \t0.86\n",
      "AUC:    \t 0.9\n"
     ]
    }
   ],
   "source": [
    "# predict churn on test data\n",
    "y_pred = pipeline.predict(X_test)\n",
    "\n",
    "# check sensitivity and specificity\n",
    "sensitivity, specificity, _ = sensitivity_specificity_support(y_test, y_pred, average='binary')\n",
    "print(\"Sensitivity: \\t\", round(sensitivity, 2), \"\\n\", \"Specificity: \\t\", round(specificity, 2), sep='')\n",
    "\n",
    "# check area under curve\n",
    "y_pred_prob = pipeline.predict_proba(X_test)[:, 1]\n",
    "print(\"AUC:    \\t\", round(roc_auc_score(y_test, y_pred_prob),2))"
   ]
  },
  {
   "cell_type": "markdown",
   "metadata": {},
   "source": [
    "### Hyperparameter tuning - PCA and Logistic Regression"
   ]
  },
  {
   "cell_type": "code",
   "execution_count": 85,
   "metadata": {},
   "outputs": [
    {
     "data": {
      "text/plain": [
       "0.0    0.917242\n",
       "1.0    0.082758\n",
       "Name: churn_probability, dtype: float64"
      ]
     },
     "execution_count": 85,
     "metadata": {},
     "output_type": "execute_result"
    }
   ],
   "source": [
    "# class imbalance\n",
    "y.value_counts()/y.shape"
   ]
  },
  {
   "cell_type": "code",
   "execution_count": 86,
   "metadata": {},
   "outputs": [],
   "source": [
    "# PCA\n",
    "pca = PCA()\n",
    "\n",
    "# logistic regression - the class weight is used to handle class imbalance - it adjusts the cost function\n",
    "logistic = LogisticRegression(class_weight={0:0.1, 1: 0.9})\n",
    "\n",
    "# create pipeline\n",
    "steps = [(\"scaler\", StandardScaler()), \n",
    "         (\"pca\", pca),\n",
    "         (\"logistic\", logistic)\n",
    "        ]\n",
    "\n",
    "# compile pipeline\n",
    "pca_logistic = Pipeline(steps)\n",
    "\n",
    "# hyperparameter space\n",
    "params = {'pca__n_components': [50, 68], 'logistic__C': [0.1, 0.5, 1, 2, 3, 4, 5, 10], 'logistic__penalty': ['l1', 'l2']}\n",
    "\n",
    "# create 5 folds\n",
    "folds = StratifiedKFold(n_splits = 5, shuffle = True, random_state = 4)\n",
    "\n",
    "# create gridsearch object\n",
    "model = GridSearchCV(estimator=pca_logistic, cv=folds, param_grid=params, scoring='roc_auc', n_jobs=-1, verbose=1)"
   ]
  },
  {
   "cell_type": "code",
   "execution_count": 87,
   "metadata": {},
   "outputs": [
    {
     "name": "stdout",
     "output_type": "stream",
     "text": [
      "Fitting 5 folds for each of 32 candidates, totalling 160 fits\n"
     ]
    },
    {
     "data": {
      "text/html": [
       "<style>#sk-container-id-1 {color: black;background-color: white;}#sk-container-id-1 pre{padding: 0;}#sk-container-id-1 div.sk-toggleable {background-color: white;}#sk-container-id-1 label.sk-toggleable__label {cursor: pointer;display: block;width: 100%;margin-bottom: 0;padding: 0.3em;box-sizing: border-box;text-align: center;}#sk-container-id-1 label.sk-toggleable__label-arrow:before {content: \"▸\";float: left;margin-right: 0.25em;color: #696969;}#sk-container-id-1 label.sk-toggleable__label-arrow:hover:before {color: black;}#sk-container-id-1 div.sk-estimator:hover label.sk-toggleable__label-arrow:before {color: black;}#sk-container-id-1 div.sk-toggleable__content {max-height: 0;max-width: 0;overflow: hidden;text-align: left;background-color: #f0f8ff;}#sk-container-id-1 div.sk-toggleable__content pre {margin: 0.2em;color: black;border-radius: 0.25em;background-color: #f0f8ff;}#sk-container-id-1 input.sk-toggleable__control:checked~div.sk-toggleable__content {max-height: 200px;max-width: 100%;overflow: auto;}#sk-container-id-1 input.sk-toggleable__control:checked~label.sk-toggleable__label-arrow:before {content: \"▾\";}#sk-container-id-1 div.sk-estimator input.sk-toggleable__control:checked~label.sk-toggleable__label {background-color: #d4ebff;}#sk-container-id-1 div.sk-label input.sk-toggleable__control:checked~label.sk-toggleable__label {background-color: #d4ebff;}#sk-container-id-1 input.sk-hidden--visually {border: 0;clip: rect(1px 1px 1px 1px);clip: rect(1px, 1px, 1px, 1px);height: 1px;margin: -1px;overflow: hidden;padding: 0;position: absolute;width: 1px;}#sk-container-id-1 div.sk-estimator {font-family: monospace;background-color: #f0f8ff;border: 1px dotted black;border-radius: 0.25em;box-sizing: border-box;margin-bottom: 0.5em;}#sk-container-id-1 div.sk-estimator:hover {background-color: #d4ebff;}#sk-container-id-1 div.sk-parallel-item::after {content: \"\";width: 100%;border-bottom: 1px solid gray;flex-grow: 1;}#sk-container-id-1 div.sk-label:hover label.sk-toggleable__label {background-color: #d4ebff;}#sk-container-id-1 div.sk-serial::before {content: \"\";position: absolute;border-left: 1px solid gray;box-sizing: border-box;top: 0;bottom: 0;left: 50%;z-index: 0;}#sk-container-id-1 div.sk-serial {display: flex;flex-direction: column;align-items: center;background-color: white;padding-right: 0.2em;padding-left: 0.2em;position: relative;}#sk-container-id-1 div.sk-item {position: relative;z-index: 1;}#sk-container-id-1 div.sk-parallel {display: flex;align-items: stretch;justify-content: center;background-color: white;position: relative;}#sk-container-id-1 div.sk-item::before, #sk-container-id-1 div.sk-parallel-item::before {content: \"\";position: absolute;border-left: 1px solid gray;box-sizing: border-box;top: 0;bottom: 0;left: 50%;z-index: -1;}#sk-container-id-1 div.sk-parallel-item {display: flex;flex-direction: column;z-index: 1;position: relative;background-color: white;}#sk-container-id-1 div.sk-parallel-item:first-child::after {align-self: flex-end;width: 50%;}#sk-container-id-1 div.sk-parallel-item:last-child::after {align-self: flex-start;width: 50%;}#sk-container-id-1 div.sk-parallel-item:only-child::after {width: 0;}#sk-container-id-1 div.sk-dashed-wrapped {border: 1px dashed gray;margin: 0 0.4em 0.5em 0.4em;box-sizing: border-box;padding-bottom: 0.4em;background-color: white;}#sk-container-id-1 div.sk-label label {font-family: monospace;font-weight: bold;display: inline-block;line-height: 1.2em;}#sk-container-id-1 div.sk-label-container {text-align: center;}#sk-container-id-1 div.sk-container {/* jupyter's `normalize.less` sets `[hidden] { display: none; }` but bootstrap.min.css set `[hidden] { display: none !important; }` so we also need the `!important` here to be able to override the default hidden behavior on the sphinx rendered scikit-learn.org. See: https://github.com/scikit-learn/scikit-learn/issues/21755 */display: inline-block !important;position: relative;}#sk-container-id-1 div.sk-text-repr-fallback {display: none;}</style><div id=\"sk-container-id-1\" class=\"sk-top-container\"><div class=\"sk-text-repr-fallback\"><pre>GridSearchCV(cv=StratifiedKFold(n_splits=5, random_state=4, shuffle=True),\n",
       "             estimator=Pipeline(steps=[(&#x27;scaler&#x27;, StandardScaler()),\n",
       "                                       (&#x27;pca&#x27;, PCA()),\n",
       "                                       (&#x27;logistic&#x27;,\n",
       "                                        LogisticRegression(class_weight={0: 0.1,\n",
       "                                                                         1: 0.9}))]),\n",
       "             n_jobs=-1,\n",
       "             param_grid={&#x27;logistic__C&#x27;: [0.1, 0.5, 1, 2, 3, 4, 5, 10],\n",
       "                         &#x27;logistic__penalty&#x27;: [&#x27;l1&#x27;, &#x27;l2&#x27;],\n",
       "                         &#x27;pca__n_components&#x27;: [50, 68]},\n",
       "             scoring=&#x27;roc_auc&#x27;, verbose=1)</pre><b>In a Jupyter environment, please rerun this cell to show the HTML representation or trust the notebook. <br />On GitHub, the HTML representation is unable to render, please try loading this page with nbviewer.org.</b></div><div class=\"sk-container\" hidden><div class=\"sk-item sk-dashed-wrapped\"><div class=\"sk-label-container\"><div class=\"sk-label sk-toggleable\"><input class=\"sk-toggleable__control sk-hidden--visually\" id=\"sk-estimator-id-1\" type=\"checkbox\" ><label for=\"sk-estimator-id-1\" class=\"sk-toggleable__label sk-toggleable__label-arrow\">GridSearchCV</label><div class=\"sk-toggleable__content\"><pre>GridSearchCV(cv=StratifiedKFold(n_splits=5, random_state=4, shuffle=True),\n",
       "             estimator=Pipeline(steps=[(&#x27;scaler&#x27;, StandardScaler()),\n",
       "                                       (&#x27;pca&#x27;, PCA()),\n",
       "                                       (&#x27;logistic&#x27;,\n",
       "                                        LogisticRegression(class_weight={0: 0.1,\n",
       "                                                                         1: 0.9}))]),\n",
       "             n_jobs=-1,\n",
       "             param_grid={&#x27;logistic__C&#x27;: [0.1, 0.5, 1, 2, 3, 4, 5, 10],\n",
       "                         &#x27;logistic__penalty&#x27;: [&#x27;l1&#x27;, &#x27;l2&#x27;],\n",
       "                         &#x27;pca__n_components&#x27;: [50, 68]},\n",
       "             scoring=&#x27;roc_auc&#x27;, verbose=1)</pre></div></div></div><div class=\"sk-parallel\"><div class=\"sk-parallel-item\"><div class=\"sk-item\"><div class=\"sk-label-container\"><div class=\"sk-label sk-toggleable\"><input class=\"sk-toggleable__control sk-hidden--visually\" id=\"sk-estimator-id-2\" type=\"checkbox\" ><label for=\"sk-estimator-id-2\" class=\"sk-toggleable__label sk-toggleable__label-arrow\">estimator: Pipeline</label><div class=\"sk-toggleable__content\"><pre>Pipeline(steps=[(&#x27;scaler&#x27;, StandardScaler()), (&#x27;pca&#x27;, PCA()),\n",
       "                (&#x27;logistic&#x27;,\n",
       "                 LogisticRegression(class_weight={0: 0.1, 1: 0.9}))])</pre></div></div></div><div class=\"sk-serial\"><div class=\"sk-item\"><div class=\"sk-serial\"><div class=\"sk-item\"><div class=\"sk-estimator sk-toggleable\"><input class=\"sk-toggleable__control sk-hidden--visually\" id=\"sk-estimator-id-3\" type=\"checkbox\" ><label for=\"sk-estimator-id-3\" class=\"sk-toggleable__label sk-toggleable__label-arrow\">StandardScaler</label><div class=\"sk-toggleable__content\"><pre>StandardScaler()</pre></div></div></div><div class=\"sk-item\"><div class=\"sk-estimator sk-toggleable\"><input class=\"sk-toggleable__control sk-hidden--visually\" id=\"sk-estimator-id-4\" type=\"checkbox\" ><label for=\"sk-estimator-id-4\" class=\"sk-toggleable__label sk-toggleable__label-arrow\">PCA</label><div class=\"sk-toggleable__content\"><pre>PCA()</pre></div></div></div><div class=\"sk-item\"><div class=\"sk-estimator sk-toggleable\"><input class=\"sk-toggleable__control sk-hidden--visually\" id=\"sk-estimator-id-5\" type=\"checkbox\" ><label for=\"sk-estimator-id-5\" class=\"sk-toggleable__label sk-toggleable__label-arrow\">LogisticRegression</label><div class=\"sk-toggleable__content\"><pre>LogisticRegression(class_weight={0: 0.1, 1: 0.9})</pre></div></div></div></div></div></div></div></div></div></div></div></div>"
      ],
      "text/plain": [
       "GridSearchCV(cv=StratifiedKFold(n_splits=5, random_state=4, shuffle=True),\n",
       "             estimator=Pipeline(steps=[('scaler', StandardScaler()),\n",
       "                                       ('pca', PCA()),\n",
       "                                       ('logistic',\n",
       "                                        LogisticRegression(class_weight={0: 0.1,\n",
       "                                                                         1: 0.9}))]),\n",
       "             n_jobs=-1,\n",
       "             param_grid={'logistic__C': [0.1, 0.5, 1, 2, 3, 4, 5, 10],\n",
       "                         'logistic__penalty': ['l1', 'l2'],\n",
       "                         'pca__n_components': [50, 68]},\n",
       "             scoring='roc_auc', verbose=1)"
      ]
     },
     "execution_count": 87,
     "metadata": {},
     "output_type": "execute_result"
    }
   ],
   "source": [
    "# fit model\n",
    "model.fit(X, y)"
   ]
  },
  {
   "cell_type": "code",
   "execution_count": 88,
   "metadata": {},
   "outputs": [
    {
     "data": {
      "text/html": [
       "<div>\n",
       "<style scoped>\n",
       "    .dataframe tbody tr th:only-of-type {\n",
       "        vertical-align: middle;\n",
       "    }\n",
       "\n",
       "    .dataframe tbody tr th {\n",
       "        vertical-align: top;\n",
       "    }\n",
       "\n",
       "    .dataframe thead th {\n",
       "        text-align: right;\n",
       "    }\n",
       "</style>\n",
       "<table border=\"1\" class=\"dataframe\">\n",
       "  <thead>\n",
       "    <tr style=\"text-align: right;\">\n",
       "      <th></th>\n",
       "      <th>mean_fit_time</th>\n",
       "      <th>std_fit_time</th>\n",
       "      <th>mean_score_time</th>\n",
       "      <th>std_score_time</th>\n",
       "      <th>param_logistic__C</th>\n",
       "      <th>param_logistic__penalty</th>\n",
       "      <th>param_pca__n_components</th>\n",
       "      <th>params</th>\n",
       "      <th>split0_test_score</th>\n",
       "      <th>split1_test_score</th>\n",
       "      <th>split2_test_score</th>\n",
       "      <th>split3_test_score</th>\n",
       "      <th>split4_test_score</th>\n",
       "      <th>mean_test_score</th>\n",
       "      <th>std_test_score</th>\n",
       "      <th>rank_test_score</th>\n",
       "    </tr>\n",
       "  </thead>\n",
       "  <tbody>\n",
       "    <tr>\n",
       "      <th>0</th>\n",
       "      <td>2.443617</td>\n",
       "      <td>0.130353</td>\n",
       "      <td>0.000000</td>\n",
       "      <td>0.000000</td>\n",
       "      <td>0.1</td>\n",
       "      <td>l1</td>\n",
       "      <td>50</td>\n",
       "      <td>{'logistic__C': 0.1, 'logistic__penalty': 'l1'...</td>\n",
       "      <td>NaN</td>\n",
       "      <td>NaN</td>\n",
       "      <td>NaN</td>\n",
       "      <td>NaN</td>\n",
       "      <td>NaN</td>\n",
       "      <td>NaN</td>\n",
       "      <td>NaN</td>\n",
       "      <td>32</td>\n",
       "    </tr>\n",
       "    <tr>\n",
       "      <th>1</th>\n",
       "      <td>3.253237</td>\n",
       "      <td>0.223364</td>\n",
       "      <td>0.000000</td>\n",
       "      <td>0.000000</td>\n",
       "      <td>0.1</td>\n",
       "      <td>l1</td>\n",
       "      <td>68</td>\n",
       "      <td>{'logistic__C': 0.1, 'logistic__penalty': 'l1'...</td>\n",
       "      <td>NaN</td>\n",
       "      <td>NaN</td>\n",
       "      <td>NaN</td>\n",
       "      <td>NaN</td>\n",
       "      <td>NaN</td>\n",
       "      <td>NaN</td>\n",
       "      <td>NaN</td>\n",
       "      <td>24</td>\n",
       "    </tr>\n",
       "    <tr>\n",
       "      <th>2</th>\n",
       "      <td>2.597150</td>\n",
       "      <td>0.302223</td>\n",
       "      <td>0.102225</td>\n",
       "      <td>0.017471</td>\n",
       "      <td>0.1</td>\n",
       "      <td>l2</td>\n",
       "      <td>50</td>\n",
       "      <td>{'logistic__C': 0.1, 'logistic__penalty': 'l2'...</td>\n",
       "      <td>0.909588</td>\n",
       "      <td>0.897007</td>\n",
       "      <td>0.890910</td>\n",
       "      <td>0.902656</td>\n",
       "      <td>0.893263</td>\n",
       "      <td>0.898685</td>\n",
       "      <td>0.006742</td>\n",
       "      <td>9</td>\n",
       "    </tr>\n",
       "    <tr>\n",
       "      <th>3</th>\n",
       "      <td>3.815090</td>\n",
       "      <td>0.421480</td>\n",
       "      <td>0.121231</td>\n",
       "      <td>0.023133</td>\n",
       "      <td>0.1</td>\n",
       "      <td>l2</td>\n",
       "      <td>68</td>\n",
       "      <td>{'logistic__C': 0.1, 'logistic__penalty': 'l2'...</td>\n",
       "      <td>0.910589</td>\n",
       "      <td>0.899179</td>\n",
       "      <td>0.890531</td>\n",
       "      <td>0.904738</td>\n",
       "      <td>0.894630</td>\n",
       "      <td>0.899934</td>\n",
       "      <td>0.007124</td>\n",
       "      <td>5</td>\n",
       "    </tr>\n",
       "    <tr>\n",
       "      <th>4</th>\n",
       "      <td>2.356684</td>\n",
       "      <td>0.132595</td>\n",
       "      <td>0.000000</td>\n",
       "      <td>0.000000</td>\n",
       "      <td>0.5</td>\n",
       "      <td>l1</td>\n",
       "      <td>50</td>\n",
       "      <td>{'logistic__C': 0.5, 'logistic__penalty': 'l1'...</td>\n",
       "      <td>NaN</td>\n",
       "      <td>NaN</td>\n",
       "      <td>NaN</td>\n",
       "      <td>NaN</td>\n",
       "      <td>NaN</td>\n",
       "      <td>NaN</td>\n",
       "      <td>NaN</td>\n",
       "      <td>30</td>\n",
       "    </tr>\n",
       "    <tr>\n",
       "      <th>5</th>\n",
       "      <td>3.323238</td>\n",
       "      <td>0.475977</td>\n",
       "      <td>0.000000</td>\n",
       "      <td>0.000000</td>\n",
       "      <td>0.5</td>\n",
       "      <td>l1</td>\n",
       "      <td>68</td>\n",
       "      <td>{'logistic__C': 0.5, 'logistic__penalty': 'l1'...</td>\n",
       "      <td>NaN</td>\n",
       "      <td>NaN</td>\n",
       "      <td>NaN</td>\n",
       "      <td>NaN</td>\n",
       "      <td>NaN</td>\n",
       "      <td>NaN</td>\n",
       "      <td>NaN</td>\n",
       "      <td>29</td>\n",
       "    </tr>\n",
       "    <tr>\n",
       "      <th>6</th>\n",
       "      <td>2.930907</td>\n",
       "      <td>0.309421</td>\n",
       "      <td>0.128430</td>\n",
       "      <td>0.045107</td>\n",
       "      <td>0.5</td>\n",
       "      <td>l2</td>\n",
       "      <td>50</td>\n",
       "      <td>{'logistic__C': 0.5, 'logistic__penalty': 'l2'...</td>\n",
       "      <td>0.909149</td>\n",
       "      <td>0.897117</td>\n",
       "      <td>0.889795</td>\n",
       "      <td>0.903533</td>\n",
       "      <td>0.893548</td>\n",
       "      <td>0.898628</td>\n",
       "      <td>0.006941</td>\n",
       "      <td>10</td>\n",
       "    </tr>\n",
       "    <tr>\n",
       "      <th>7</th>\n",
       "      <td>3.702519</td>\n",
       "      <td>0.057462</td>\n",
       "      <td>0.111023</td>\n",
       "      <td>0.016772</td>\n",
       "      <td>0.5</td>\n",
       "      <td>l2</td>\n",
       "      <td>68</td>\n",
       "      <td>{'logistic__C': 0.5, 'logistic__penalty': 'l2'...</td>\n",
       "      <td>0.910798</td>\n",
       "      <td>0.898772</td>\n",
       "      <td>0.890298</td>\n",
       "      <td>0.905207</td>\n",
       "      <td>0.894930</td>\n",
       "      <td>0.900001</td>\n",
       "      <td>0.007281</td>\n",
       "      <td>3</td>\n",
       "    </tr>\n",
       "    <tr>\n",
       "      <th>8</th>\n",
       "      <td>2.219195</td>\n",
       "      <td>0.300595</td>\n",
       "      <td>0.000000</td>\n",
       "      <td>0.000000</td>\n",
       "      <td>1</td>\n",
       "      <td>l1</td>\n",
       "      <td>50</td>\n",
       "      <td>{'logistic__C': 1, 'logistic__penalty': 'l1', ...</td>\n",
       "      <td>NaN</td>\n",
       "      <td>NaN</td>\n",
       "      <td>NaN</td>\n",
       "      <td>NaN</td>\n",
       "      <td>NaN</td>\n",
       "      <td>NaN</td>\n",
       "      <td>NaN</td>\n",
       "      <td>28</td>\n",
       "    </tr>\n",
       "    <tr>\n",
       "      <th>9</th>\n",
       "      <td>3.322602</td>\n",
       "      <td>0.397252</td>\n",
       "      <td>0.000000</td>\n",
       "      <td>0.000000</td>\n",
       "      <td>1</td>\n",
       "      <td>l1</td>\n",
       "      <td>68</td>\n",
       "      <td>{'logistic__C': 1, 'logistic__penalty': 'l1', ...</td>\n",
       "      <td>NaN</td>\n",
       "      <td>NaN</td>\n",
       "      <td>NaN</td>\n",
       "      <td>NaN</td>\n",
       "      <td>NaN</td>\n",
       "      <td>NaN</td>\n",
       "      <td>NaN</td>\n",
       "      <td>27</td>\n",
       "    </tr>\n",
       "    <tr>\n",
       "      <th>10</th>\n",
       "      <td>3.027826</td>\n",
       "      <td>0.326250</td>\n",
       "      <td>0.111685</td>\n",
       "      <td>0.034822</td>\n",
       "      <td>1</td>\n",
       "      <td>l2</td>\n",
       "      <td>50</td>\n",
       "      <td>{'logistic__C': 1, 'logistic__penalty': 'l2', ...</td>\n",
       "      <td>0.909109</td>\n",
       "      <td>0.896420</td>\n",
       "      <td>0.890389</td>\n",
       "      <td>0.903157</td>\n",
       "      <td>0.893035</td>\n",
       "      <td>0.898422</td>\n",
       "      <td>0.006844</td>\n",
       "      <td>14</td>\n",
       "    </tr>\n",
       "    <tr>\n",
       "      <th>11</th>\n",
       "      <td>4.475149</td>\n",
       "      <td>0.561831</td>\n",
       "      <td>0.114570</td>\n",
       "      <td>0.020010</td>\n",
       "      <td>1</td>\n",
       "      <td>l2</td>\n",
       "      <td>68</td>\n",
       "      <td>{'logistic__C': 1, 'logistic__penalty': 'l2', ...</td>\n",
       "      <td>0.910868</td>\n",
       "      <td>0.899056</td>\n",
       "      <td>0.890394</td>\n",
       "      <td>0.905021</td>\n",
       "      <td>0.894476</td>\n",
       "      <td>0.899963</td>\n",
       "      <td>0.007308</td>\n",
       "      <td>4</td>\n",
       "    </tr>\n",
       "    <tr>\n",
       "      <th>12</th>\n",
       "      <td>2.122220</td>\n",
       "      <td>0.372346</td>\n",
       "      <td>0.000000</td>\n",
       "      <td>0.000000</td>\n",
       "      <td>2</td>\n",
       "      <td>l1</td>\n",
       "      <td>50</td>\n",
       "      <td>{'logistic__C': 2, 'logistic__penalty': 'l1', ...</td>\n",
       "      <td>NaN</td>\n",
       "      <td>NaN</td>\n",
       "      <td>NaN</td>\n",
       "      <td>NaN</td>\n",
       "      <td>NaN</td>\n",
       "      <td>NaN</td>\n",
       "      <td>NaN</td>\n",
       "      <td>26</td>\n",
       "    </tr>\n",
       "    <tr>\n",
       "      <th>13</th>\n",
       "      <td>3.100765</td>\n",
       "      <td>0.414504</td>\n",
       "      <td>0.000000</td>\n",
       "      <td>0.000000</td>\n",
       "      <td>2</td>\n",
       "      <td>l1</td>\n",
       "      <td>68</td>\n",
       "      <td>{'logistic__C': 2, 'logistic__penalty': 'l1', ...</td>\n",
       "      <td>NaN</td>\n",
       "      <td>NaN</td>\n",
       "      <td>NaN</td>\n",
       "      <td>NaN</td>\n",
       "      <td>NaN</td>\n",
       "      <td>NaN</td>\n",
       "      <td>NaN</td>\n",
       "      <td>25</td>\n",
       "    </tr>\n",
       "    <tr>\n",
       "      <th>14</th>\n",
       "      <td>2.657047</td>\n",
       "      <td>0.400976</td>\n",
       "      <td>0.110387</td>\n",
       "      <td>0.017591</td>\n",
       "      <td>2</td>\n",
       "      <td>l2</td>\n",
       "      <td>50</td>\n",
       "      <td>{'logistic__C': 2, 'logistic__penalty': 'l2', ...</td>\n",
       "      <td>0.909060</td>\n",
       "      <td>0.896600</td>\n",
       "      <td>0.890320</td>\n",
       "      <td>0.902955</td>\n",
       "      <td>0.893123</td>\n",
       "      <td>0.898412</td>\n",
       "      <td>0.006793</td>\n",
       "      <td>15</td>\n",
       "    </tr>\n",
       "    <tr>\n",
       "      <th>15</th>\n",
       "      <td>3.713346</td>\n",
       "      <td>0.322527</td>\n",
       "      <td>0.118168</td>\n",
       "      <td>0.019639</td>\n",
       "      <td>2</td>\n",
       "      <td>l2</td>\n",
       "      <td>68</td>\n",
       "      <td>{'logistic__C': 2, 'logistic__penalty': 'l2', ...</td>\n",
       "      <td>0.910191</td>\n",
       "      <td>0.899293</td>\n",
       "      <td>0.893035</td>\n",
       "      <td>0.904827</td>\n",
       "      <td>0.895450</td>\n",
       "      <td>0.900559</td>\n",
       "      <td>0.006250</td>\n",
       "      <td>1</td>\n",
       "    </tr>\n",
       "    <tr>\n",
       "      <th>16</th>\n",
       "      <td>2.108892</td>\n",
       "      <td>0.329109</td>\n",
       "      <td>0.000000</td>\n",
       "      <td>0.000000</td>\n",
       "      <td>3</td>\n",
       "      <td>l1</td>\n",
       "      <td>50</td>\n",
       "      <td>{'logistic__C': 3, 'logistic__penalty': 'l1', ...</td>\n",
       "      <td>NaN</td>\n",
       "      <td>NaN</td>\n",
       "      <td>NaN</td>\n",
       "      <td>NaN</td>\n",
       "      <td>NaN</td>\n",
       "      <td>NaN</td>\n",
       "      <td>NaN</td>\n",
       "      <td>22</td>\n",
       "    </tr>\n",
       "    <tr>\n",
       "      <th>17</th>\n",
       "      <td>3.349967</td>\n",
       "      <td>0.410523</td>\n",
       "      <td>0.000000</td>\n",
       "      <td>0.000000</td>\n",
       "      <td>3</td>\n",
       "      <td>l1</td>\n",
       "      <td>68</td>\n",
       "      <td>{'logistic__C': 3, 'logistic__penalty': 'l1', ...</td>\n",
       "      <td>NaN</td>\n",
       "      <td>NaN</td>\n",
       "      <td>NaN</td>\n",
       "      <td>NaN</td>\n",
       "      <td>NaN</td>\n",
       "      <td>NaN</td>\n",
       "      <td>NaN</td>\n",
       "      <td>23</td>\n",
       "    </tr>\n",
       "    <tr>\n",
       "      <th>18</th>\n",
       "      <td>2.819736</td>\n",
       "      <td>0.444179</td>\n",
       "      <td>0.104825</td>\n",
       "      <td>0.030636</td>\n",
       "      <td>3</td>\n",
       "      <td>l2</td>\n",
       "      <td>50</td>\n",
       "      <td>{'logistic__C': 3, 'logistic__penalty': 'l2', ...</td>\n",
       "      <td>0.908744</td>\n",
       "      <td>0.896901</td>\n",
       "      <td>0.889984</td>\n",
       "      <td>0.903228</td>\n",
       "      <td>0.893565</td>\n",
       "      <td>0.898484</td>\n",
       "      <td>0.006734</td>\n",
       "      <td>11</td>\n",
       "    </tr>\n",
       "    <tr>\n",
       "      <th>19</th>\n",
       "      <td>3.890222</td>\n",
       "      <td>0.587885</td>\n",
       "      <td>0.113827</td>\n",
       "      <td>0.010363</td>\n",
       "      <td>3</td>\n",
       "      <td>l2</td>\n",
       "      <td>68</td>\n",
       "      <td>{'logistic__C': 3, 'logistic__penalty': 'l2', ...</td>\n",
       "      <td>0.911350</td>\n",
       "      <td>0.898626</td>\n",
       "      <td>0.890821</td>\n",
       "      <td>0.904583</td>\n",
       "      <td>0.893979</td>\n",
       "      <td>0.899872</td>\n",
       "      <td>0.007377</td>\n",
       "      <td>6</td>\n",
       "    </tr>\n",
       "    <tr>\n",
       "      <th>20</th>\n",
       "      <td>2.032693</td>\n",
       "      <td>0.291305</td>\n",
       "      <td>0.000000</td>\n",
       "      <td>0.000000</td>\n",
       "      <td>4</td>\n",
       "      <td>l1</td>\n",
       "      <td>50</td>\n",
       "      <td>{'logistic__C': 4, 'logistic__penalty': 'l1', ...</td>\n",
       "      <td>NaN</td>\n",
       "      <td>NaN</td>\n",
       "      <td>NaN</td>\n",
       "      <td>NaN</td>\n",
       "      <td>NaN</td>\n",
       "      <td>NaN</td>\n",
       "      <td>NaN</td>\n",
       "      <td>31</td>\n",
       "    </tr>\n",
       "    <tr>\n",
       "      <th>21</th>\n",
       "      <td>3.002559</td>\n",
       "      <td>0.365522</td>\n",
       "      <td>0.000000</td>\n",
       "      <td>0.000000</td>\n",
       "      <td>4</td>\n",
       "      <td>l1</td>\n",
       "      <td>68</td>\n",
       "      <td>{'logistic__C': 4, 'logistic__penalty': 'l1', ...</td>\n",
       "      <td>NaN</td>\n",
       "      <td>NaN</td>\n",
       "      <td>NaN</td>\n",
       "      <td>NaN</td>\n",
       "      <td>NaN</td>\n",
       "      <td>NaN</td>\n",
       "      <td>NaN</td>\n",
       "      <td>21</td>\n",
       "    </tr>\n",
       "    <tr>\n",
       "      <th>22</th>\n",
       "      <td>2.517606</td>\n",
       "      <td>0.257108</td>\n",
       "      <td>0.098619</td>\n",
       "      <td>0.010689</td>\n",
       "      <td>4</td>\n",
       "      <td>l2</td>\n",
       "      <td>50</td>\n",
       "      <td>{'logistic__C': 4, 'logistic__penalty': 'l2', ...</td>\n",
       "      <td>0.909661</td>\n",
       "      <td>0.896480</td>\n",
       "      <td>0.889970</td>\n",
       "      <td>0.902721</td>\n",
       "      <td>0.893346</td>\n",
       "      <td>0.898436</td>\n",
       "      <td>0.007011</td>\n",
       "      <td>13</td>\n",
       "    </tr>\n",
       "    <tr>\n",
       "      <th>23</th>\n",
       "      <td>3.986137</td>\n",
       "      <td>0.273759</td>\n",
       "      <td>0.112624</td>\n",
       "      <td>0.024374</td>\n",
       "      <td>4</td>\n",
       "      <td>l2</td>\n",
       "      <td>68</td>\n",
       "      <td>{'logistic__C': 4, 'logistic__penalty': 'l2', ...</td>\n",
       "      <td>0.910887</td>\n",
       "      <td>0.897874</td>\n",
       "      <td>0.891590</td>\n",
       "      <td>0.904892</td>\n",
       "      <td>0.893866</td>\n",
       "      <td>0.899822</td>\n",
       "      <td>0.007144</td>\n",
       "      <td>7</td>\n",
       "    </tr>\n",
       "    <tr>\n",
       "      <th>24</th>\n",
       "      <td>2.046690</td>\n",
       "      <td>0.066041</td>\n",
       "      <td>0.000000</td>\n",
       "      <td>0.000000</td>\n",
       "      <td>5</td>\n",
       "      <td>l1</td>\n",
       "      <td>50</td>\n",
       "      <td>{'logistic__C': 5, 'logistic__penalty': 'l1', ...</td>\n",
       "      <td>NaN</td>\n",
       "      <td>NaN</td>\n",
       "      <td>NaN</td>\n",
       "      <td>NaN</td>\n",
       "      <td>NaN</td>\n",
       "      <td>NaN</td>\n",
       "      <td>NaN</td>\n",
       "      <td>19</td>\n",
       "    </tr>\n",
       "    <tr>\n",
       "      <th>25</th>\n",
       "      <td>3.109883</td>\n",
       "      <td>0.335462</td>\n",
       "      <td>0.000000</td>\n",
       "      <td>0.000000</td>\n",
       "      <td>5</td>\n",
       "      <td>l1</td>\n",
       "      <td>68</td>\n",
       "      <td>{'logistic__C': 5, 'logistic__penalty': 'l1', ...</td>\n",
       "      <td>NaN</td>\n",
       "      <td>NaN</td>\n",
       "      <td>NaN</td>\n",
       "      <td>NaN</td>\n",
       "      <td>NaN</td>\n",
       "      <td>NaN</td>\n",
       "      <td>NaN</td>\n",
       "      <td>18</td>\n",
       "    </tr>\n",
       "    <tr>\n",
       "      <th>26</th>\n",
       "      <td>2.698336</td>\n",
       "      <td>0.366401</td>\n",
       "      <td>0.120424</td>\n",
       "      <td>0.024343</td>\n",
       "      <td>5</td>\n",
       "      <td>l2</td>\n",
       "      <td>50</td>\n",
       "      <td>{'logistic__C': 5, 'logistic__penalty': 'l2', ...</td>\n",
       "      <td>0.909812</td>\n",
       "      <td>0.896438</td>\n",
       "      <td>0.889836</td>\n",
       "      <td>0.903126</td>\n",
       "      <td>0.893120</td>\n",
       "      <td>0.898466</td>\n",
       "      <td>0.007178</td>\n",
       "      <td>12</td>\n",
       "    </tr>\n",
       "    <tr>\n",
       "      <th>27</th>\n",
       "      <td>4.523035</td>\n",
       "      <td>0.563855</td>\n",
       "      <td>0.138139</td>\n",
       "      <td>0.023228</td>\n",
       "      <td>5</td>\n",
       "      <td>l2</td>\n",
       "      <td>68</td>\n",
       "      <td>{'logistic__C': 5, 'logistic__penalty': 'l2', ...</td>\n",
       "      <td>0.910295</td>\n",
       "      <td>0.898174</td>\n",
       "      <td>0.891162</td>\n",
       "      <td>0.904733</td>\n",
       "      <td>0.893360</td>\n",
       "      <td>0.899545</td>\n",
       "      <td>0.007112</td>\n",
       "      <td>8</td>\n",
       "    </tr>\n",
       "    <tr>\n",
       "      <th>28</th>\n",
       "      <td>2.033991</td>\n",
       "      <td>0.262852</td>\n",
       "      <td>0.000000</td>\n",
       "      <td>0.000000</td>\n",
       "      <td>10</td>\n",
       "      <td>l1</td>\n",
       "      <td>50</td>\n",
       "      <td>{'logistic__C': 10, 'logistic__penalty': 'l1',...</td>\n",
       "      <td>NaN</td>\n",
       "      <td>NaN</td>\n",
       "      <td>NaN</td>\n",
       "      <td>NaN</td>\n",
       "      <td>NaN</td>\n",
       "      <td>NaN</td>\n",
       "      <td>NaN</td>\n",
       "      <td>17</td>\n",
       "    </tr>\n",
       "    <tr>\n",
       "      <th>29</th>\n",
       "      <td>2.980768</td>\n",
       "      <td>0.387993</td>\n",
       "      <td>0.000000</td>\n",
       "      <td>0.000000</td>\n",
       "      <td>10</td>\n",
       "      <td>l1</td>\n",
       "      <td>68</td>\n",
       "      <td>{'logistic__C': 10, 'logistic__penalty': 'l1',...</td>\n",
       "      <td>NaN</td>\n",
       "      <td>NaN</td>\n",
       "      <td>NaN</td>\n",
       "      <td>NaN</td>\n",
       "      <td>NaN</td>\n",
       "      <td>NaN</td>\n",
       "      <td>NaN</td>\n",
       "      <td>20</td>\n",
       "    </tr>\n",
       "    <tr>\n",
       "      <th>30</th>\n",
       "      <td>2.508008</td>\n",
       "      <td>0.148068</td>\n",
       "      <td>0.073346</td>\n",
       "      <td>0.007587</td>\n",
       "      <td>10</td>\n",
       "      <td>l2</td>\n",
       "      <td>50</td>\n",
       "      <td>{'logistic__C': 10, 'logistic__penalty': 'l2',...</td>\n",
       "      <td>0.908847</td>\n",
       "      <td>0.896386</td>\n",
       "      <td>0.889839</td>\n",
       "      <td>0.902987</td>\n",
       "      <td>0.893501</td>\n",
       "      <td>0.898312</td>\n",
       "      <td>0.006804</td>\n",
       "      <td>16</td>\n",
       "    </tr>\n",
       "    <tr>\n",
       "      <th>31</th>\n",
       "      <td>2.582280</td>\n",
       "      <td>0.391298</td>\n",
       "      <td>0.033198</td>\n",
       "      <td>0.010932</td>\n",
       "      <td>10</td>\n",
       "      <td>l2</td>\n",
       "      <td>68</td>\n",
       "      <td>{'logistic__C': 10, 'logistic__penalty': 'l2',...</td>\n",
       "      <td>0.910933</td>\n",
       "      <td>0.898608</td>\n",
       "      <td>0.890834</td>\n",
       "      <td>0.904719</td>\n",
       "      <td>0.895238</td>\n",
       "      <td>0.900066</td>\n",
       "      <td>0.007077</td>\n",
       "      <td>2</td>\n",
       "    </tr>\n",
       "  </tbody>\n",
       "</table>\n",
       "</div>"
      ],
      "text/plain": [
       "    mean_fit_time  std_fit_time  mean_score_time  std_score_time  \\\n",
       "0        2.443617      0.130353         0.000000        0.000000   \n",
       "1        3.253237      0.223364         0.000000        0.000000   \n",
       "2        2.597150      0.302223         0.102225        0.017471   \n",
       "3        3.815090      0.421480         0.121231        0.023133   \n",
       "4        2.356684      0.132595         0.000000        0.000000   \n",
       "5        3.323238      0.475977         0.000000        0.000000   \n",
       "6        2.930907      0.309421         0.128430        0.045107   \n",
       "7        3.702519      0.057462         0.111023        0.016772   \n",
       "8        2.219195      0.300595         0.000000        0.000000   \n",
       "9        3.322602      0.397252         0.000000        0.000000   \n",
       "10       3.027826      0.326250         0.111685        0.034822   \n",
       "11       4.475149      0.561831         0.114570        0.020010   \n",
       "12       2.122220      0.372346         0.000000        0.000000   \n",
       "13       3.100765      0.414504         0.000000        0.000000   \n",
       "14       2.657047      0.400976         0.110387        0.017591   \n",
       "15       3.713346      0.322527         0.118168        0.019639   \n",
       "16       2.108892      0.329109         0.000000        0.000000   \n",
       "17       3.349967      0.410523         0.000000        0.000000   \n",
       "18       2.819736      0.444179         0.104825        0.030636   \n",
       "19       3.890222      0.587885         0.113827        0.010363   \n",
       "20       2.032693      0.291305         0.000000        0.000000   \n",
       "21       3.002559      0.365522         0.000000        0.000000   \n",
       "22       2.517606      0.257108         0.098619        0.010689   \n",
       "23       3.986137      0.273759         0.112624        0.024374   \n",
       "24       2.046690      0.066041         0.000000        0.000000   \n",
       "25       3.109883      0.335462         0.000000        0.000000   \n",
       "26       2.698336      0.366401         0.120424        0.024343   \n",
       "27       4.523035      0.563855         0.138139        0.023228   \n",
       "28       2.033991      0.262852         0.000000        0.000000   \n",
       "29       2.980768      0.387993         0.000000        0.000000   \n",
       "30       2.508008      0.148068         0.073346        0.007587   \n",
       "31       2.582280      0.391298         0.033198        0.010932   \n",
       "\n",
       "   param_logistic__C param_logistic__penalty param_pca__n_components  \\\n",
       "0                0.1                      l1                      50   \n",
       "1                0.1                      l1                      68   \n",
       "2                0.1                      l2                      50   \n",
       "3                0.1                      l2                      68   \n",
       "4                0.5                      l1                      50   \n",
       "5                0.5                      l1                      68   \n",
       "6                0.5                      l2                      50   \n",
       "7                0.5                      l2                      68   \n",
       "8                  1                      l1                      50   \n",
       "9                  1                      l1                      68   \n",
       "10                 1                      l2                      50   \n",
       "11                 1                      l2                      68   \n",
       "12                 2                      l1                      50   \n",
       "13                 2                      l1                      68   \n",
       "14                 2                      l2                      50   \n",
       "15                 2                      l2                      68   \n",
       "16                 3                      l1                      50   \n",
       "17                 3                      l1                      68   \n",
       "18                 3                      l2                      50   \n",
       "19                 3                      l2                      68   \n",
       "20                 4                      l1                      50   \n",
       "21                 4                      l1                      68   \n",
       "22                 4                      l2                      50   \n",
       "23                 4                      l2                      68   \n",
       "24                 5                      l1                      50   \n",
       "25                 5                      l1                      68   \n",
       "26                 5                      l2                      50   \n",
       "27                 5                      l2                      68   \n",
       "28                10                      l1                      50   \n",
       "29                10                      l1                      68   \n",
       "30                10                      l2                      50   \n",
       "31                10                      l2                      68   \n",
       "\n",
       "                                               params  split0_test_score  \\\n",
       "0   {'logistic__C': 0.1, 'logistic__penalty': 'l1'...                NaN   \n",
       "1   {'logistic__C': 0.1, 'logistic__penalty': 'l1'...                NaN   \n",
       "2   {'logistic__C': 0.1, 'logistic__penalty': 'l2'...           0.909588   \n",
       "3   {'logistic__C': 0.1, 'logistic__penalty': 'l2'...           0.910589   \n",
       "4   {'logistic__C': 0.5, 'logistic__penalty': 'l1'...                NaN   \n",
       "5   {'logistic__C': 0.5, 'logistic__penalty': 'l1'...                NaN   \n",
       "6   {'logistic__C': 0.5, 'logistic__penalty': 'l2'...           0.909149   \n",
       "7   {'logistic__C': 0.5, 'logistic__penalty': 'l2'...           0.910798   \n",
       "8   {'logistic__C': 1, 'logistic__penalty': 'l1', ...                NaN   \n",
       "9   {'logistic__C': 1, 'logistic__penalty': 'l1', ...                NaN   \n",
       "10  {'logistic__C': 1, 'logistic__penalty': 'l2', ...           0.909109   \n",
       "11  {'logistic__C': 1, 'logistic__penalty': 'l2', ...           0.910868   \n",
       "12  {'logistic__C': 2, 'logistic__penalty': 'l1', ...                NaN   \n",
       "13  {'logistic__C': 2, 'logistic__penalty': 'l1', ...                NaN   \n",
       "14  {'logistic__C': 2, 'logistic__penalty': 'l2', ...           0.909060   \n",
       "15  {'logistic__C': 2, 'logistic__penalty': 'l2', ...           0.910191   \n",
       "16  {'logistic__C': 3, 'logistic__penalty': 'l1', ...                NaN   \n",
       "17  {'logistic__C': 3, 'logistic__penalty': 'l1', ...                NaN   \n",
       "18  {'logistic__C': 3, 'logistic__penalty': 'l2', ...           0.908744   \n",
       "19  {'logistic__C': 3, 'logistic__penalty': 'l2', ...           0.911350   \n",
       "20  {'logistic__C': 4, 'logistic__penalty': 'l1', ...                NaN   \n",
       "21  {'logistic__C': 4, 'logistic__penalty': 'l1', ...                NaN   \n",
       "22  {'logistic__C': 4, 'logistic__penalty': 'l2', ...           0.909661   \n",
       "23  {'logistic__C': 4, 'logistic__penalty': 'l2', ...           0.910887   \n",
       "24  {'logistic__C': 5, 'logistic__penalty': 'l1', ...                NaN   \n",
       "25  {'logistic__C': 5, 'logistic__penalty': 'l1', ...                NaN   \n",
       "26  {'logistic__C': 5, 'logistic__penalty': 'l2', ...           0.909812   \n",
       "27  {'logistic__C': 5, 'logistic__penalty': 'l2', ...           0.910295   \n",
       "28  {'logistic__C': 10, 'logistic__penalty': 'l1',...                NaN   \n",
       "29  {'logistic__C': 10, 'logistic__penalty': 'l1',...                NaN   \n",
       "30  {'logistic__C': 10, 'logistic__penalty': 'l2',...           0.908847   \n",
       "31  {'logistic__C': 10, 'logistic__penalty': 'l2',...           0.910933   \n",
       "\n",
       "    split1_test_score  split2_test_score  split3_test_score  \\\n",
       "0                 NaN                NaN                NaN   \n",
       "1                 NaN                NaN                NaN   \n",
       "2            0.897007           0.890910           0.902656   \n",
       "3            0.899179           0.890531           0.904738   \n",
       "4                 NaN                NaN                NaN   \n",
       "5                 NaN                NaN                NaN   \n",
       "6            0.897117           0.889795           0.903533   \n",
       "7            0.898772           0.890298           0.905207   \n",
       "8                 NaN                NaN                NaN   \n",
       "9                 NaN                NaN                NaN   \n",
       "10           0.896420           0.890389           0.903157   \n",
       "11           0.899056           0.890394           0.905021   \n",
       "12                NaN                NaN                NaN   \n",
       "13                NaN                NaN                NaN   \n",
       "14           0.896600           0.890320           0.902955   \n",
       "15           0.899293           0.893035           0.904827   \n",
       "16                NaN                NaN                NaN   \n",
       "17                NaN                NaN                NaN   \n",
       "18           0.896901           0.889984           0.903228   \n",
       "19           0.898626           0.890821           0.904583   \n",
       "20                NaN                NaN                NaN   \n",
       "21                NaN                NaN                NaN   \n",
       "22           0.896480           0.889970           0.902721   \n",
       "23           0.897874           0.891590           0.904892   \n",
       "24                NaN                NaN                NaN   \n",
       "25                NaN                NaN                NaN   \n",
       "26           0.896438           0.889836           0.903126   \n",
       "27           0.898174           0.891162           0.904733   \n",
       "28                NaN                NaN                NaN   \n",
       "29                NaN                NaN                NaN   \n",
       "30           0.896386           0.889839           0.902987   \n",
       "31           0.898608           0.890834           0.904719   \n",
       "\n",
       "    split4_test_score  mean_test_score  std_test_score  rank_test_score  \n",
       "0                 NaN              NaN             NaN               32  \n",
       "1                 NaN              NaN             NaN               24  \n",
       "2            0.893263         0.898685        0.006742                9  \n",
       "3            0.894630         0.899934        0.007124                5  \n",
       "4                 NaN              NaN             NaN               30  \n",
       "5                 NaN              NaN             NaN               29  \n",
       "6            0.893548         0.898628        0.006941               10  \n",
       "7            0.894930         0.900001        0.007281                3  \n",
       "8                 NaN              NaN             NaN               28  \n",
       "9                 NaN              NaN             NaN               27  \n",
       "10           0.893035         0.898422        0.006844               14  \n",
       "11           0.894476         0.899963        0.007308                4  \n",
       "12                NaN              NaN             NaN               26  \n",
       "13                NaN              NaN             NaN               25  \n",
       "14           0.893123         0.898412        0.006793               15  \n",
       "15           0.895450         0.900559        0.006250                1  \n",
       "16                NaN              NaN             NaN               22  \n",
       "17                NaN              NaN             NaN               23  \n",
       "18           0.893565         0.898484        0.006734               11  \n",
       "19           0.893979         0.899872        0.007377                6  \n",
       "20                NaN              NaN             NaN               31  \n",
       "21                NaN              NaN             NaN               21  \n",
       "22           0.893346         0.898436        0.007011               13  \n",
       "23           0.893866         0.899822        0.007144                7  \n",
       "24                NaN              NaN             NaN               19  \n",
       "25                NaN              NaN             NaN               18  \n",
       "26           0.893120         0.898466        0.007178               12  \n",
       "27           0.893360         0.899545        0.007112                8  \n",
       "28                NaN              NaN             NaN               17  \n",
       "29                NaN              NaN             NaN               20  \n",
       "30           0.893501         0.898312        0.006804               16  \n",
       "31           0.895238         0.900066        0.007077                2  "
      ]
     },
     "execution_count": 88,
     "metadata": {},
     "output_type": "execute_result"
    }
   ],
   "source": [
    "# cross validation results\n",
    "pd.DataFrame(model.cv_results_)"
   ]
  },
  {
   "cell_type": "code",
   "execution_count": 89,
   "metadata": {
    "scrolled": true
   },
   "outputs": [
    {
     "name": "stdout",
     "output_type": "stream",
     "text": [
      "Best AUC:  0.9005591667979452\n",
      "Best hyperparameters:  {'logistic__C': 2, 'logistic__penalty': 'l2', 'pca__n_components': 68}\n"
     ]
    }
   ],
   "source": [
    "# print best hyperparameters\n",
    "print(\"Best AUC: \", model.best_score_)\n",
    "print(\"Best hyperparameters: \", model.best_params_)"
   ]
  },
  {
   "cell_type": "code",
   "execution_count": 90,
   "metadata": {},
   "outputs": [
    {
     "name": "stdout",
     "output_type": "stream",
     "text": [
      "Train accuracy\n",
      "0.9068163704163253\n"
     ]
    }
   ],
   "source": [
    "print('Train accuracy')\n",
    "print(model.score(X, y))"
   ]
  },
  {
   "cell_type": "code",
   "execution_count": 91,
   "metadata": {},
   "outputs": [
    {
     "name": "stdout",
     "output_type": "stream",
     "text": [
      "[[23981   666]\n",
      " [ 2960  2393]]\n",
      "\n",
      "\n",
      "F1 Score: 0.865340153045504\n",
      "\n",
      "\n",
      "              precision    recall  f1-score   support\n",
      "\n",
      "       False       0.89      0.97      0.93     24647\n",
      "        True       0.78      0.45      0.57      5353\n",
      "\n",
      "    accuracy                           0.88     30000\n",
      "   macro avg       0.84      0.71      0.75     30000\n",
      "weighted avg       0.87      0.88      0.87     30000\n",
      "\n"
     ]
    },
    {
     "data": {
      "image/png": "[encoded data removed]",
      "text/plain": [
       "<Figure size 864x720 with 2 Axes>"
      ]
     },
     "metadata": {
      "needs_background": "light"
     },
     "output_type": "display_data"
    }
   ],
   "source": [
    "# create onfusion matrix\n",
    "cal_score(x_test=X_test,y_test=y_test,model=model,name='Logistic Regression with hyperparameters')\n"
   ]
  },
  {
   "cell_type": "code",
   "execution_count": 92,
   "metadata": {},
   "outputs": [
    {
     "name": "stdout",
     "output_type": "stream",
     "text": [
      "Sensitivity: \t0.78\n",
      "Specificity: \t0.89\n",
      "AUC:    \t 0.9\n"
     ]
    }
   ],
   "source": [
    "# predict churn on test data\n",
    "y_pred = model.predict(X_test)\n",
    "\n",
    "# check sensitivity and specificity\n",
    "sensitivity, specificity, _ = sensitivity_specificity_support(y_test, y_pred, average='binary')\n",
    "print(\"Sensitivity: \\t\", round(sensitivity, 2), \"\\n\", \"Specificity: \\t\", round(specificity, 2), sep='')\n",
    "\n",
    "# check area under curve\n",
    "y_pred_prob = model.predict_proba(X_test)[:, 1]\n",
    "print(\"AUC:    \\t\", round(roc_auc_score(y_test, y_pred_prob),2))"
   ]
  },
  {
   "cell_type": "markdown",
   "metadata": {},
   "source": [
    "### Random Forest"
   ]
  },
  {
   "cell_type": "code",
   "execution_count": 93,
   "metadata": {},
   "outputs": [],
   "source": [
    "# random forest - the class weight is used to handle class imbalance - it adjusts the cost function\n",
    "forest = RandomForestClassifier(class_weight={0:0.1, 1: 0.9}, n_jobs = -1)\n",
    "\n",
    "# hyperparameter space\n",
    "params = {\"criterion\": ['gini', 'entropy'], \"max_features\": ['auto', 0.4]}\n",
    "\n",
    "# create 5 folds\n",
    "folds = StratifiedKFold(n_splits = 5, shuffle = True, random_state = 4)\n",
    "\n",
    "# create gridsearch object\n",
    "rf_model = GridSearchCV(estimator=forest, cv=folds, param_grid=params, scoring='roc_auc', n_jobs=-1, verbose=1)"
   ]
  },
  {
   "cell_type": "code",
   "execution_count": null,
   "metadata": {},
   "outputs": [
    {
     "name": "stdout",
     "output_type": "stream",
     "text": [
      "Fitting 5 folds for each of 4 candidates, totalling 20 fits\n"
     ]
    }
   ],
   "source": [
    "# fit model\n",
    "rf_model.fit(X, y)"
   ]
  },
  {
   "cell_type": "code",
   "execution_count": null,
   "metadata": {},
   "outputs": [],
   "source": [
    "# print best hyperparameters\n",
    "print(\"Best AUC: \", rf_model.best_score_)\n",
    "print(\"Best hyperparameters: \", rf_model.best_params_)"
   ]
  },
  {
   "cell_type": "code",
   "execution_count": null,
   "metadata": {
    "scrolled": true
   },
   "outputs": [],
   "source": [
    "# create onfusion matrix\n",
    "cal_score(x_test=X_test,y_test=y_test,model=rf_model,name='Random Forest')\n"
   ]
  },
  {
   "cell_type": "code",
   "execution_count": null,
   "metadata": {},
   "outputs": [],
   "source": [
    "# predict churn on test data\n",
    "y_pred = rf_model.predict(X_test)\n",
    "\n",
    "# check sensitivity and specificity\n",
    "sensitivity, specificity, _ = sensitivity_specificity_support(y_test, y_pred, average='binary')\n",
    "print(\"Sensitivity: \\t\", round(sensitivity, 2), \"\\n\", \"Specificity: \\t\", round(specificity, 2), sep='')\n",
    "\n",
    "# check area under curve\n",
    "y_pred_prob = rf_model.predict_proba(X_test)[:, 1]\n",
    "print(\"AUC:    \\t\", round(roc_auc_score(y_test, y_pred_prob),2))"
   ]
  },
  {
   "cell_type": "markdown",
   "metadata": {},
   "source": [
    "### Choosing best features"
   ]
  },
  {
   "cell_type": "code",
   "execution_count": null,
   "metadata": {},
   "outputs": [],
   "source": [
    "# run a random forest model on train data\n",
    "max_features = int(round(np.sqrt(X.shape[1])))    # number of variables to consider to split each node\n",
    "print(max_features)\n",
    "\n",
    "rf_model = RandomForestClassifier(n_estimators=100, max_features=max_features, class_weight={0:0.1, 1: 0.9}, oob_score=True, random_state=4, verbose=1)"
   ]
  },
  {
   "cell_type": "code",
   "execution_count": null,
   "metadata": {},
   "outputs": [],
   "source": [
    "# fit model\n",
    "rf_model.fit(X, y)"
   ]
  },
  {
   "cell_type": "code",
   "execution_count": null,
   "metadata": {},
   "outputs": [],
   "source": [
    "# OOB score\n",
    "rf_model.oob_score_"
   ]
  },
  {
   "cell_type": "code",
   "execution_count": null,
   "metadata": {
    "scrolled": true
   },
   "outputs": [],
   "source": [
    "# create onfusion matrix\n",
    "cal_score(x_test=X_test,y_test=y_test,model=rf_model,name='Random Forest')\n"
   ]
  },
  {
   "cell_type": "code",
   "execution_count": null,
   "metadata": {},
   "outputs": [],
   "source": [
    "# predict churn on test data\n",
    "y_pred = rf_model.predict(X_test)\n",
    "\n",
    "# check sensitivity and specificity\n",
    "sensitivity, specificity, _ = sensitivity_specificity_support(y_test, y_pred, average='binary')\n",
    "print(\"Sensitivity: \\t\", round(sensitivity, 2), \"\\n\", \"Specificity: \\t\", round(specificity, 2), sep='')\n",
    "\n",
    "# check area under curve\n",
    "y_pred_prob = rf_model.predict_proba(X_test)[:, 1]\n",
    "print(\"AUC:    \\t\", round(roc_auc_score(y_test, y_pred_prob),2))"
   ]
  },
  {
   "cell_type": "markdown",
   "metadata": {},
   "source": [
    "### Feature Importance"
   ]
  },
  {
   "cell_type": "code",
   "execution_count": null,
   "metadata": {},
   "outputs": [],
   "source": [
    "# predictors\n",
    "features = df_filtered.drop('churn_probability', axis=1).columns\n",
    "\n",
    "# feature_importance\n",
    "importance = rf_model.feature_importances_\n",
    "\n",
    "# create dataframe\n",
    "feature_importance = pd.DataFrame({'variables': features, 'importance_percentage': importance*100})\n",
    "feature_importance = feature_importance[['variables', 'importance_percentage']]\n",
    "\n",
    "# sort features\n",
    "feature_importance = feature_importance.sort_values('importance_percentage', ascending=False).reset_index(drop=True)\n",
    "print(\"Sum of importance=\", feature_importance.importance_percentage.sum())\n",
    "with pd.option_context('display.max_rows', None,):\n",
    "    print(feature_importance)"
   ]
  },
  {
   "cell_type": "markdown",
   "metadata": {},
   "source": [
    "### Extracting top 20 features"
   ]
  },
  {
   "cell_type": "code",
   "execution_count": null,
   "metadata": {},
   "outputs": [],
   "source": [
    "# extract top 'n' features\n",
    "top_n = 20\n",
    "top_features = feature_importance.variables[0:top_n]"
   ]
  },
  {
   "cell_type": "code",
   "execution_count": null,
   "metadata": {},
   "outputs": [],
   "source": [
    "# plot feature correlation\n",
    "import seaborn as sns\n",
    "plt.rcParams[\"figure.figsize\"] =(10,10)\n",
    "mycmap = sns.diverging_palette(199, 359, s=99, center=\"light\", as_cmap=True)\n",
    "sns.heatmap(data=X[top_features].corr(), center=0.0, cmap=mycmap)"
   ]
  },
  {
   "cell_type": "code",
   "execution_count": null,
   "metadata": {},
   "outputs": [],
   "source": [
    "top_features = ['roam_og_mou_8', 'loc_og_mou_8', 'std_ic_mou_8', 'spl_ic_mou_8', 'max_rech_amt_8', 'total_ic_mou_8', \n",
    "                'arpu_8', 'onnet_mou_8', 'loc_ic_t2m_mou_8']\n",
    "X_train = X[top_features]\n",
    "X_test_1 = X_test[top_features]"
   ]
  },
  {
   "cell_type": "code",
   "execution_count": null,
   "metadata": {},
   "outputs": [],
   "source": [
    "# logistic regression\n",
    "steps = [('scaler', StandardScaler()), \n",
    "         (\"logistic\", LogisticRegression(class_weight={0:0.1, 1:0.9}))\n",
    "        ]\n",
    "\n",
    "# compile pipeline\n",
    "logistic = Pipeline(steps)\n",
    "\n",
    "# hyperparameter space\n",
    "params = {'logistic__C': [0.1, 0.5, 1, 2, 3, 4, 5, 10], 'logistic__penalty': ['l1', 'l2']}\n",
    "\n",
    "# create 5 folds\n",
    "folds = StratifiedKFold(n_splits = 5, shuffle = True, random_state = 4)\n",
    "\n",
    "# create gridsearch object\n",
    "model = GridSearchCV(estimator=logistic, cv=folds, param_grid=params, scoring='roc_auc', n_jobs=-1, verbose=1)"
   ]
  },
  {
   "cell_type": "code",
   "execution_count": null,
   "metadata": {},
   "outputs": [],
   "source": [
    "# fit model\n",
    "model.fit(X_train, y)"
   ]
  },
  {
   "cell_type": "code",
   "execution_count": null,
   "metadata": {},
   "outputs": [],
   "source": [
    "# print best hyperparameters\n",
    "print(\"Best AUC: \", model.best_score_)\n",
    "print(\"Best hyperparameters: \", model.best_params_)"
   ]
  },
  {
   "cell_type": "code",
   "execution_count": null,
   "metadata": {},
   "outputs": [],
   "source": [
    "# create onfusion matrix\n",
    "cal_score(x_test=X_test_1,y_test=y_test,model=model,name='Logistic Regression')\n"
   ]
  },
  {
   "cell_type": "code",
   "execution_count": null,
   "metadata": {},
   "outputs": [],
   "source": [
    "# predict churn on test data\n",
    "y_pred = model.predict(X_test_1)\n",
    "\n",
    "# check sensitivity and specificity\n",
    "sensitivity, specificity, _ = sensitivity_specificity_support(y_test, y_pred, average='binary')\n",
    "print(\"Sensitivity: \\t\", round(sensitivity, 2), \"\\n\", \"Specificity: \\t\", round(specificity, 2), sep='')\n",
    "\n",
    "# check area under curve\n",
    "y_pred_prob = model.predict_proba(X_test_1)[:, 1]\n",
    "print(\"AUC:    \\t\", round(roc_auc_score(y_test, y_pred_prob),2))"
   ]
  },
  {
   "cell_type": "markdown",
   "metadata": {},
   "source": [
    "### Extract the intercept and the coefficients from the logistic model "
   ]
  },
  {
   "cell_type": "code",
   "execution_count": null,
   "metadata": {},
   "outputs": [],
   "source": [
    "logistic_model = model.best_estimator_.named_steps['logistic']"
   ]
  },
  {
   "cell_type": "code",
   "execution_count": null,
   "metadata": {},
   "outputs": [],
   "source": [
    "# intercept\n",
    "intercept_df = pd.DataFrame(logistic_model.intercept_.reshape((1,1)), columns = ['intercept'])"
   ]
  },
  {
   "cell_type": "code",
   "execution_count": null,
   "metadata": {},
   "outputs": [],
   "source": [
    "# coefficients\n",
    "coefficients = logistic_model.coef_.reshape((9, 1)).tolist()\n",
    "coefficients = [val for sublist in coefficients for val in sublist]\n",
    "coefficients = [round(coefficient, 3) for coefficient in coefficients]\n",
    "\n",
    "logistic_features = list(X_train.columns)\n",
    "coefficients_df = pd.DataFrame(logistic_model.coef_, columns=logistic_features)"
   ]
  },
  {
   "cell_type": "code",
   "execution_count": null,
   "metadata": {
    "scrolled": true
   },
   "outputs": [],
   "source": [
    "# concatenate dataframes\n",
    "coefficients = pd.concat([intercept_df, coefficients_df], axis=1)\n",
    "coefficients"
   ]
  },
  {
   "cell_type": "code",
   "execution_count": null,
   "metadata": {},
   "outputs": [],
   "source": []
  },
  {
   "cell_type": "markdown",
   "metadata": {},
   "source": [
    "### Creating a XGBoost Model:"
   ]
  },
  {
   "cell_type": "code",
   "execution_count": null,
   "metadata": {
    "scrolled": true
   },
   "outputs": [],
   "source": [
    "import xgboost as xgb\n",
    "xgb_clf = xgb.XGBClassifier(max_depth=5, n_estimators=300, learning_rate=0.1,\n",
    "                            n_jobs=-1, verbosity=1, gpu_id=-1,subsample=1, colsample_bytree=1,min_child_weight=1,\n",
    "                           objective=\"binary:logistic\",eval_metric=['error','auc'] )\n",
    "xgb_clf.fit(X, y)"
   ]
  },
  {
   "cell_type": "markdown",
   "metadata": {},
   "source": [
    "#### Train Result"
   ]
  },
  {
   "cell_type": "code",
   "execution_count": null,
   "metadata": {},
   "outputs": [],
   "source": [
    "print(\"Classification Report: \\n {}\\n\".format(classification_report(y, xgb_clf.predict(X))))"
   ]
  },
  {
   "cell_type": "markdown",
   "metadata": {},
   "source": [
    "#### Test Result"
   ]
  },
  {
   "cell_type": "code",
   "execution_count": null,
   "metadata": {
    "scrolled": true
   },
   "outputs": [],
   "source": [
    "# create onfusion matrix\n",
    "cal_score(x_test=X_test,y_test=y_test,model=xgb_clf,name='XGBoost')\n"
   ]
  },
  {
   "cell_type": "code",
   "execution_count": null,
   "metadata": {},
   "outputs": [],
   "source": [
    "# predict churn on test data\n",
    "y_pred = xgb_clf.predict(X_test)\n",
    "\n",
    "# check sensitivity and specificity\n",
    "sensitivity, specificity, _ = sensitivity_specificity_support(y_test, y_pred, average='binary')\n",
    "print(\"Sensitivity: \\t\", round(sensitivity, 2), \"\\n\", \"Specificity: \\t\", round(specificity, 2), sep='')\n",
    "\n",
    "# check area under curve\n",
    "y_pred_prob = xgb_clf.predict_proba(X_test)[:, 1]\n",
    "print(\"AUC:    \\t\", round(roc_auc_score(y_test, y_pred_prob),2))"
   ]
  },
  {
   "cell_type": "markdown",
   "metadata": {},
   "source": [
    "### Feature Importance"
   ]
  },
  {
   "cell_type": "code",
   "execution_count": null,
   "metadata": {},
   "outputs": [],
   "source": [
    "# predictors\n",
    "features = df_filtered.drop('churn_probability', axis=1).columns\n",
    "\n",
    "# feature_importance\n",
    "importance = xgb_clf.feature_importances_\n",
    "\n",
    "# create dataframe\n",
    "feature_importance = pd.DataFrame({'variables': features, 'importance_percentage': importance*100})\n",
    "feature_importance = feature_importance[['variables', 'importance_percentage']]\n",
    "\n",
    "# sort features\n",
    "feature_importance = feature_importance.sort_values('importance_percentage', ascending=False).reset_index(drop=True)\n",
    "print(\"Sum of importance=\", feature_importance.importance_percentage.sum())\n",
    "with pd.option_context('display.max_rows', None,):\n",
    "    print(feature_importance)"
   ]
  },
  {
   "cell_type": "markdown",
   "metadata": {},
   "source": [
    "### Extracting top 20 features"
   ]
  },
  {
   "cell_type": "code",
   "execution_count": null,
   "metadata": {},
   "outputs": [],
   "source": [
    "# extract top 'n' features\n",
    "top_n = 20\n",
    "top_features = feature_importance.variables[0:top_n]"
   ]
  },
  {
   "cell_type": "code",
   "execution_count": null,
   "metadata": {},
   "outputs": [],
   "source": [
    "# plot feature correlation\n",
    "import seaborn as sns\n",
    "plt.rcParams[\"figure.figsize\"] =(10,10)\n",
    "mycmap = sns.diverging_palette(199, 359, s=99, center=\"light\", as_cmap=True)\n",
    "sns.heatmap(data=X[top_features].corr(), center=0.0, cmap=mycmap)"
   ]
  },
  {
   "cell_type": "code",
   "execution_count": null,
   "metadata": {},
   "outputs": [],
   "source": [
    "top_features = [\n",
    " 'total_ic_mou_8',             \n",
    "'std_og_mou_7',\n",
    "'av_rech_amt_data_8',\n",
    "'isd_ic_mou_8',\n",
    "'roam_og_mou_8',\n",
    "'loc_ic_mou_8',\n",
    "'last_day_rch_amt_8',\n",
    "'spl_ic_mou_8',\n",
    "'roam_og_mou_7',\n",
    "'total_rech_amt_8' ]\n",
    "X_train = X[top_features]\n",
    "X_test_1 = X_test[top_features]"
   ]
  },
  {
   "cell_type": "code",
   "execution_count": null,
   "metadata": {},
   "outputs": [],
   "source": [
    "# logistic regression\n",
    "steps = [('scaler', StandardScaler()), \n",
    "         (\"logistic\", LogisticRegression(class_weight={0:0.1, 1:0.9}))\n",
    "        ]\n",
    "\n",
    "# compile pipeline\n",
    "logistic = Pipeline(steps)\n",
    "\n",
    "# hyperparameter space\n",
    "params = {'logistic__C': [0.1, 0.5, 1, 2, 3, 4, 5, 10], 'logistic__penalty': ['l1', 'l2']}\n",
    "\n",
    "# create 5 folds\n",
    "folds = StratifiedKFold(n_splits = 5, shuffle = True, random_state = 4)\n",
    "\n",
    "# create gridsearch object\n",
    "model = GridSearchCV(estimator=logistic, cv=folds, param_grid=params, scoring='roc_auc', n_jobs=-1, verbose=1)"
   ]
  },
  {
   "cell_type": "code",
   "execution_count": null,
   "metadata": {
    "scrolled": false
   },
   "outputs": [],
   "source": [
    "# fit model\n",
    "model.fit(X_train, y)"
   ]
  },
  {
   "cell_type": "code",
   "execution_count": null,
   "metadata": {
    "scrolled": true
   },
   "outputs": [],
   "source": [
    "# print best hyperparameters\n",
    "print(\"Best AUC: \", model.best_score_)\n",
    "print(\"Best hyperparameters: \", model.best_params_)"
   ]
  },
  {
   "cell_type": "code",
   "execution_count": null,
   "metadata": {
    "scrolled": true
   },
   "outputs": [],
   "source": [
    "# create onfusion matrix\n",
    "cal_score(x_test=X_test_1,y_test=y_test,model=model,name='Logistic Regression')\n"
   ]
  },
  {
   "cell_type": "code",
   "execution_count": null,
   "metadata": {},
   "outputs": [],
   "source": [
    "# predict churn on test data\n",
    "y_pred = model.predict(X_test_1)\n",
    "\n",
    "# check sensitivity and specificity\n",
    "sensitivity, specificity, _ = sensitivity_specificity_support(y_test, y_pred, average='binary')\n",
    "print(\"Sensitivity: \\t\", round(sensitivity, 2), \"\\n\", \"Specificity: \\t\", round(specificity, 2), sep='')\n",
    "\n",
    "# check area under curve\n",
    "y_pred_prob = model.predict_proba(X_test_1)[:, 1]\n",
    "print(\"AUC:    \\t\", round(roc_auc_score(y_test, y_pred_prob),2))"
   ]
  },
  {
   "cell_type": "code",
   "execution_count": null,
   "metadata": {},
   "outputs": [],
   "source": []
  },
  {
   "cell_type": "markdown",
   "metadata": {},
   "source": [
    "### Extract the intercept and the coefficients from the logistic model "
   ]
  },
  {
   "cell_type": "code",
   "execution_count": null,
   "metadata": {},
   "outputs": [],
   "source": [
    "logistic_model = model.best_estimator_.named_steps['logistic']"
   ]
  },
  {
   "cell_type": "code",
   "execution_count": null,
   "metadata": {},
   "outputs": [],
   "source": [
    "# intercept\n",
    "intercept_df = pd.DataFrame(logistic_model.intercept_.reshape((1,1)), columns = ['intercept'])"
   ]
  },
  {
   "cell_type": "code",
   "execution_count": null,
   "metadata": {
    "scrolled": true
   },
   "outputs": [],
   "source": [
    "# coefficients\n",
    "coefficients = logistic_model.coef_.reshape(10, 1).tolist()\n",
    "coefficients = [val for sublist in coefficients for val in sublist]\n",
    "coefficients = [round(coefficient, 3) for coefficient in coefficients]\n",
    "\n",
    "logistic_features = list(X_train.columns)\n",
    "coefficients_df = pd.DataFrame(logistic_model.coef_, columns=logistic_features)"
   ]
  },
  {
   "cell_type": "code",
   "execution_count": null,
   "metadata": {
    "scrolled": true
   },
   "outputs": [],
   "source": [
    "# concatenate dataframes\n",
    "coefficients = pd.concat([intercept_df, coefficients_df], axis=1)\n",
    "coefficients"
   ]
  },
  {
   "cell_type": "code",
   "execution_count": null,
   "metadata": {},
   "outputs": [],
   "source": []
  },
  {
   "cell_type": "markdown",
   "metadata": {},
   "source": [
    "### Conclusion:"
   ]
  },
  {
   "cell_type": "markdown",
   "metadata": {},
   "source": [
    "The most important features according to XGBoost is providing us the best accuracy of 0.94 and f1-score of 0.939. The top 10 important features according to XGBoost are:\n",
    "\n",
    "- total_ic_mou_8             \n",
    "- std_og_mou_7\n",
    "- av_rech_amt_data_8\n",
    "- isd_ic_mou_8\n",
    "- roam_og_mou_8\n",
    "- loc_ic_mou_8\n",
    "- last_day_rch_amt_8\n",
    "- spl_ic_mou_8\n",
    "- roam_og_mou_7\n",
    "- total_rech_amt_8"
   ]
  },
  {
   "cell_type": "markdown",
   "metadata": {},
   "source": [
    "## Business Insights\n",
    "\n",
    "* Telecom company needs to pay attention to the roaming rates. They need to provide good offers to the customers who are using services from a roaming zone.\n",
    "* The company needs to focus on the STD and ISD rates. Perhaps, the rates are too high. Provide them with some kind of STD and ISD packages.\n",
    "* To look into both of the issues stated above, it is desired that the telecom company collects customer query and complaint data and work on their services according to the needs of customers. "
   ]
  },
  {
   "cell_type": "code",
   "execution_count": null,
   "metadata": {},
   "outputs": [],
   "source": []
  },
  {
   "cell_type": "code",
   "execution_count": null,
   "metadata": {},
   "outputs": [],
   "source": []
  },
  {
   "cell_type": "code",
   "execution_count": null,
   "metadata": {},
   "outputs": [],
   "source": []
  },
  {
   "cell_type": "code",
   "execution_count": null,
   "metadata": {},
   "outputs": [],
   "source": []
  },
  {
   "cell_type": "code",
   "execution_count": null,
   "metadata": {},
   "outputs": [],
   "source": []
  },
  {
   "cell_type": "code",
   "execution_count": null,
   "metadata": {},
   "outputs": [],
   "source": []
  },
  {
   "cell_type": "markdown",
   "metadata": {},
   "source": [
    "#### Submission:"
   ]
  },
  {
   "cell_type": "code",
   "execution_count": null,
   "metadata": {},
   "outputs": [],
   "source": [
    "k = pd.read_csv('test (1).csv')"
   ]
  },
  {
   "cell_type": "code",
   "execution_count": null,
   "metadata": {},
   "outputs": [],
   "source": [
    "probabilities = xgb_clf.predict(X_test)"
   ]
  },
  {
   "cell_type": "code",
   "execution_count": null,
   "metadata": {},
   "outputs": [],
   "source": [
    "submission = pd.DataFrame({'id':k.id,'churn_probability':probabilities})"
   ]
  },
  {
   "cell_type": "code",
   "execution_count": null,
   "metadata": {},
   "outputs": [],
   "source": [
    "submission.to_csv('Submission.csv',index=False)"
   ]
  },
  {
   "cell_type": "code",
   "execution_count": null,
   "metadata": {},
   "outputs": [],
   "source": []
  },
  {
   "cell_type": "code",
   "execution_count": null,
   "metadata": {},
   "outputs": [],
   "source": []
  },
  {
   "cell_type": "code",
   "execution_count": null,
   "metadata": {},
   "outputs": [],
   "source": []
  },
  {
   "cell_type": "code",
   "execution_count": null,
   "metadata": {},
   "outputs": [],
   "source": []
  },
  {
   "cell_type": "code",
   "execution_count": null,
   "metadata": {},
   "outputs": [],
   "source": []
  }
 ],
 "metadata": {
  "kernelspec": {
   "display_name": "Python 3 (ipykernel)",
   "language": "python",
   "name": "python3"
  },
  "language_info": {
   "codemirror_mode": {
    "name": "ipython",
    "version": 3
   },
   "file_extension": ".py",
   "mimetype": "text/x-python",
   "name": "python",
   "nbconvert_exporter": "python",
   "pygments_lexer": "ipython3",
   "version": "3.9.12"
  }
 },
 "nbformat": 4,
 "nbformat_minor": 4
}
